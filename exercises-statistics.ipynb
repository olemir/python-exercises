{
 "cells": [
  {
   "cell_type": "code",
   "execution_count": 2,
   "id": "94a8aa22",
   "metadata": {},
   "outputs": [],
   "source": [
    "import numpy as np"
   ]
  },
  {
   "cell_type": "markdown",
   "id": "bd922160",
   "metadata": {},
   "source": [
    "# Exercise 1"
   ]
  },
  {
   "cell_type": "code",
   "execution_count": 3,
   "id": "3256683a",
   "metadata": {},
   "outputs": [],
   "source": [
    "vals = [8, 12, 16, 24, 4]\n",
    "vals_arr = np.array(vals)"
   ]
  },
  {
   "cell_type": "code",
   "execution_count": 4,
   "id": "92c0f807",
   "metadata": {},
   "outputs": [
    {
     "data": {
      "text/plain": [
       "np.True_"
      ]
     },
     "execution_count": 4,
     "metadata": {},
     "output_type": "execute_result"
    }
   ],
   "source": [
    "mean = np.mean(vals_arr) \n",
    "mean == sum(vals) / len(vals)"
   ]
  },
  {
   "cell_type": "code",
   "execution_count": 12,
   "id": "84bf7a50",
   "metadata": {},
   "outputs": [
    {
     "data": {
      "text/plain": [
       "np.True_"
      ]
     },
     "execution_count": 12,
     "metadata": {},
     "output_type": "execute_result"
    }
   ],
   "source": [
    "dev_mean = [val-mean for val in vals_arr] \n",
    "\n",
    "# Is there another way to calculate the stuff with numpy? Yes there is! The loop is not necessary\n",
    "dev_mean_np = vals - mean\n",
    "\n",
    "np.all(dev_mean_np == dev_mean)"
   ]
  },
  {
   "cell_type": "code",
   "execution_count": null,
   "id": "5ff806ff",
   "metadata": {},
   "outputs": [
    {
     "data": {
      "text/plain": [
       "np.True_"
      ]
     },
     "execution_count": 6,
     "metadata": {},
     "output_type": "execute_result"
    }
   ],
   "source": [
    "# Variance\n",
    "var = np.var(vals)\n",
    "var == sum([(val-mean)**2/len(vals) for val in vals])"
   ]
  },
  {
   "cell_type": "code",
   "execution_count": null,
   "id": "60924c53",
   "metadata": {},
   "outputs": [
    {
     "data": {
      "text/plain": [
       "np.True_"
      ]
     },
     "execution_count": 8,
     "metadata": {},
     "output_type": "execute_result"
    }
   ],
   "source": [
    "# Standard Deviation\n",
    "std = np.std(vals_arr)\n",
    "std == np.sqrt(var)"
   ]
  },
  {
   "cell_type": "code",
   "execution_count": null,
   "id": "b3b8c8a4",
   "metadata": {},
   "outputs": [],
   "source": []
  }
 ],
 "metadata": {
  "kernelspec": {
   "display_name": "base_data_analysis",
   "language": "python",
   "name": "python3"
  },
  "language_info": {
   "codemirror_mode": {
    "name": "ipython",
    "version": 3
   },
   "file_extension": ".py",
   "mimetype": "text/x-python",
   "name": "python",
   "nbconvert_exporter": "python",
   "pygments_lexer": "ipython3",
   "version": "3.12.9"
  }
 },
 "nbformat": 4,
 "nbformat_minor": 5
}
