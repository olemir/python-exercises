{
 "cells": [
  {
   "cell_type": "code",
   "execution_count": 2,
   "id": "94a8aa22",
   "metadata": {},
   "outputs": [],
   "source": [
    "import numpy as np"
   ]
  },
  {
   "cell_type": "markdown",
   "id": "bd922160",
   "metadata": {},
   "source": [
    "# Exercise 1\n",
    "\n",
    "There are 5 numbers in the data set: (8, 12, 16, 24, 4).\n",
    "\n",
    "- What is the mean?\n",
    "- What will be the sum of deviations of individual data points from their mean?\n",
    "- What is the standard deviation?"
   ]
  },
  {
   "cell_type": "code",
   "execution_count": 3,
   "id": "3256683a",
   "metadata": {},
   "outputs": [],
   "source": [
    "vals = [8, 12, 16, 24, 4]\n",
    "vals_arr = np.array(vals)"
   ]
  },
  {
   "cell_type": "code",
   "execution_count": 4,
   "id": "92c0f807",
   "metadata": {},
   "outputs": [
    {
     "data": {
      "text/plain": [
       "np.True_"
      ]
     },
     "execution_count": 4,
     "metadata": {},
     "output_type": "execute_result"
    }
   ],
   "source": [
    "mean = np.mean(vals_arr) \n",
    "mean == sum(vals) / len(vals)"
   ]
  },
  {
   "cell_type": "code",
   "execution_count": 5,
   "id": "84bf7a50",
   "metadata": {},
   "outputs": [
    {
     "data": {
      "text/plain": [
       "np.True_"
      ]
     },
     "execution_count": 5,
     "metadata": {},
     "output_type": "execute_result"
    }
   ],
   "source": [
    "dev_mean = [val-mean for val in vals_arr] \n",
    "\n",
    "# Is there another way to calculate the stuff with numpy? Yes there is! The loop is not necessary\n",
    "dev_mean_np = vals - mean\n",
    "\n",
    "np.all(dev_mean_np == dev_mean)"
   ]
  },
  {
   "cell_type": "code",
   "execution_count": 6,
   "id": "5ff806ff",
   "metadata": {},
   "outputs": [
    {
     "data": {
      "text/plain": [
       "np.True_"
      ]
     },
     "execution_count": 6,
     "metadata": {},
     "output_type": "execute_result"
    }
   ],
   "source": [
    "# Variance\n",
    "var = np.var(vals)\n",
    "var == sum([(val-mean)**2/len(vals) for val in vals])"
   ]
  },
  {
   "cell_type": "code",
   "execution_count": 47,
   "id": "401a471c",
   "metadata": {},
   "outputs": [
    {
     "name": "stdout",
     "output_type": "stream",
     "text": [
      "59.2 47.36\n"
     ]
    }
   ],
   "source": [
    "var_sample = np.var(vals,ddof=1)\n",
    "print(var_sample,var)"
   ]
  },
  {
   "cell_type": "code",
   "execution_count": 7,
   "id": "60924c53",
   "metadata": {},
   "outputs": [
    {
     "data": {
      "text/plain": [
       "np.True_"
      ]
     },
     "execution_count": 7,
     "metadata": {},
     "output_type": "execute_result"
    }
   ],
   "source": [
    "# Standard Deviation\n",
    "std = np.std(vals_arr)\n",
    "std == np.sqrt(var)"
   ]
  },
  {
   "cell_type": "markdown",
   "id": "6c62e4dc",
   "metadata": {},
   "source": [
    "# Exercise 2\n",
    "\n",
    "If some outliers are introduced to the dataset from exercise 1, what will happen to the Standard Deviation? Will it increase, decrease or remain the same?\n",
    "\n",
    "The typical outlier has a large distance to the mean. Thus, the standard deviation will increase, because the average quadratic distance will be increased: \n",
    "\n",
    "$ \\sigma = \\sqrt(\\sum (x_i-\\mu)^2/N) $\n",
    "\n",
    "The standard deviation remains the same or becomes smaller only if values are added that have a smaller or equal distance to the mean."
   ]
  },
  {
   "cell_type": "code",
   "execution_count": 10,
   "id": "89f0a3f8",
   "metadata": {},
   "outputs": [
    {
     "name": "stdout",
     "output_type": "stream",
     "text": [
      "12.8 6.881860213634101\n"
     ]
    }
   ],
   "source": [
    "print(mean, std)"
   ]
  },
  {
   "cell_type": "code",
   "execution_count": null,
   "id": "b3b8c8a4",
   "metadata": {},
   "outputs": [
    {
     "data": {
      "text/plain": [
       "np.float64(23.021728866442675)"
      ]
     },
     "execution_count": 17,
     "metadata": {},
     "output_type": "execute_result"
    }
   ],
   "source": [
    "outliers = np.array([12-21, 12+21, 60, -25])\n",
    "np.std(np.concat((vals_arr, outliers)))"
   ]
  },
  {
   "attachments": {
    "stat-2.jpg": {
     "image/jpeg": "[encoded data removed]"
    }
   },
   "cell_type": "markdown",
   "id": "70e42dab",
   "metadata": {},
   "source": [
    "# Exercise 3 (no Numpy)\n",
    "\n",
    "Suppose the following positively skewed distribution has a median of 30, which one of the following statements is true?\n",
    "\n",
    "Imagine the ordered list of values\n",
    "\n",
    "1. Mean is greater than 30 -> True, the mean will always be larger than the median in a positively skewed distribution.\n",
    "1. Mean is less than 30 -> False\n",
    "1. Mode is greater than 30 -> False, the mode will always be smaller than the median in positively skewed distribution.\n",
    "1. Mode is less than 30 -> False\n",
    "\n",
    "![stat-2.jpg](attachment:stat-2.jpg)"
   ]
  },
  {
   "cell_type": "markdown",
   "id": "25376d8a",
   "metadata": {},
   "source": [
    "# Exercise 4\n",
    "\n",
    "What could be a possible median value for the following data distribution?"
   ]
  },
  {
   "cell_type": "code",
   "execution_count": 46,
   "id": "0f5049d3",
   "metadata": {},
   "outputs": [
    {
     "name": "stdout",
     "output_type": "stream",
     "text": [
      "27.0 True\n"
     ]
    }
   ],
   "source": [
    "bins = [None]*9\n",
    "\n",
    "bins[0] = [10, 10, 10, 10, 11, 11, 12, 13, 14 ]\n",
    "bins[1] = [15, 15, 15, 16, 16, 16, 16, 16, 17, 18, 19, 19]\n",
    "bins[2] = [20, 20, 20, 21, 21, 21, 21, 21, 22, 22, 22, 23, 23, 23, 24, 24, 24]\n",
    "bins[3] = [26, 26, 26, 26, 26, 26, 26, 27, 27, 27, 27, 29, 29, 29, 29, 29, 29, 29, 29, 29]\n",
    "bins[4] = [30, 30, 30, 30, 30, 31, 31, 32, 32, 33, 33, 34, 34]\n",
    "bins[5] = [35, 35, 35, 37, 37, 37, 37, 39, 39, 39]\n",
    "bins[6] = [40, 40, 43, 43, 44, 44]\n",
    "bins[7] = [46, 46, 46, 47, 49]\n",
    "bins[8] = [52, 53, 54]\n",
    "\n",
    "# create list of all data\n",
    "data = []\n",
    "for bin in bins:\n",
    "    data.extend(bin) # NOTE - append adds a list element; extend inserts list\n",
    "\n",
    "# convert to numpy array in order to calculate median\n",
    "data = np.array(data)\n",
    "\n",
    "median_1 = np.median(data)\n",
    "\n",
    "# calculate by \"hand\"\n",
    "median_2 = 0\n",
    "if len(data)>1:\n",
    "    if len(data)%2 == 0:\n",
    "        median_2 = (data[int(len(data)/2)-1] + data[int(len(data)/2)]) / 2\n",
    "    else:\n",
    "        median_2 = data[int((len(data)+1)/2)]\n",
    "\n",
    "print(median_1, median_1 == median_2)"
   ]
  },
  {
   "attachments": {
    "stat-4+.png": {
     "image/png": "[encoded data removed]"
    }
   },
   "cell_type": "markdown",
   "id": "0adff5e3",
   "metadata": {},
   "source": [
    "# Exercise 5\n",
    "\n",
    "Given the following distribution, what is the shape of the distribution? (no Numpy):\n",
    "\n",
    "![stat-4+.png](attachment:stat-4+.png)\n",
    "\n",
    "A positive, bimodal, positively skewed distribution has been fitted."
   ]
  },
  {
   "cell_type": "markdown",
   "id": "20c97fe2",
   "metadata": {},
   "source": [
    "# Exercise 6\n",
    "\n",
    "Which measure of central tendency (mean, median, or mode) best represents the center of the data from exercise 5, and why?\n",
    "\n",
    "* center of the data = ??? \n",
    "* strongly skewed distribution => the mean is not a good value\n",
    "* mode is the first bin; it does not coincide with the maximum of the distribution\n",
    "* median provides the best insight"
   ]
  },
  {
   "cell_type": "markdown",
   "id": "e8a5653f",
   "metadata": {},
   "source": [
    "# Exercise 7\n",
    "\n",
    "From the same data: if the Y-axis represents the number of individuals, and the X-axis represents the salary of the individual in thousands, how many individuals have a salary less than 10 thousand? (no Numpy)"
   ]
  },
  {
   "cell_type": "code",
   "execution_count": 48,
   "id": "fbe6323c",
   "metadata": {},
   "outputs": [
    {
     "data": {
      "text/plain": [
       "139"
      ]
     },
     "execution_count": 48,
     "metadata": {},
     "output_type": "execute_result"
    }
   ],
   "source": [
    "79+60"
   ]
  },
  {
   "cell_type": "markdown",
   "id": "100c875a",
   "metadata": {},
   "source": [
    "# Exercise 8\n",
    "\n",
    "We have a set of positive numbers. If a single value of the set is altered, what must change?\n",
    "\n",
    "- A) Mean -> must change, it's a function of all values\n",
    "- B) Median -> changes, only if the order is changed such that values are shifted from the lower to the upper half or vice versa.\n",
    "- C) Mode(s) -> changes, only if a new mode is created\n",
    "- D) All of these\n",
    "\n",
    "Hint: try to create a Numpy array and calculate mean median and mode, then alter it and see what changes."
   ]
  },
  {
   "cell_type": "code",
   "execution_count": 86,
   "id": "84e2863a",
   "metadata": {},
   "outputs": [
    {
     "name": "stdout",
     "output_type": "stream",
     "text": [
      "81.53571428571429\n",
      "[3 4 5]\n",
      "40.5\n"
     ]
    }
   ],
   "source": [
    "array = np.array([1,2,3,3,3,3,4,4,4,4,5,5,5,5,76,76,76,88,88,99,100,101,104,104,300,300,305,415])\n",
    "\n",
    "# find the mode\n",
    "#find unique values in array along with their counts\n",
    "values, counts = np.unique(array, return_counts=True)\n",
    "#find mode\n",
    "mode_indices = np.argwhere(counts == np.max(counts))[:,0]\n",
    "mode_values = values[mode_indices]\n",
    "\n",
    "print(array.mean())\n",
    "print(mode_values)\n",
    "print(np.median(array))\n"
   ]
  },
  {
   "attachments": {
    "stat-5+.png": {
     "image/png": "[encoded data removed]"
    }
   },
   "cell_type": "markdown",
   "id": "9b485ba7",
   "metadata": {},
   "source": [
    "# Exercise 9\n",
    "\n",
    "The following chart shows hourly consultancy rates of 10 employees. Calculate the standard deviation of the rates from the 10 employees.\n",
    "\n",
    "![stat-5+.png](attachment:stat-5+.png)"
   ]
  },
  {
   "cell_type": "code",
   "execution_count": null,
   "id": "db01836b",
   "metadata": {},
   "outputs": [
    {
     "data": {
      "text/plain": [
       "np.float64(2.6)"
      ]
     },
     "execution_count": 91,
     "metadata": {},
     "output_type": "execute_result"
    }
   ],
   "source": [
    "counts = [3,2,1,4]\n",
    "values = [25,40,35,50]\n",
    "\n",
    "# create data from counts and values\n",
    "data = []\n",
    "for count,value in zip(values,counts):\n",
    "    data.extend([value]*int(count))\n",
    "\n",
    "data = np.array(data)\n",
    "\n",
    "# TODO is there a numpy version of this?\n",
    "\n",
    "print(data.mean())"
   ]
  },
  {
   "cell_type": "markdown",
   "id": "bf116f16",
   "metadata": {},
   "source": [
    "# Exercise 10 (no Numpy)\n",
    "\n",
    "Which of the following random variables is discrete?\n",
    "\n",
    "- A) the length of time a battery lasts\n",
    "- B) the number of pens purchased by a student in a year -> discrete\n",
    "- C) the percentage of cows in a cattle firm that have been vaccinated\n",
    "- D) the distance between a pair of towns"
   ]
  },
  {
   "cell_type": "markdown",
   "id": "8b0d33ed",
   "metadata": {},
   "source": [
    "# Exercise 11 (no Numpy)\n",
    "\n",
    "Which of the following normal distributions will have the greatest spread?\n",
    "\n",
    "- A) mu = 5, sigma = 1.5\n",
    "- B) mu = 10, sigma = 1.0\n",
    "- **C) mu = 5, sigma = 1.65**\n",
    "- D) mu = 8, sigma = 1.2\n",
    "- E) mu = 10, sigma = 1.6"
   ]
  },
  {
   "cell_type": "markdown",
   "id": "e52d8efe",
   "metadata": {},
   "source": []
  }
 ],
 "metadata": {
  "kernelspec": {
   "display_name": "base_data_analysis",
   "language": "python",
   "name": "python3"
  },
  "language_info": {
   "codemirror_mode": {
    "name": "ipython",
    "version": 3
   },
   "file_extension": ".py",
   "mimetype": "text/x-python",
   "name": "python",
   "nbconvert_exporter": "python",
   "pygments_lexer": "ipython3",
   "version": "3.12.9"
  }
 },
 "nbformat": 4,
 "nbformat_minor": 5
}
