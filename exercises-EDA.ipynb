{
 "cells": [
  {
   "cell_type": "code",
   "execution_count": 549,
   "id": "1e795a9a",
   "metadata": {},
   "outputs": [],
   "source": [
    "import pandas as pd\n",
    "import numpy as np"
   ]
  },
  {
   "cell_type": "code",
   "execution_count": 550,
   "id": "189209a8",
   "metadata": {},
   "outputs": [],
   "source": [
    "pd.options.mode.copy_on_write = \"warn\""
   ]
  },
  {
   "cell_type": "markdown",
   "id": "4df03f1c",
   "metadata": {},
   "source": [
    "# Exploratory Data Analysis with Pandas"
   ]
  },
  {
   "cell_type": "code",
   "execution_count": null,
   "id": "ff1f9dd9",
   "metadata": {},
   "outputs": [],
   "source": [
    "# import raw data\n",
    "movies = pd.read_csv('data\\\\movies\\\\movies_2.csv') # NOTE escaping the '\\', because there was a warning"
   ]
  },
  {
   "cell_type": "code",
   "execution_count": 552,
   "id": "5318a0c7",
   "metadata": {},
   "outputs": [
    {
     "data": {
      "application/vnd.microsoft.datawrangler.viewer.v0+json": {
       "columns": [
        {
         "name": "index",
         "rawType": "int64",
         "type": "integer"
        },
        {
         "name": "MovieID",
         "rawType": "int64",
         "type": "integer"
        },
        {
         "name": "Title",
         "rawType": "object",
         "type": "string"
        },
        {
         "name": "MPAA Rating",
         "rawType": "object",
         "type": "string"
        },
        {
         "name": "Budget",
         "rawType": "float64",
         "type": "float"
        },
        {
         "name": "Gross",
         "rawType": "float64",
         "type": "float"
        },
        {
         "name": "Release Date",
         "rawType": "object",
         "type": "string"
        },
        {
         "name": "Genre",
         "rawType": "object",
         "type": "string"
        },
        {
         "name": "Runtime",
         "rawType": "float64",
         "type": "float"
        },
        {
         "name": "Rating",
         "rawType": "float64",
         "type": "float"
        },
        {
         "name": "Rating Count",
         "rawType": "float64",
         "type": "float"
        },
        {
         "name": "Summary",
         "rawType": "object",
         "type": "string"
        }
       ],
       "conversionMethod": "pd.DataFrame",
       "ref": "7897639e-546f-467b-a9a2-83619bd0cb90",
       "rows": [
        [
         "0",
         "1",
         "Look Who's Talking",
         "PG-13",
         "7500000.0",
         "296000000.0",
         "1989-10-12",
         "Romance",
         "93.0",
         "5.9",
         "73638.0",
         "After a single, career-minded woman is left on her own to give birth to the child of a married man, she finds a new romantic chance in a cab driver. Meanwhile, the point-of-view of the newborn boy is narrated through voice-over."
        ],
        [
         "1",
         "2",
         "Driving Miss Daisy",
         "PG",
         "7500000.0",
         "145793296.0",
         "1989-12-13",
         "Comedy",
         "99.0",
         "7.4",
         "91075.0",
         "An old Jewish woman and her African-American chauffeur in the American South have a relationship that grows and improves over the years."
        ],
        [
         "2",
         "3",
         "Turner & Hooch",
         "PG",
         "13000000.0",
         "71079915.0",
         "1989-07-28",
         "Crime",
         "100.0",
         "7.2",
         "91415.0",
         "Det. Scott Turner (Tom Hanks) is an uptight, by-the-book police officer. When his friend Amos Reed (John McIntire), the proprietor of a junkyard, is killed, Turner reluctantly inherits the man's dog. Turner adjusts to life with the dog to help solve a murder case. "
        ],
        [
         "3",
         "4",
         "Born on the Fourth of July",
         "R",
         "14000000.0",
         "161001698.0",
         "1989-12-20",
         "War",
         "145.0",
         "7.2",
         "91415.0",
         "The biography of Ron Kovic. Paralyzed in the Vietnam war, he becomes an anti-war and pro-human rights political activist after feeling betrayed by the country he fought for."
        ],
        [
         "4",
         "5",
         "Field of Dreams",
         "PG",
         "15000000.0",
         "84431625.0",
         "1989-04-21",
         "Drama",
         "107.0",
         "7.5",
         "101702.0",
         "An Iowa corn farmer, hearing voices, interprets them as a command to build a baseball diamond in his fields; he does, and the 1919 Chicago White Sox come."
        ]
       ],
       "shape": {
        "columns": 11,
        "rows": 5
       }
      },
      "text/html": [
       "<div>\n",
       "<style scoped>\n",
       "    .dataframe tbody tr th:only-of-type {\n",
       "        vertical-align: middle;\n",
       "    }\n",
       "\n",
       "    .dataframe tbody tr th {\n",
       "        vertical-align: top;\n",
       "    }\n",
       "\n",
       "    .dataframe thead th {\n",
       "        text-align: right;\n",
       "    }\n",
       "</style>\n",
       "<table border=\"1\" class=\"dataframe\">\n",
       "  <thead>\n",
       "    <tr style=\"text-align: right;\">\n",
       "      <th></th>\n",
       "      <th>MovieID</th>\n",
       "      <th>Title</th>\n",
       "      <th>MPAA Rating</th>\n",
       "      <th>Budget</th>\n",
       "      <th>Gross</th>\n",
       "      <th>Release Date</th>\n",
       "      <th>Genre</th>\n",
       "      <th>Runtime</th>\n",
       "      <th>Rating</th>\n",
       "      <th>Rating Count</th>\n",
       "      <th>Summary</th>\n",
       "    </tr>\n",
       "  </thead>\n",
       "  <tbody>\n",
       "    <tr>\n",
       "      <th>0</th>\n",
       "      <td>1</td>\n",
       "      <td>Look Who's Talking</td>\n",
       "      <td>PG-13</td>\n",
       "      <td>7500000.0</td>\n",
       "      <td>296000000.0</td>\n",
       "      <td>1989-10-12</td>\n",
       "      <td>Romance</td>\n",
       "      <td>93.0</td>\n",
       "      <td>5.9</td>\n",
       "      <td>73638.0</td>\n",
       "      <td>After a single, career-minded woman is left on...</td>\n",
       "    </tr>\n",
       "    <tr>\n",
       "      <th>1</th>\n",
       "      <td>2</td>\n",
       "      <td>Driving Miss Daisy</td>\n",
       "      <td>PG</td>\n",
       "      <td>7500000.0</td>\n",
       "      <td>145793296.0</td>\n",
       "      <td>1989-12-13</td>\n",
       "      <td>Comedy</td>\n",
       "      <td>99.0</td>\n",
       "      <td>7.4</td>\n",
       "      <td>91075.0</td>\n",
       "      <td>An old Jewish woman and her African-American c...</td>\n",
       "    </tr>\n",
       "    <tr>\n",
       "      <th>2</th>\n",
       "      <td>3</td>\n",
       "      <td>Turner &amp; Hooch</td>\n",
       "      <td>PG</td>\n",
       "      <td>13000000.0</td>\n",
       "      <td>71079915.0</td>\n",
       "      <td>1989-07-28</td>\n",
       "      <td>Crime</td>\n",
       "      <td>100.0</td>\n",
       "      <td>7.2</td>\n",
       "      <td>91415.0</td>\n",
       "      <td>Det. Scott Turner (Tom Hanks) is an uptight, b...</td>\n",
       "    </tr>\n",
       "    <tr>\n",
       "      <th>3</th>\n",
       "      <td>4</td>\n",
       "      <td>Born on the Fourth of July</td>\n",
       "      <td>R</td>\n",
       "      <td>14000000.0</td>\n",
       "      <td>161001698.0</td>\n",
       "      <td>1989-12-20</td>\n",
       "      <td>War</td>\n",
       "      <td>145.0</td>\n",
       "      <td>7.2</td>\n",
       "      <td>91415.0</td>\n",
       "      <td>The biography of Ron Kovic. Paralyzed in the V...</td>\n",
       "    </tr>\n",
       "    <tr>\n",
       "      <th>4</th>\n",
       "      <td>5</td>\n",
       "      <td>Field of Dreams</td>\n",
       "      <td>PG</td>\n",
       "      <td>15000000.0</td>\n",
       "      <td>84431625.0</td>\n",
       "      <td>1989-04-21</td>\n",
       "      <td>Drama</td>\n",
       "      <td>107.0</td>\n",
       "      <td>7.5</td>\n",
       "      <td>101702.0</td>\n",
       "      <td>An Iowa corn farmer, hearing voices, interpret...</td>\n",
       "    </tr>\n",
       "  </tbody>\n",
       "</table>\n",
       "</div>"
      ],
      "text/plain": [
       "   MovieID                       Title MPAA Rating      Budget        Gross  \\\n",
       "0        1          Look Who's Talking       PG-13   7500000.0  296000000.0   \n",
       "1        2          Driving Miss Daisy          PG   7500000.0  145793296.0   \n",
       "2        3              Turner & Hooch          PG  13000000.0   71079915.0   \n",
       "3        4  Born on the Fourth of July           R  14000000.0  161001698.0   \n",
       "4        5             Field of Dreams          PG  15000000.0   84431625.0   \n",
       "\n",
       "  Release Date    Genre  Runtime  Rating  Rating Count  \\\n",
       "0   1989-10-12  Romance     93.0     5.9       73638.0   \n",
       "1   1989-12-13   Comedy     99.0     7.4       91075.0   \n",
       "2   1989-07-28    Crime    100.0     7.2       91415.0   \n",
       "3   1989-12-20      War    145.0     7.2       91415.0   \n",
       "4   1989-04-21    Drama    107.0     7.5      101702.0   \n",
       "\n",
       "                                             Summary  \n",
       "0  After a single, career-minded woman is left on...  \n",
       "1  An old Jewish woman and her African-American c...  \n",
       "2  Det. Scott Turner (Tom Hanks) is an uptight, b...  \n",
       "3  The biography of Ron Kovic. Paralyzed in the V...  \n",
       "4  An Iowa corn farmer, hearing voices, interpret...  "
      ]
     },
     "execution_count": 552,
     "metadata": {},
     "output_type": "execute_result"
    }
   ],
   "source": [
    "movies.head()"
   ]
  },
  {
   "cell_type": "markdown",
   "id": "167a4d86",
   "metadata": {},
   "source": [
    "# Describe the raw data"
   ]
  },
  {
   "cell_type": "code",
   "execution_count": 553,
   "id": "69b3b941",
   "metadata": {},
   "outputs": [
    {
     "data": {
      "text/plain": [
       "(616, 11)"
      ]
     },
     "execution_count": 553,
     "metadata": {},
     "output_type": "execute_result"
    }
   ],
   "source": [
    "movies.shape"
   ]
  },
  {
   "cell_type": "code",
   "execution_count": 554,
   "id": "a246dccd",
   "metadata": {},
   "outputs": [
    {
     "name": "stdout",
     "output_type": "stream",
     "text": [
      "<class 'pandas.core.frame.DataFrame'>\n",
      "RangeIndex: 616 entries, 0 to 615\n",
      "Data columns (total 11 columns):\n",
      " #   Column        Non-Null Count  Dtype  \n",
      "---  ------        --------------  -----  \n",
      " 0   MovieID       616 non-null    int64  \n",
      " 1   Title         615 non-null    object \n",
      " 2   MPAA Rating   615 non-null    object \n",
      " 3   Budget        615 non-null    float64\n",
      " 4   Gross         615 non-null    float64\n",
      " 5   Release Date  615 non-null    object \n",
      " 6   Genre         615 non-null    object \n",
      " 7   Runtime       615 non-null    float64\n",
      " 8   Rating        508 non-null    float64\n",
      " 9   Rating Count  508 non-null    float64\n",
      " 10  Summary       496 non-null    object \n",
      "dtypes: float64(5), int64(1), object(5)\n",
      "memory usage: 53.1+ KB\n"
     ]
    }
   ],
   "source": [
    "movies.info()"
   ]
  },
  {
   "cell_type": "markdown",
   "id": "f68ab8ac",
   "metadata": {},
   "source": [
    "* MovieID: identifier of the data set\n",
    "* Title: movie title\n",
    "* MPAA Rating: ..."
   ]
  },
  {
   "cell_type": "code",
   "execution_count": 555,
   "id": "acede51c",
   "metadata": {},
   "outputs": [],
   "source": [
    "# TODO - continue; how to describe data in a Jupyter Notebook? Checkout Notebooks on kaggle\n",
    "# REVIEW - Should I fix the data types while importing or later on? The earlier the better? I prefer to have everything in one place and each step take care of one thang;\n",
    "#  import: read all information from input file\n",
    "#  data cleaning / standardizing "
   ]
  },
  {
   "cell_type": "code",
   "execution_count": 556,
   "id": "f6c585f5",
   "metadata": {},
   "outputs": [
    {
     "name": "stdout",
     "output_type": "stream",
     "text": [
      "<class 'pandas.core.series.Series'>\n",
      "object\n",
      "object\n",
      "object\n"
     ]
    }
   ],
   "source": [
    "# access the data types with dtype, which is a pandas series of data types\n",
    "print(type(movies.dtypes))\n",
    "print(movies.dtypes['Title'])\n",
    "print(movies.dtypes['Release Date'])\n",
    "print(movies.dtypes['Summary'])"
   ]
  },
  {
   "cell_type": "markdown",
   "id": "9b53239a",
   "metadata": {},
   "source": [
    "## NaN values"
   ]
  },
  {
   "cell_type": "code",
   "execution_count": 557,
   "id": "34244a47",
   "metadata": {},
   "outputs": [
    {
     "data": {
      "text/plain": [
       "MovieID           0\n",
       "Title             1\n",
       "MPAA Rating       1\n",
       "Budget            1\n",
       "Gross             1\n",
       "Release Date      1\n",
       "Genre             1\n",
       "Runtime           1\n",
       "Rating          108\n",
       "Rating Count    108\n",
       "Summary         120\n",
       "dtype: int64"
      ]
     },
     "execution_count": 557,
     "metadata": {},
     "output_type": "execute_result"
    }
   ],
   "source": [
    "# NaN values\n",
    "movies.isna().sum()"
   ]
  },
  {
   "cell_type": "code",
   "execution_count": 558,
   "id": "6326edc3",
   "metadata": {},
   "outputs": [
    {
     "data": {
      "application/vnd.microsoft.datawrangler.viewer.v0+json": {
       "columns": [
        {
         "name": "index",
         "rawType": "int64",
         "type": "integer"
        },
        {
         "name": "MovieID",
         "rawType": "int64",
         "type": "integer"
        },
        {
         "name": "Title",
         "rawType": "object",
         "type": "unknown"
        },
        {
         "name": "MPAA Rating",
         "rawType": "object",
         "type": "unknown"
        },
        {
         "name": "Budget",
         "rawType": "float64",
         "type": "float"
        },
        {
         "name": "Gross",
         "rawType": "float64",
         "type": "float"
        },
        {
         "name": "Release Date",
         "rawType": "object",
         "type": "unknown"
        },
        {
         "name": "Genre",
         "rawType": "object",
         "type": "unknown"
        },
        {
         "name": "Runtime",
         "rawType": "float64",
         "type": "float"
        },
        {
         "name": "Rating",
         "rawType": "float64",
         "type": "float"
        },
        {
         "name": "Rating Count",
         "rawType": "float64",
         "type": "float"
        },
        {
         "name": "Summary",
         "rawType": "object",
         "type": "unknown"
        }
       ],
       "conversionMethod": "pd.DataFrame",
       "ref": "ba13475d-aeec-473f-a419-afbe84ba912f",
       "rows": [
        [
         "615",
         "0",
         null,
         null,
         null,
         null,
         null,
         null,
         null,
         null,
         null,
         null
        ]
       ],
       "shape": {
        "columns": 11,
        "rows": 1
       }
      },
      "text/html": [
       "<div>\n",
       "<style scoped>\n",
       "    .dataframe tbody tr th:only-of-type {\n",
       "        vertical-align: middle;\n",
       "    }\n",
       "\n",
       "    .dataframe tbody tr th {\n",
       "        vertical-align: top;\n",
       "    }\n",
       "\n",
       "    .dataframe thead th {\n",
       "        text-align: right;\n",
       "    }\n",
       "</style>\n",
       "<table border=\"1\" class=\"dataframe\">\n",
       "  <thead>\n",
       "    <tr style=\"text-align: right;\">\n",
       "      <th></th>\n",
       "      <th>MovieID</th>\n",
       "      <th>Title</th>\n",
       "      <th>MPAA Rating</th>\n",
       "      <th>Budget</th>\n",
       "      <th>Gross</th>\n",
       "      <th>Release Date</th>\n",
       "      <th>Genre</th>\n",
       "      <th>Runtime</th>\n",
       "      <th>Rating</th>\n",
       "      <th>Rating Count</th>\n",
       "      <th>Summary</th>\n",
       "    </tr>\n",
       "  </thead>\n",
       "  <tbody>\n",
       "    <tr>\n",
       "      <th>615</th>\n",
       "      <td>0</td>\n",
       "      <td>NaN</td>\n",
       "      <td>NaN</td>\n",
       "      <td>NaN</td>\n",
       "      <td>NaN</td>\n",
       "      <td>NaN</td>\n",
       "      <td>NaN</td>\n",
       "      <td>NaN</td>\n",
       "      <td>NaN</td>\n",
       "      <td>NaN</td>\n",
       "      <td>NaN</td>\n",
       "    </tr>\n",
       "  </tbody>\n",
       "</table>\n",
       "</div>"
      ],
      "text/plain": [
       "     MovieID Title MPAA Rating  Budget  Gross Release Date Genre  Runtime  \\\n",
       "615        0   NaN         NaN     NaN    NaN          NaN   NaN      NaN   \n",
       "\n",
       "     Rating  Rating Count Summary  \n",
       "615     NaN           NaN     NaN  "
      ]
     },
     "execution_count": 558,
     "metadata": {},
     "output_type": "execute_result"
    }
   ],
   "source": [
    "movies[movies.Title.isna()]"
   ]
  },
  {
   "cell_type": "code",
   "execution_count": 559,
   "id": "08aa3c1a",
   "metadata": {},
   "outputs": [
    {
     "data": {
      "application/vnd.microsoft.datawrangler.viewer.v0+json": {
       "columns": [
        {
         "name": "index",
         "rawType": "int64",
         "type": "integer"
        },
        {
         "name": "MovieID",
         "rawType": "int64",
         "type": "integer"
        },
        {
         "name": "Title",
         "rawType": "object",
         "type": "string"
        },
        {
         "name": "MPAA Rating",
         "rawType": "object",
         "type": "string"
        },
        {
         "name": "Budget",
         "rawType": "float64",
         "type": "float"
        },
        {
         "name": "Gross",
         "rawType": "float64",
         "type": "float"
        },
        {
         "name": "Release Date",
         "rawType": "object",
         "type": "string"
        },
        {
         "name": "Genre",
         "rawType": "object",
         "type": "string"
        },
        {
         "name": "Runtime",
         "rawType": "float64",
         "type": "float"
        },
        {
         "name": "Rating",
         "rawType": "float64",
         "type": "float"
        },
        {
         "name": "Rating Count",
         "rawType": "float64",
         "type": "float"
        },
        {
         "name": "Summary",
         "rawType": "object",
         "type": "unknown"
        }
       ],
       "conversionMethod": "pd.DataFrame",
       "ref": "b9c07a8d-c671-4323-95d6-42790272b1cb",
       "rows": [
        [
         "486",
         "487",
         "Fast & Furious 6",
         "PG-13",
         "160000000.0",
         "788679850.0",
         "2013-05-06",
         "Action",
         "130.0",
         null,
         null,
         null
        ],
        [
         "489",
         "490",
         "Oz: The Great and Powerful",
         "PG",
         "200000000.0",
         "491868548.0",
         "2013-03-07",
         "Drama",
         "130.0",
         null,
         null,
         null
        ],
        [
         "510",
         "511",
         "Maleficent",
         "PG",
         "180000000.0",
         "758539785.0",
         "2014-05-28",
         "Fantasy",
         "97.0",
         null,
         null,
         null
        ],
        [
         "511",
         "512",
         "The Amazing Spider-Man 2",
         "PG-13",
         "200000000.0",
         "705717432.0",
         "2014-04-16",
         "Action",
         "142.0",
         null,
         null,
         null
        ],
        [
         "512",
         "513",
         "Transformers: Age of Extinction",
         "PG-13",
         "210000000.0",
         "1091405097.0",
         "2014-06-25",
         "Action",
         "165.0",
         null,
         null,
         null
        ]
       ],
       "shape": {
        "columns": 11,
        "rows": 5
       }
      },
      "text/html": [
       "<div>\n",
       "<style scoped>\n",
       "    .dataframe tbody tr th:only-of-type {\n",
       "        vertical-align: middle;\n",
       "    }\n",
       "\n",
       "    .dataframe tbody tr th {\n",
       "        vertical-align: top;\n",
       "    }\n",
       "\n",
       "    .dataframe thead th {\n",
       "        text-align: right;\n",
       "    }\n",
       "</style>\n",
       "<table border=\"1\" class=\"dataframe\">\n",
       "  <thead>\n",
       "    <tr style=\"text-align: right;\">\n",
       "      <th></th>\n",
       "      <th>MovieID</th>\n",
       "      <th>Title</th>\n",
       "      <th>MPAA Rating</th>\n",
       "      <th>Budget</th>\n",
       "      <th>Gross</th>\n",
       "      <th>Release Date</th>\n",
       "      <th>Genre</th>\n",
       "      <th>Runtime</th>\n",
       "      <th>Rating</th>\n",
       "      <th>Rating Count</th>\n",
       "      <th>Summary</th>\n",
       "    </tr>\n",
       "  </thead>\n",
       "  <tbody>\n",
       "    <tr>\n",
       "      <th>486</th>\n",
       "      <td>487</td>\n",
       "      <td>Fast &amp; Furious 6</td>\n",
       "      <td>PG-13</td>\n",
       "      <td>160000000.0</td>\n",
       "      <td>7.886798e+08</td>\n",
       "      <td>2013-05-06</td>\n",
       "      <td>Action</td>\n",
       "      <td>130.0</td>\n",
       "      <td>NaN</td>\n",
       "      <td>NaN</td>\n",
       "      <td>NaN</td>\n",
       "    </tr>\n",
       "    <tr>\n",
       "      <th>489</th>\n",
       "      <td>490</td>\n",
       "      <td>Oz: The Great and Powerful</td>\n",
       "      <td>PG</td>\n",
       "      <td>200000000.0</td>\n",
       "      <td>4.918685e+08</td>\n",
       "      <td>2013-03-07</td>\n",
       "      <td>Drama</td>\n",
       "      <td>130.0</td>\n",
       "      <td>NaN</td>\n",
       "      <td>NaN</td>\n",
       "      <td>NaN</td>\n",
       "    </tr>\n",
       "    <tr>\n",
       "      <th>510</th>\n",
       "      <td>511</td>\n",
       "      <td>Maleficent</td>\n",
       "      <td>PG</td>\n",
       "      <td>180000000.0</td>\n",
       "      <td>7.585398e+08</td>\n",
       "      <td>2014-05-28</td>\n",
       "      <td>Fantasy</td>\n",
       "      <td>97.0</td>\n",
       "      <td>NaN</td>\n",
       "      <td>NaN</td>\n",
       "      <td>NaN</td>\n",
       "    </tr>\n",
       "    <tr>\n",
       "      <th>511</th>\n",
       "      <td>512</td>\n",
       "      <td>The Amazing Spider-Man 2</td>\n",
       "      <td>PG-13</td>\n",
       "      <td>200000000.0</td>\n",
       "      <td>7.057174e+08</td>\n",
       "      <td>2014-04-16</td>\n",
       "      <td>Action</td>\n",
       "      <td>142.0</td>\n",
       "      <td>NaN</td>\n",
       "      <td>NaN</td>\n",
       "      <td>NaN</td>\n",
       "    </tr>\n",
       "    <tr>\n",
       "      <th>512</th>\n",
       "      <td>513</td>\n",
       "      <td>Transformers: Age of Extinction</td>\n",
       "      <td>PG-13</td>\n",
       "      <td>210000000.0</td>\n",
       "      <td>1.091405e+09</td>\n",
       "      <td>2014-06-25</td>\n",
       "      <td>Action</td>\n",
       "      <td>165.0</td>\n",
       "      <td>NaN</td>\n",
       "      <td>NaN</td>\n",
       "      <td>NaN</td>\n",
       "    </tr>\n",
       "  </tbody>\n",
       "</table>\n",
       "</div>"
      ],
      "text/plain": [
       "     MovieID                            Title MPAA Rating       Budget  \\\n",
       "486      487                 Fast & Furious 6       PG-13  160000000.0   \n",
       "489      490       Oz: The Great and Powerful          PG  200000000.0   \n",
       "510      511                       Maleficent          PG  180000000.0   \n",
       "511      512         The Amazing Spider-Man 2       PG-13  200000000.0   \n",
       "512      513  Transformers: Age of Extinction       PG-13  210000000.0   \n",
       "\n",
       "            Gross Release Date    Genre  Runtime  Rating  Rating Count Summary  \n",
       "486  7.886798e+08   2013-05-06   Action    130.0     NaN           NaN     NaN  \n",
       "489  4.918685e+08   2013-03-07    Drama    130.0     NaN           NaN     NaN  \n",
       "510  7.585398e+08   2014-05-28  Fantasy     97.0     NaN           NaN     NaN  \n",
       "511  7.057174e+08   2014-04-16   Action    142.0     NaN           NaN     NaN  \n",
       "512  1.091405e+09   2014-06-25   Action    165.0     NaN           NaN     NaN  "
      ]
     },
     "execution_count": 559,
     "metadata": {},
     "output_type": "execute_result"
    }
   ],
   "source": [
    "movies[movies['Rating'].isna()].head()"
   ]
  },
  {
   "cell_type": "code",
   "execution_count": 560,
   "id": "0a120108",
   "metadata": {},
   "outputs": [],
   "source": [
    "# convert NaN to data not available, to differ between missing data and calculation errors \n",
    "# TODO - finish this step\n",
    "#pd.NA"
   ]
  },
  {
   "cell_type": "markdown",
   "id": "b0cf8410",
   "metadata": {},
   "source": [
    "## Duplicates"
   ]
  },
  {
   "cell_type": "code",
   "execution_count": 561,
   "id": "669603f9",
   "metadata": {},
   "outputs": [
    {
     "data": {
      "text/plain": [
       "np.int64(0)"
      ]
     },
     "execution_count": 561,
     "metadata": {},
     "output_type": "execute_result"
    }
   ],
   "source": [
    "movies.duplicated().sum()"
   ]
  },
  {
   "cell_type": "markdown",
   "id": "13d2df0c",
   "metadata": {},
   "source": [
    "## Save raw data\n",
    "Save raw data, to easily get back to it"
   ]
  },
  {
   "cell_type": "code",
   "execution_count": 562,
   "id": "6060d2ba",
   "metadata": {},
   "outputs": [],
   "source": [
    "# TODO - saving raw data does not make sense without fixing the issues\n",
    "# NOTE - index should not be reset on the new data frame!\n",
    "movies_raw = movies.copy()"
   ]
  },
  {
   "cell_type": "markdown",
   "id": "e27d89d0",
   "metadata": {},
   "source": [
    "# Make Data Frame easier to handle"
   ]
  },
  {
   "cell_type": "markdown",
   "id": "60b2db7e",
   "metadata": {},
   "source": [
    "## Reset Column Titles"
   ]
  },
  {
   "cell_type": "code",
   "execution_count": 563,
   "id": "81a4be41",
   "metadata": {},
   "outputs": [],
   "source": [
    "# are there any spaces in the column titles?\n",
    "cols = pd.Series(movies.columns)\n",
    "mapper = {col:col.replace(' ','_').lower() for col in cols}\n",
    "\n",
    "movies.rename(columns=mapper,inplace=True)"
   ]
  },
  {
   "cell_type": "markdown",
   "id": "9d2361e1",
   "metadata": {},
   "source": [
    "## Set index"
   ]
  },
  {
   "cell_type": "code",
   "execution_count": 564,
   "id": "7511ac6b",
   "metadata": {},
   "outputs": [],
   "source": [
    "movies.set_index(['movieid'], inplace=True)"
   ]
  },
  {
   "cell_type": "markdown",
   "id": "06bacc20",
   "metadata": {},
   "source": [
    "## Get rid of irrelevant data"
   ]
  },
  {
   "cell_type": "code",
   "execution_count": 565,
   "id": "70751d4e",
   "metadata": {},
   "outputs": [],
   "source": [
    "movies.drop(columns=['summary'], inplace=True)"
   ]
  },
  {
   "cell_type": "markdown",
   "id": "b1a8d7e4",
   "metadata": {},
   "source": [
    "# Data cleaning"
   ]
  },
  {
   "cell_type": "markdown",
   "id": "17ae5ac0",
   "metadata": {},
   "source": [
    "## Handle NaN values"
   ]
  },
  {
   "cell_type": "markdown",
   "id": "ba9a622e",
   "metadata": {},
   "source": [
    "Drop rows with NA in title, because these do not make sense."
   ]
  },
  {
   "cell_type": "code",
   "execution_count": 566,
   "id": "3d817b0b",
   "metadata": {},
   "outputs": [],
   "source": [
    "movies = movies.dropna(subset=['title'])"
   ]
  },
  {
   "cell_type": "markdown",
   "id": "889088d5",
   "metadata": {},
   "source": [
    "Fill NA in Rating and Rating Count with the median, in order to ...\n",
    "\n",
    "Use the Median, since distributions are skewed."
   ]
  },
  {
   "cell_type": "code",
   "execution_count": 567,
   "id": "3999d2df",
   "metadata": {},
   "outputs": [
    {
     "data": {
      "image/png": "[encoded data removed]",
      "text/plain": [
       "<Figure size 640x480 with 1 Axes>"
      ]
     },
     "metadata": {},
     "output_type": "display_data"
    }
   ],
   "source": [
    "movies.rating.hist();"
   ]
  },
  {
   "cell_type": "code",
   "execution_count": 568,
   "id": "d1b7eb56",
   "metadata": {},
   "outputs": [
    {
     "data": {
      "image/png": "[encoded data removed]",
      "text/plain": [
       "<Figure size 640x480 with 1 Axes>"
      ]
     },
     "metadata": {},
     "output_type": "display_data"
    }
   ],
   "source": [
    "movies.rating_count.hist();"
   ]
  },
  {
   "cell_type": "code",
   "execution_count": 569,
   "id": "04771173",
   "metadata": {},
   "outputs": [],
   "source": [
    "movies = movies.fillna({'rating': movies['rating'].median()})\n",
    "movies = movies.fillna({'rating_count': movies['rating_count'].median()})"
   ]
  },
  {
   "cell_type": "markdown",
   "id": "c6dd5fc5",
   "metadata": {},
   "source": [
    "## Data type conversions"
   ]
  },
  {
   "cell_type": "code",
   "execution_count": 570,
   "id": "f62d5bdc",
   "metadata": {},
   "outputs": [],
   "source": [
    "# simple conversions\n",
    "movies.gross = movies.gross.astype('int')\n",
    "movies.budget = movies.budget.astype('int')\n",
    "movies.runtime = movies.runtime.astype('int')\n",
    "movies.rating_count = movies.rating_count.astype('int')"
   ]
  },
  {
   "cell_type": "code",
   "execution_count": 571,
   "id": "7abfa0e0",
   "metadata": {},
   "outputs": [
    {
     "data": {
      "text/plain": [
       "movieid\n",
       "472    220000000\n",
       "535    280000000\n",
       "595    400000000\n",
       "615    356000000\n",
       "Name: budget, dtype: int64"
      ]
     },
     "execution_count": 571,
     "metadata": {},
     "output_type": "execute_result"
    }
   ],
   "source": [
    "movies[movies.title.str.contains('Avengers')].budget"
   ]
  },
  {
   "cell_type": "code",
   "execution_count": 572,
   "id": "cd363979",
   "metadata": {},
   "outputs": [],
   "source": [
    "# NOTE - pandas recommendation to convert strings\n",
    "movies.title = movies.title.astype(pd.StringDtype())\n",
    "# movies.summary = movies.summary.astype(pd.StringDtype())"
   ]
  },
  {
   "cell_type": "markdown",
   "id": "a1b7b338",
   "metadata": {},
   "source": [
    "What's the use of categorical data this data type? \n",
    "  - some built-in functions can be used to deal with categorical data, i.e. sorting, renaming categories etc.\n",
    "  - it's faster than a object/string data type: #categories + len(series) < constant * len(series); not sure though if categorical data may really slow down pandas"
   ]
  },
  {
   "cell_type": "code",
   "execution_count": 573,
   "id": "21590c7b",
   "metadata": {},
   "outputs": [],
   "source": [
    "# convert categorical data\n",
    "movies.genre = movies.genre.astype(pd.CategoricalDtype(ordered=False))\n",
    "movies.mpaa_rating = movies.mpaa_rating.astype(pd.CategoricalDtype(ordered=True))"
   ]
  },
  {
   "cell_type": "code",
   "execution_count": 574,
   "id": "f8ff229f",
   "metadata": {},
   "outputs": [],
   "source": [
    "# convert Release Date to datetime\n",
    "movies.release_date = pd.to_datetime(movies.release_date, format='%Y-%m-%d')\n",
    "movies['release_date'] = pd.to_datetime(movies['release_date'])#, format='%Y-%m-%d')\n",
    "\n",
    "# set the datetime accuracy. pandas uses ns, but the accuracy should not be higher than given in the raw data.\n",
    "movies.release_date = movies.release_date.values.astype('datetime64[D]') # NOTE in order to use astype, the values of the pandas series have to be accessed \n",
    "# movies.release_date = movies.release_date.dt.floor('D') # NOTE dt can be used in pandas DateTime series; the line is not needed to convert the data type"
   ]
  },
  {
   "cell_type": "code",
   "execution_count": 575,
   "id": "2a2f0e9e",
   "metadata": {},
   "outputs": [
    {
     "name": "stdout",
     "output_type": "stream",
     "text": [
      "title           string[python]\n",
      "mpaa_rating           category\n",
      "budget                   int64\n",
      "gross                    int64\n",
      "release_date     datetime64[s]\n",
      "genre                 category\n",
      "runtime                  int64\n",
      "rating                 float64\n",
      "rating_count             int64\n",
      "dtype: object\n"
     ]
    }
   ],
   "source": [
    "# show final data types\n",
    "# NOTE - object usually refers to mixed data types in a column, however it also shows for non-pd-strings\n",
    "print(movies.dtypes)"
   ]
  },
  {
   "cell_type": "code",
   "execution_count": 576,
   "id": "f711315f",
   "metadata": {},
   "outputs": [
    {
     "data": {
      "application/vnd.microsoft.datawrangler.viewer.v0+json": {
       "columns": [
        {
         "name": "movieid",
         "rawType": "int64",
         "type": "integer"
        },
        {
         "name": "title",
         "rawType": "string",
         "type": "string"
        },
        {
         "name": "mpaa_rating",
         "rawType": "category",
         "type": "unknown"
        },
        {
         "name": "budget",
         "rawType": "int64",
         "type": "integer"
        },
        {
         "name": "gross",
         "rawType": "int64",
         "type": "integer"
        },
        {
         "name": "release_date",
         "rawType": "datetime64[s]",
         "type": "unknown"
        },
        {
         "name": "genre",
         "rawType": "category",
         "type": "unknown"
        },
        {
         "name": "runtime",
         "rawType": "int64",
         "type": "integer"
        },
        {
         "name": "rating",
         "rawType": "float64",
         "type": "float"
        },
        {
         "name": "rating_count",
         "rawType": "int64",
         "type": "integer"
        }
       ],
       "conversionMethod": "pd.DataFrame",
       "ref": "8bed198f-db43-4452-b400-cc5fb6a12069",
       "rows": [
        [
         "1",
         "Look Who's Talking",
         "PG-13",
         "7500000",
         "296000000",
         "1989-10-12 00:00:00",
         "Romance",
         "93",
         "5.9",
         "73638"
        ],
        [
         "2",
         "Driving Miss Daisy",
         "PG",
         "7500000",
         "145793296",
         "1989-12-13 00:00:00",
         "Comedy",
         "99",
         "7.4",
         "91075"
        ],
        [
         "3",
         "Turner & Hooch",
         "PG",
         "13000000",
         "71079915",
         "1989-07-28 00:00:00",
         "Crime",
         "100",
         "7.2",
         "91415"
        ],
        [
         "4",
         "Born on the Fourth of July",
         "R",
         "14000000",
         "161001698",
         "1989-12-20 00:00:00",
         "War",
         "145",
         "7.2",
         "91415"
        ],
        [
         "5",
         "Field of Dreams",
         "PG",
         "15000000",
         "84431625",
         "1989-04-21 00:00:00",
         "Drama",
         "107",
         "7.5",
         "101702"
        ]
       ],
       "shape": {
        "columns": 9,
        "rows": 5
       }
      },
      "text/html": [
       "<div>\n",
       "<style scoped>\n",
       "    .dataframe tbody tr th:only-of-type {\n",
       "        vertical-align: middle;\n",
       "    }\n",
       "\n",
       "    .dataframe tbody tr th {\n",
       "        vertical-align: top;\n",
       "    }\n",
       "\n",
       "    .dataframe thead th {\n",
       "        text-align: right;\n",
       "    }\n",
       "</style>\n",
       "<table border=\"1\" class=\"dataframe\">\n",
       "  <thead>\n",
       "    <tr style=\"text-align: right;\">\n",
       "      <th></th>\n",
       "      <th>title</th>\n",
       "      <th>mpaa_rating</th>\n",
       "      <th>budget</th>\n",
       "      <th>gross</th>\n",
       "      <th>release_date</th>\n",
       "      <th>genre</th>\n",
       "      <th>runtime</th>\n",
       "      <th>rating</th>\n",
       "      <th>rating_count</th>\n",
       "    </tr>\n",
       "    <tr>\n",
       "      <th>movieid</th>\n",
       "      <th></th>\n",
       "      <th></th>\n",
       "      <th></th>\n",
       "      <th></th>\n",
       "      <th></th>\n",
       "      <th></th>\n",
       "      <th></th>\n",
       "      <th></th>\n",
       "      <th></th>\n",
       "    </tr>\n",
       "  </thead>\n",
       "  <tbody>\n",
       "    <tr>\n",
       "      <th>1</th>\n",
       "      <td>Look Who's Talking</td>\n",
       "      <td>PG-13</td>\n",
       "      <td>7500000</td>\n",
       "      <td>296000000</td>\n",
       "      <td>1989-10-12</td>\n",
       "      <td>Romance</td>\n",
       "      <td>93</td>\n",
       "      <td>5.9</td>\n",
       "      <td>73638</td>\n",
       "    </tr>\n",
       "    <tr>\n",
       "      <th>2</th>\n",
       "      <td>Driving Miss Daisy</td>\n",
       "      <td>PG</td>\n",
       "      <td>7500000</td>\n",
       "      <td>145793296</td>\n",
       "      <td>1989-12-13</td>\n",
       "      <td>Comedy</td>\n",
       "      <td>99</td>\n",
       "      <td>7.4</td>\n",
       "      <td>91075</td>\n",
       "    </tr>\n",
       "    <tr>\n",
       "      <th>3</th>\n",
       "      <td>Turner &amp; Hooch</td>\n",
       "      <td>PG</td>\n",
       "      <td>13000000</td>\n",
       "      <td>71079915</td>\n",
       "      <td>1989-07-28</td>\n",
       "      <td>Crime</td>\n",
       "      <td>100</td>\n",
       "      <td>7.2</td>\n",
       "      <td>91415</td>\n",
       "    </tr>\n",
       "    <tr>\n",
       "      <th>4</th>\n",
       "      <td>Born on the Fourth of July</td>\n",
       "      <td>R</td>\n",
       "      <td>14000000</td>\n",
       "      <td>161001698</td>\n",
       "      <td>1989-12-20</td>\n",
       "      <td>War</td>\n",
       "      <td>145</td>\n",
       "      <td>7.2</td>\n",
       "      <td>91415</td>\n",
       "    </tr>\n",
       "    <tr>\n",
       "      <th>5</th>\n",
       "      <td>Field of Dreams</td>\n",
       "      <td>PG</td>\n",
       "      <td>15000000</td>\n",
       "      <td>84431625</td>\n",
       "      <td>1989-04-21</td>\n",
       "      <td>Drama</td>\n",
       "      <td>107</td>\n",
       "      <td>7.5</td>\n",
       "      <td>101702</td>\n",
       "    </tr>\n",
       "  </tbody>\n",
       "</table>\n",
       "</div>"
      ],
      "text/plain": [
       "                              title mpaa_rating    budget      gross  \\\n",
       "movieid                                                                \n",
       "1                Look Who's Talking       PG-13   7500000  296000000   \n",
       "2                Driving Miss Daisy          PG   7500000  145793296   \n",
       "3                    Turner & Hooch          PG  13000000   71079915   \n",
       "4        Born on the Fourth of July           R  14000000  161001698   \n",
       "5                   Field of Dreams          PG  15000000   84431625   \n",
       "\n",
       "        release_date    genre  runtime  rating  rating_count  \n",
       "movieid                                                       \n",
       "1         1989-10-12  Romance       93     5.9         73638  \n",
       "2         1989-12-13   Comedy       99     7.4         91075  \n",
       "3         1989-07-28    Crime      100     7.2         91415  \n",
       "4         1989-12-20      War      145     7.2         91415  \n",
       "5         1989-04-21    Drama      107     7.5        101702  "
      ]
     },
     "execution_count": 576,
     "metadata": {},
     "output_type": "execute_result"
    }
   ],
   "source": [
    "movies.head()"
   ]
  },
  {
   "cell_type": "markdown",
   "id": "d0c67f02",
   "metadata": {},
   "source": [
    "## standardize"
   ]
  },
  {
   "cell_type": "code",
   "execution_count": 577,
   "id": "4aa84695",
   "metadata": {},
   "outputs": [],
   "source": [
    "# TODO For numerical values, make sure all values have a certain measurement unit; checkout pandas units"
   ]
  },
  {
   "cell_type": "code",
   "execution_count": 578,
   "id": "908fb5c7",
   "metadata": {},
   "outputs": [],
   "source": [
    "# For strings, make sure all values are either in lower or upper case.\n",
    "movies.title = movies.title.apply(lambda x: x.lower())\n",
    "movies.genre = movies.genre.apply(lambda x: x.lower())\n",
    "movies.mpaa_rating = movies.mpaa_rating.apply(lambda x: x.lower())"
   ]
  },
  {
   "cell_type": "code",
   "execution_count": 579,
   "id": "abada192",
   "metadata": {},
   "outputs": [
    {
     "data": {
      "text/plain": [
       "Index(['action', 'adventure', 'animation', 'comedy', 'crime', 'drama',\n",
       "       'family', 'fantasy', 'history', 'horror', 'mystery', 'romance',\n",
       "       'science fiction', 'thriller', 'war', 'western'],\n",
       "      dtype='object')"
      ]
     },
     "execution_count": 579,
     "metadata": {},
     "output_type": "execute_result"
    }
   ],
   "source": [
    "# NOTE - cat allows to do operations on categories \n",
    "movies.genre.cat.categories"
   ]
  },
  {
   "cell_type": "code",
   "execution_count": 580,
   "id": "f24aaaa9",
   "metadata": {},
   "outputs": [
    {
     "data": {
      "text/plain": [
       "Index(['g', 'pg', 'pg-13', 'r'], dtype='object')"
      ]
     },
     "execution_count": 580,
     "metadata": {},
     "output_type": "execute_result"
    }
   ],
   "source": [
    "movies.mpaa_rating.cat.categories"
   ]
  },
  {
   "cell_type": "code",
   "execution_count": 581,
   "id": "b604a7a5",
   "metadata": {},
   "outputs": [
    {
     "data": {
      "text/plain": [
       "movieid\n",
       "66     g\n",
       "192    g\n",
       "150    g\n",
       "287    g\n",
       "454    g\n",
       "      ..\n",
       "69     r\n",
       "347    r\n",
       "496    r\n",
       "158    r\n",
       "58     r\n",
       "Name: mpaa_rating, Length: 615, dtype: category\n",
       "Categories (5, object): ['g' < 'pg-13' < 'pg' < 'r' < 'nc-17']"
      ]
     },
     "execution_count": 581,
     "metadata": {},
     "output_type": "execute_result"
    }
   ],
   "source": [
    "# NOTE - order categories in order to use comparison operator\n",
    "# TODO actually a standardizing step\n",
    "if 'nc-17' not in movies.mpaa_rating.cat.categories:\n",
    "    movies.mpaa_rating = movies.mpaa_rating.cat.add_categories('nc-17')\n",
    "    movies.mpaa_rating = movies.mpaa_rating.cat.reorder_categories(['g','pg-13', 'pg', 'r', 'nc-17'])\n",
    "movies.mpaa_rating.sort_values()#.value_counts()"
   ]
  },
  {
   "cell_type": "markdown",
   "id": "de6dab1b",
   "metadata": {},
   "source": [
    "# Maybe useful stuff"
   ]
  },
  {
   "cell_type": "code",
   "execution_count": 582,
   "id": "73917b46",
   "metadata": {},
   "outputs": [
    {
     "name": "stdout",
     "output_type": "stream",
     "text": [
      "r\n"
     ]
    }
   ],
   "source": [
    "# create in order to use autocompletion for categorical data\n",
    "class mpaa_rating_categories:\n",
    "    pass\n",
    "mpaa_rating_categories.r = 'r'\n",
    "# genre_categories = pd.DataFrame({'categories' : movies.genre.unique()}, dtype='category')\n",
    "print(mpaa_rating_categories.r)"
   ]
  },
  {
   "cell_type": "markdown",
   "id": "b0611b58",
   "metadata": {},
   "source": [
    "# Explore Data"
   ]
  },
  {
   "cell_type": "code",
   "execution_count": 583,
   "id": "2a3095dd",
   "metadata": {},
   "outputs": [],
   "source": [
    "# TODO - separate file for data exploration? probably not important in this project, but in larger ones it might be "
   ]
  },
  {
   "cell_type": "code",
   "execution_count": 584,
   "id": "8822356f",
   "metadata": {},
   "outputs": [
    {
     "data": {
      "application/vnd.microsoft.datawrangler.viewer.v0+json": {
       "columns": [
        {
         "name": "movieid",
         "rawType": "int64",
         "type": "integer"
        },
        {
         "name": "title",
         "rawType": "object",
         "type": "string"
        },
        {
         "name": "mpaa_rating",
         "rawType": "category",
         "type": "unknown"
        },
        {
         "name": "budget",
         "rawType": "int64",
         "type": "integer"
        },
        {
         "name": "gross",
         "rawType": "int64",
         "type": "integer"
        },
        {
         "name": "release_date",
         "rawType": "datetime64[s]",
         "type": "unknown"
        },
        {
         "name": "genre",
         "rawType": "category",
         "type": "unknown"
        },
        {
         "name": "runtime",
         "rawType": "int64",
         "type": "integer"
        },
        {
         "name": "rating",
         "rawType": "float64",
         "type": "float"
        },
        {
         "name": "rating_count",
         "rawType": "int64",
         "type": "integer"
        }
       ],
       "conversionMethod": "pd.DataFrame",
       "ref": "1f736419-bbd0-4cde-8af8-ba87d8c12483",
       "rows": [
        [
         "1",
         "look who's talking",
         "pg-13",
         "7500000",
         "296000000",
         "1989-10-12 00:00:00",
         "romance",
         "93",
         "5.9",
         "73638"
        ],
        [
         "2",
         "driving miss daisy",
         "pg",
         "7500000",
         "145793296",
         "1989-12-13 00:00:00",
         "comedy",
         "99",
         "7.4",
         "91075"
        ],
        [
         "3",
         "turner & hooch",
         "pg",
         "13000000",
         "71079915",
         "1989-07-28 00:00:00",
         "crime",
         "100",
         "7.2",
         "91415"
        ],
        [
         "4",
         "born on the fourth of july",
         "r",
         "14000000",
         "161001698",
         "1989-12-20 00:00:00",
         "war",
         "145",
         "7.2",
         "91415"
        ],
        [
         "5",
         "field of dreams",
         "pg",
         "15000000",
         "84431625",
         "1989-04-21 00:00:00",
         "drama",
         "107",
         "7.5",
         "101702"
        ]
       ],
       "shape": {
        "columns": 9,
        "rows": 5
       }
      },
      "text/html": [
       "<div>\n",
       "<style scoped>\n",
       "    .dataframe tbody tr th:only-of-type {\n",
       "        vertical-align: middle;\n",
       "    }\n",
       "\n",
       "    .dataframe tbody tr th {\n",
       "        vertical-align: top;\n",
       "    }\n",
       "\n",
       "    .dataframe thead th {\n",
       "        text-align: right;\n",
       "    }\n",
       "</style>\n",
       "<table border=\"1\" class=\"dataframe\">\n",
       "  <thead>\n",
       "    <tr style=\"text-align: right;\">\n",
       "      <th></th>\n",
       "      <th>title</th>\n",
       "      <th>mpaa_rating</th>\n",
       "      <th>budget</th>\n",
       "      <th>gross</th>\n",
       "      <th>release_date</th>\n",
       "      <th>genre</th>\n",
       "      <th>runtime</th>\n",
       "      <th>rating</th>\n",
       "      <th>rating_count</th>\n",
       "    </tr>\n",
       "    <tr>\n",
       "      <th>movieid</th>\n",
       "      <th></th>\n",
       "      <th></th>\n",
       "      <th></th>\n",
       "      <th></th>\n",
       "      <th></th>\n",
       "      <th></th>\n",
       "      <th></th>\n",
       "      <th></th>\n",
       "      <th></th>\n",
       "    </tr>\n",
       "  </thead>\n",
       "  <tbody>\n",
       "    <tr>\n",
       "      <th>1</th>\n",
       "      <td>look who's talking</td>\n",
       "      <td>pg-13</td>\n",
       "      <td>7500000</td>\n",
       "      <td>296000000</td>\n",
       "      <td>1989-10-12</td>\n",
       "      <td>romance</td>\n",
       "      <td>93</td>\n",
       "      <td>5.9</td>\n",
       "      <td>73638</td>\n",
       "    </tr>\n",
       "    <tr>\n",
       "      <th>2</th>\n",
       "      <td>driving miss daisy</td>\n",
       "      <td>pg</td>\n",
       "      <td>7500000</td>\n",
       "      <td>145793296</td>\n",
       "      <td>1989-12-13</td>\n",
       "      <td>comedy</td>\n",
       "      <td>99</td>\n",
       "      <td>7.4</td>\n",
       "      <td>91075</td>\n",
       "    </tr>\n",
       "    <tr>\n",
       "      <th>3</th>\n",
       "      <td>turner &amp; hooch</td>\n",
       "      <td>pg</td>\n",
       "      <td>13000000</td>\n",
       "      <td>71079915</td>\n",
       "      <td>1989-07-28</td>\n",
       "      <td>crime</td>\n",
       "      <td>100</td>\n",
       "      <td>7.2</td>\n",
       "      <td>91415</td>\n",
       "    </tr>\n",
       "    <tr>\n",
       "      <th>4</th>\n",
       "      <td>born on the fourth of july</td>\n",
       "      <td>r</td>\n",
       "      <td>14000000</td>\n",
       "      <td>161001698</td>\n",
       "      <td>1989-12-20</td>\n",
       "      <td>war</td>\n",
       "      <td>145</td>\n",
       "      <td>7.2</td>\n",
       "      <td>91415</td>\n",
       "    </tr>\n",
       "    <tr>\n",
       "      <th>5</th>\n",
       "      <td>field of dreams</td>\n",
       "      <td>pg</td>\n",
       "      <td>15000000</td>\n",
       "      <td>84431625</td>\n",
       "      <td>1989-04-21</td>\n",
       "      <td>drama</td>\n",
       "      <td>107</td>\n",
       "      <td>7.5</td>\n",
       "      <td>101702</td>\n",
       "    </tr>\n",
       "  </tbody>\n",
       "</table>\n",
       "</div>"
      ],
      "text/plain": [
       "                              title mpaa_rating    budget      gross  \\\n",
       "movieid                                                                \n",
       "1                look who's talking       pg-13   7500000  296000000   \n",
       "2                driving miss daisy          pg   7500000  145793296   \n",
       "3                    turner & hooch          pg  13000000   71079915   \n",
       "4        born on the fourth of july           r  14000000  161001698   \n",
       "5                   field of dreams          pg  15000000   84431625   \n",
       "\n",
       "        release_date    genre  runtime  rating  rating_count  \n",
       "movieid                                                       \n",
       "1         1989-10-12  romance       93     5.9         73638  \n",
       "2         1989-12-13   comedy       99     7.4         91075  \n",
       "3         1989-07-28    crime      100     7.2         91415  \n",
       "4         1989-12-20      war      145     7.2         91415  \n",
       "5         1989-04-21    drama      107     7.5        101702  "
      ]
     },
     "execution_count": 584,
     "metadata": {},
     "output_type": "execute_result"
    }
   ],
   "source": [
    "movies.head()"
   ]
  },
  {
   "cell_type": "code",
   "execution_count": 585,
   "id": "b638b402",
   "metadata": {},
   "outputs": [
    {
     "name": "stdout",
     "output_type": "stream",
     "text": [
      "<class 'pandas.core.frame.DataFrame'>\n",
      "Index: 615 entries, 1 to 615\n",
      "Data columns (total 9 columns):\n",
      " #   Column        Non-Null Count  Dtype        \n",
      "---  ------        --------------  -----        \n",
      " 0   title         615 non-null    object       \n",
      " 1   mpaa_rating   615 non-null    category     \n",
      " 2   budget        615 non-null    int64        \n",
      " 3   gross         615 non-null    int64        \n",
      " 4   release_date  615 non-null    datetime64[s]\n",
      " 5   genre         615 non-null    category     \n",
      " 6   runtime       615 non-null    int64        \n",
      " 7   rating        615 non-null    float64      \n",
      " 8   rating_count  615 non-null    int64        \n",
      "dtypes: category(2), datetime64[s](1), float64(1), int64(4), object(1)\n",
      "memory usage: 40.5+ KB\n"
     ]
    }
   ],
   "source": [
    "movies.info()"
   ]
  },
  {
   "cell_type": "code",
   "execution_count": 586,
   "id": "d833aeea",
   "metadata": {},
   "outputs": [
    {
     "data": {
      "text/plain": [
       "mpaa_rating\n",
       "pg-13    285\n",
       "pg       161\n",
       "r        142\n",
       "g         27\n",
       "nc-17      0\n",
       "Name: count, dtype: int64"
      ]
     },
     "execution_count": 586,
     "metadata": {},
     "output_type": "execute_result"
    }
   ],
   "source": [
    "# MPAA rating\n",
    "movies.mpaa_rating.value_counts()"
   ]
  },
  {
   "cell_type": "code",
   "execution_count": 587,
   "id": "8b4b5efd",
   "metadata": {},
   "outputs": [
    {
     "data": {
      "text/plain": [
       "genre\n",
       "action             110\n",
       "comedy              99\n",
       "animation           87\n",
       "drama               66\n",
       "thriller            41\n",
       "science fiction     37\n",
       "adventure           30\n",
       "family              29\n",
       "romance             28\n",
       "fantasy             27\n",
       "crime               17\n",
       "horror              14\n",
       "mystery             11\n",
       "war                  9\n",
       "western              6\n",
       "history              4\n",
       "Name: count, dtype: int64"
      ]
     },
     "execution_count": 587,
     "metadata": {},
     "output_type": "execute_result"
    }
   ],
   "source": [
    "# genre\n",
    "movies.genre.value_counts()"
   ]
  },
  {
   "cell_type": "code",
   "execution_count": 588,
   "id": "efebe906",
   "metadata": {},
   "outputs": [
    {
     "data": {
      "application/vnd.microsoft.datawrangler.viewer.v0+json": {
       "columns": [
        {
         "name": "index",
         "rawType": "object",
         "type": "string"
        },
        {
         "name": "budget",
         "rawType": "float64",
         "type": "float"
        },
        {
         "name": "gross",
         "rawType": "float64",
         "type": "float"
        },
        {
         "name": "release_date",
         "rawType": "object",
         "type": "unknown"
        },
        {
         "name": "runtime",
         "rawType": "float64",
         "type": "float"
        },
        {
         "name": "rating",
         "rawType": "float64",
         "type": "float"
        },
        {
         "name": "rating_count",
         "rawType": "float64",
         "type": "float"
        }
       ],
       "conversionMethod": "pd.DataFrame",
       "ref": "04a2af5c-d960-4a5f-966e-8d21e7b53592",
       "rows": [
        [
         "count",
         "615.0",
         "615.0",
         "615",
         "615.0",
         "615.0",
         "615.0"
        ],
        [
         "mean",
         "94917098.43577236",
         "445322112.3837398",
         "2004-08-14 02:22:49",
         "118.64227642276423",
         "6.91430894308943",
         "322044.237398374"
        ],
        [
         "min",
         "60000.0",
         "53000000.0",
         "1989-04-21 00:00:00",
         "79.0",
         "4.1",
         "14918.0"
        ],
        [
         "25%",
         "40000000.0",
         "215893858.5",
         "1996-11-19 00:00:00",
         "102.0",
         "6.5",
         "150380.0"
        ],
        [
         "50%",
         "80000000.0",
         "351040419.0",
         "2004-07-23 00:00:00",
         "117.0",
         "6.9",
         "240347.0"
        ],
        [
         "75%",
         "140000000.0",
         "585176575.0",
         "2012-06-13 12:00:00",
         "132.0",
         "7.4",
         "381477.5"
        ],
        [
         "max",
         "400000000.0",
         "2796000000.0",
         "2019-12-09 00:00:00",
         "201.0",
         "9.0",
         "2127228.0"
        ],
        [
         "std",
         "67481135.71844004",
         "339407459.1029888",
         null,
         "22.25237610608052",
         "0.8077939570442162",
         "294401.40705120837"
        ]
       ],
       "shape": {
        "columns": 6,
        "rows": 8
       }
      },
      "text/html": [
       "<div>\n",
       "<style scoped>\n",
       "    .dataframe tbody tr th:only-of-type {\n",
       "        vertical-align: middle;\n",
       "    }\n",
       "\n",
       "    .dataframe tbody tr th {\n",
       "        vertical-align: top;\n",
       "    }\n",
       "\n",
       "    .dataframe thead th {\n",
       "        text-align: right;\n",
       "    }\n",
       "</style>\n",
       "<table border=\"1\" class=\"dataframe\">\n",
       "  <thead>\n",
       "    <tr style=\"text-align: right;\">\n",
       "      <th></th>\n",
       "      <th>budget</th>\n",
       "      <th>gross</th>\n",
       "      <th>release_date</th>\n",
       "      <th>runtime</th>\n",
       "      <th>rating</th>\n",
       "      <th>rating_count</th>\n",
       "    </tr>\n",
       "  </thead>\n",
       "  <tbody>\n",
       "    <tr>\n",
       "      <th>count</th>\n",
       "      <td>6.150000e+02</td>\n",
       "      <td>6.150000e+02</td>\n",
       "      <td>615</td>\n",
       "      <td>615.000000</td>\n",
       "      <td>615.000000</td>\n",
       "      <td>6.150000e+02</td>\n",
       "    </tr>\n",
       "    <tr>\n",
       "      <th>mean</th>\n",
       "      <td>9.491710e+07</td>\n",
       "      <td>4.453221e+08</td>\n",
       "      <td>2004-08-14 02:22:49</td>\n",
       "      <td>118.642276</td>\n",
       "      <td>6.914309</td>\n",
       "      <td>3.220442e+05</td>\n",
       "    </tr>\n",
       "    <tr>\n",
       "      <th>min</th>\n",
       "      <td>6.000000e+04</td>\n",
       "      <td>5.300000e+07</td>\n",
       "      <td>1989-04-21 00:00:00</td>\n",
       "      <td>79.000000</td>\n",
       "      <td>4.100000</td>\n",
       "      <td>1.491800e+04</td>\n",
       "    </tr>\n",
       "    <tr>\n",
       "      <th>25%</th>\n",
       "      <td>4.000000e+07</td>\n",
       "      <td>2.158939e+08</td>\n",
       "      <td>1996-11-19 00:00:00</td>\n",
       "      <td>102.000000</td>\n",
       "      <td>6.500000</td>\n",
       "      <td>1.503800e+05</td>\n",
       "    </tr>\n",
       "    <tr>\n",
       "      <th>50%</th>\n",
       "      <td>8.000000e+07</td>\n",
       "      <td>3.510404e+08</td>\n",
       "      <td>2004-07-23 00:00:00</td>\n",
       "      <td>117.000000</td>\n",
       "      <td>6.900000</td>\n",
       "      <td>2.403470e+05</td>\n",
       "    </tr>\n",
       "    <tr>\n",
       "      <th>75%</th>\n",
       "      <td>1.400000e+08</td>\n",
       "      <td>5.851766e+08</td>\n",
       "      <td>2012-06-13 12:00:00</td>\n",
       "      <td>132.000000</td>\n",
       "      <td>7.400000</td>\n",
       "      <td>3.814775e+05</td>\n",
       "    </tr>\n",
       "    <tr>\n",
       "      <th>max</th>\n",
       "      <td>4.000000e+08</td>\n",
       "      <td>2.796000e+09</td>\n",
       "      <td>2019-12-09 00:00:00</td>\n",
       "      <td>201.000000</td>\n",
       "      <td>9.000000</td>\n",
       "      <td>2.127228e+06</td>\n",
       "    </tr>\n",
       "    <tr>\n",
       "      <th>std</th>\n",
       "      <td>6.748114e+07</td>\n",
       "      <td>3.394075e+08</td>\n",
       "      <td>NaN</td>\n",
       "      <td>22.252376</td>\n",
       "      <td>0.807794</td>\n",
       "      <td>2.944014e+05</td>\n",
       "    </tr>\n",
       "  </tbody>\n",
       "</table>\n",
       "</div>"
      ],
      "text/plain": [
       "             budget         gross         release_date     runtime  \\\n",
       "count  6.150000e+02  6.150000e+02                  615  615.000000   \n",
       "mean   9.491710e+07  4.453221e+08  2004-08-14 02:22:49  118.642276   \n",
       "min    6.000000e+04  5.300000e+07  1989-04-21 00:00:00   79.000000   \n",
       "25%    4.000000e+07  2.158939e+08  1996-11-19 00:00:00  102.000000   \n",
       "50%    8.000000e+07  3.510404e+08  2004-07-23 00:00:00  117.000000   \n",
       "75%    1.400000e+08  5.851766e+08  2012-06-13 12:00:00  132.000000   \n",
       "max    4.000000e+08  2.796000e+09  2019-12-09 00:00:00  201.000000   \n",
       "std    6.748114e+07  3.394075e+08                  NaN   22.252376   \n",
       "\n",
       "           rating  rating_count  \n",
       "count  615.000000  6.150000e+02  \n",
       "mean     6.914309  3.220442e+05  \n",
       "min      4.100000  1.491800e+04  \n",
       "25%      6.500000  1.503800e+05  \n",
       "50%      6.900000  2.403470e+05  \n",
       "75%      7.400000  3.814775e+05  \n",
       "max      9.000000  2.127228e+06  \n",
       "std      0.807794  2.944014e+05  "
      ]
     },
     "execution_count": 588,
     "metadata": {},
     "output_type": "execute_result"
    }
   ],
   "source": [
    "# basic statistics\n",
    "movies.describe()"
   ]
  },
  {
   "cell_type": "markdown",
   "id": "92b68502",
   "metadata": {},
   "source": [
    "## Outliers"
   ]
  },
  {
   "cell_type": "markdown",
   "id": "52fe13ae",
   "metadata": {},
   "source": [
    "### Rating"
   ]
  },
  {
   "cell_type": "code",
   "execution_count": 589,
   "id": "254d4f44",
   "metadata": {},
   "outputs": [
    {
     "data": {
      "text/plain": [
       "<Axes: >"
      ]
     },
     "execution_count": 589,
     "metadata": {},
     "output_type": "execute_result"
    },
    {
     "data": {
      "image/png": "[encoded data removed]",
      "text/plain": [
       "<Figure size 640x480 with 1 Axes>"
      ]
     },
     "metadata": {},
     "output_type": "display_data"
    }
   ],
   "source": [
    "movies.rating.hist()"
   ]
  },
  {
   "cell_type": "code",
   "execution_count": 590,
   "id": "987b3a3d",
   "metadata": {},
   "outputs": [
    {
     "data": {
      "application/vnd.microsoft.datawrangler.viewer.v0+json": {
       "columns": [
        {
         "name": "movieid",
         "rawType": "int64",
         "type": "integer"
        },
        {
         "name": "title",
         "rawType": "object",
         "type": "string"
        },
        {
         "name": "mpaa_rating",
         "rawType": "category",
         "type": "unknown"
        },
        {
         "name": "budget",
         "rawType": "int64",
         "type": "integer"
        },
        {
         "name": "gross",
         "rawType": "int64",
         "type": "integer"
        },
        {
         "name": "release_date",
         "rawType": "datetime64[s]",
         "type": "unknown"
        },
        {
         "name": "genre",
         "rawType": "category",
         "type": "unknown"
        },
        {
         "name": "runtime",
         "rawType": "int64",
         "type": "integer"
        },
        {
         "name": "rating",
         "rawType": "float64",
         "type": "float"
        },
        {
         "name": "rating_count",
         "rawType": "int64",
         "type": "integer"
        }
       ],
       "conversionMethod": "pd.DataFrame",
       "ref": "88bf0125-421a-426a-b179-0ee5de310797",
       "rows": [
        [
         "427",
         "the last airbender",
         "pg",
         "150000000",
         "318502923",
         "2010-06-30 00:00:00",
         "adventure",
         "103",
         "4.1",
         "139750"
        ],
        [
         "279",
         "spy kids 3-d: game over",
         "pg",
         "38000000",
         "197011982",
         "2003-07-25 00:00:00",
         "family",
         "84",
         "4.2",
         "50809"
        ],
        [
         "414",
         "2012",
         "pg-13",
         "200000000",
         "769653595",
         "2009-10-10 00:00:00",
         "adventure",
         "158",
         "4.3",
         "28949"
        ],
        [
         "439",
         "alvin and the chipmunks: chipwrecked",
         "g",
         "75000000",
         "342695435",
         "2011-12-14 00:00:00",
         "family",
         "87",
         "4.3",
         "28949"
        ],
        [
         "228",
         "nutty professor ii: the klumps",
         "pg-13",
         "84000000",
         "123307945",
         "2000-07-27 00:00:00",
         "comedy",
         "106",
         "4.4",
         "46222"
        ],
        [
         "403",
         "alvin and the chipmunks: the squeakquel",
         "pg",
         "75000000",
         "443140005",
         "2009-12-21 00:00:00",
         "family",
         "88",
         "4.5",
         "40285"
        ],
        [
         "245",
         "dr. dolittle 2",
         "pg",
         "70000000",
         "176104344",
         "2001-06-22 00:00:00",
         "comedy",
         "87",
         "4.7",
         "39656"
        ],
        [
         "381",
         "marley and me",
         "pg",
         "60000000",
         "247800000",
         "2008-12-25 00:00:00",
         "drama",
         "115",
         "4.7",
         "252223"
        ],
        [
         "402",
         "the twilight saga: new moon",
         "pg-13",
         "50000000",
         "709827462",
         "2009-03-15 00:00:00",
         "romance",
         "130",
         "4.7",
         "252223"
        ],
        [
         "217",
         "wild wild west",
         "pg-13",
         "170000000",
         "222104681",
         "1999-06-29 00:00:00",
         "western",
         "106",
         "4.9",
         "146265"
        ],
        [
         "443",
         "the twilight saga: breaking dawn - part 1",
         "pg-13",
         "110000000",
         "712171856",
         "2011-03-15 00:00:00",
         "romance",
         "117",
         "4.9",
         "211592"
        ],
        [
         "111",
         "the flintstones",
         "pg",
         "46000000",
         "341631208",
         "1994-05-26 00:00:00",
         "family",
         "91",
         "4.9",
         "71389"
        ],
        [
         "270",
         "scooby-doo",
         "pg",
         "84000000",
         "275650703",
         "2002-06-14 00:00:00",
         "mystery",
         "88",
         "5.0",
         "90185"
        ],
        [
         "420",
         "the twilight saga: eclipse",
         "pg-13",
         "68000000",
         "698491347",
         "2010-06-23 00:00:00",
         "romance",
         "124",
         "5.0",
         "215110"
        ],
        [
         "339",
         "scary movie 4",
         "pg-13",
         "45000000",
         "178262620",
         "2006-04-13 00:00:00",
         "comedy",
         "83",
         "5.0",
         "108367"
        ],
        [
         "220",
         "big momma's house",
         "pg-13",
         "30000000",
         "173959438",
         "2000-05-31 00:00:00",
         "crime",
         "98",
         "5.1",
         "77180"
        ],
        [
         "428",
         "inception",
         "pg-13",
         "160000000",
         "825532764",
         "2010-07-14 00:00:00",
         "action",
         "148",
         "8.8",
         "1888105"
        ],
        [
         "112",
         "forrest gump",
         "pg-13",
         "55000000",
         "677945399",
         "1994-07-06 00:00:00",
         "comedy",
         "142",
         "8.8",
         "1657851"
        ],
        [
         "251",
         "the lord of the rings: the fellowship of the ring",
         "pg-13",
         "93000000",
         "871368364",
         "2001-12-18 00:00:00",
         "fantasy",
         "178",
         "8.8",
         "1545228"
        ],
        [
         "404",
         "fast and furious",
         "pg-13",
         "85000000",
         "363200000",
         "2009-04-03 00:00:00",
         "thriller",
         "107",
         "8.8",
         "1888105"
        ],
        [
         "100",
         "pulp fiction",
         "r",
         "8000000",
         "213928762",
         "1994-09-10 00:00:00",
         "thriller",
         "154",
         "8.9",
         "1690474"
        ],
        [
         "288",
         "the lord of the rings: the return of the king",
         "pg-13",
         "94000000",
         "1118888979",
         "2003-12-01 00:00:00",
         "fantasy",
         "201",
         "8.9",
         "1529953"
        ],
        [
         "84",
         "schindler's list",
         "r",
         "22000000",
         "321365567",
         "1993-11-29 00:00:00",
         "history",
         "195",
         "8.9",
         "1117322"
        ],
        [
         "99",
         "jurassic park iii",
         "pg-13",
         "93000000",
         "368800000",
         "2001-07-16 00:00:00",
         "thriller",
         "92",
         "8.9",
         "1690474"
        ],
        [
         "394",
         "the dark knight",
         "pg-13",
         "185000000",
         "1004558444",
         "2008-07-16 00:00:00",
         "action",
         "152",
         "9.0",
         "2127228"
        ]
       ],
       "shape": {
        "columns": 9,
        "rows": 25
       }
      },
      "text/html": [
       "<div>\n",
       "<style scoped>\n",
       "    .dataframe tbody tr th:only-of-type {\n",
       "        vertical-align: middle;\n",
       "    }\n",
       "\n",
       "    .dataframe tbody tr th {\n",
       "        vertical-align: top;\n",
       "    }\n",
       "\n",
       "    .dataframe thead th {\n",
       "        text-align: right;\n",
       "    }\n",
       "</style>\n",
       "<table border=\"1\" class=\"dataframe\">\n",
       "  <thead>\n",
       "    <tr style=\"text-align: right;\">\n",
       "      <th></th>\n",
       "      <th>title</th>\n",
       "      <th>mpaa_rating</th>\n",
       "      <th>budget</th>\n",
       "      <th>gross</th>\n",
       "      <th>release_date</th>\n",
       "      <th>genre</th>\n",
       "      <th>runtime</th>\n",
       "      <th>rating</th>\n",
       "      <th>rating_count</th>\n",
       "    </tr>\n",
       "    <tr>\n",
       "      <th>movieid</th>\n",
       "      <th></th>\n",
       "      <th></th>\n",
       "      <th></th>\n",
       "      <th></th>\n",
       "      <th></th>\n",
       "      <th></th>\n",
       "      <th></th>\n",
       "      <th></th>\n",
       "      <th></th>\n",
       "    </tr>\n",
       "  </thead>\n",
       "  <tbody>\n",
       "    <tr>\n",
       "      <th>427</th>\n",
       "      <td>the last airbender</td>\n",
       "      <td>pg</td>\n",
       "      <td>150000000</td>\n",
       "      <td>318502923</td>\n",
       "      <td>2010-06-30</td>\n",
       "      <td>adventure</td>\n",
       "      <td>103</td>\n",
       "      <td>4.1</td>\n",
       "      <td>139750</td>\n",
       "    </tr>\n",
       "    <tr>\n",
       "      <th>279</th>\n",
       "      <td>spy kids 3-d: game over</td>\n",
       "      <td>pg</td>\n",
       "      <td>38000000</td>\n",
       "      <td>197011982</td>\n",
       "      <td>2003-07-25</td>\n",
       "      <td>family</td>\n",
       "      <td>84</td>\n",
       "      <td>4.2</td>\n",
       "      <td>50809</td>\n",
       "    </tr>\n",
       "    <tr>\n",
       "      <th>414</th>\n",
       "      <td>2012</td>\n",
       "      <td>pg-13</td>\n",
       "      <td>200000000</td>\n",
       "      <td>769653595</td>\n",
       "      <td>2009-10-10</td>\n",
       "      <td>adventure</td>\n",
       "      <td>158</td>\n",
       "      <td>4.3</td>\n",
       "      <td>28949</td>\n",
       "    </tr>\n",
       "    <tr>\n",
       "      <th>439</th>\n",
       "      <td>alvin and the chipmunks: chipwrecked</td>\n",
       "      <td>g</td>\n",
       "      <td>75000000</td>\n",
       "      <td>342695435</td>\n",
       "      <td>2011-12-14</td>\n",
       "      <td>family</td>\n",
       "      <td>87</td>\n",
       "      <td>4.3</td>\n",
       "      <td>28949</td>\n",
       "    </tr>\n",
       "    <tr>\n",
       "      <th>228</th>\n",
       "      <td>nutty professor ii: the klumps</td>\n",
       "      <td>pg-13</td>\n",
       "      <td>84000000</td>\n",
       "      <td>123307945</td>\n",
       "      <td>2000-07-27</td>\n",
       "      <td>comedy</td>\n",
       "      <td>106</td>\n",
       "      <td>4.4</td>\n",
       "      <td>46222</td>\n",
       "    </tr>\n",
       "    <tr>\n",
       "      <th>403</th>\n",
       "      <td>alvin and the chipmunks: the squeakquel</td>\n",
       "      <td>pg</td>\n",
       "      <td>75000000</td>\n",
       "      <td>443140005</td>\n",
       "      <td>2009-12-21</td>\n",
       "      <td>family</td>\n",
       "      <td>88</td>\n",
       "      <td>4.5</td>\n",
       "      <td>40285</td>\n",
       "    </tr>\n",
       "    <tr>\n",
       "      <th>245</th>\n",
       "      <td>dr. dolittle 2</td>\n",
       "      <td>pg</td>\n",
       "      <td>70000000</td>\n",
       "      <td>176104344</td>\n",
       "      <td>2001-06-22</td>\n",
       "      <td>comedy</td>\n",
       "      <td>87</td>\n",
       "      <td>4.7</td>\n",
       "      <td>39656</td>\n",
       "    </tr>\n",
       "    <tr>\n",
       "      <th>381</th>\n",
       "      <td>marley and me</td>\n",
       "      <td>pg</td>\n",
       "      <td>60000000</td>\n",
       "      <td>247800000</td>\n",
       "      <td>2008-12-25</td>\n",
       "      <td>drama</td>\n",
       "      <td>115</td>\n",
       "      <td>4.7</td>\n",
       "      <td>252223</td>\n",
       "    </tr>\n",
       "    <tr>\n",
       "      <th>402</th>\n",
       "      <td>the twilight saga: new moon</td>\n",
       "      <td>pg-13</td>\n",
       "      <td>50000000</td>\n",
       "      <td>709827462</td>\n",
       "      <td>2009-03-15</td>\n",
       "      <td>romance</td>\n",
       "      <td>130</td>\n",
       "      <td>4.7</td>\n",
       "      <td>252223</td>\n",
       "    </tr>\n",
       "    <tr>\n",
       "      <th>217</th>\n",
       "      <td>wild wild west</td>\n",
       "      <td>pg-13</td>\n",
       "      <td>170000000</td>\n",
       "      <td>222104681</td>\n",
       "      <td>1999-06-29</td>\n",
       "      <td>western</td>\n",
       "      <td>106</td>\n",
       "      <td>4.9</td>\n",
       "      <td>146265</td>\n",
       "    </tr>\n",
       "    <tr>\n",
       "      <th>443</th>\n",
       "      <td>the twilight saga: breaking dawn - part 1</td>\n",
       "      <td>pg-13</td>\n",
       "      <td>110000000</td>\n",
       "      <td>712171856</td>\n",
       "      <td>2011-03-15</td>\n",
       "      <td>romance</td>\n",
       "      <td>117</td>\n",
       "      <td>4.9</td>\n",
       "      <td>211592</td>\n",
       "    </tr>\n",
       "    <tr>\n",
       "      <th>111</th>\n",
       "      <td>the flintstones</td>\n",
       "      <td>pg</td>\n",
       "      <td>46000000</td>\n",
       "      <td>341631208</td>\n",
       "      <td>1994-05-26</td>\n",
       "      <td>family</td>\n",
       "      <td>91</td>\n",
       "      <td>4.9</td>\n",
       "      <td>71389</td>\n",
       "    </tr>\n",
       "    <tr>\n",
       "      <th>270</th>\n",
       "      <td>scooby-doo</td>\n",
       "      <td>pg</td>\n",
       "      <td>84000000</td>\n",
       "      <td>275650703</td>\n",
       "      <td>2002-06-14</td>\n",
       "      <td>mystery</td>\n",
       "      <td>88</td>\n",
       "      <td>5.0</td>\n",
       "      <td>90185</td>\n",
       "    </tr>\n",
       "    <tr>\n",
       "      <th>420</th>\n",
       "      <td>the twilight saga: eclipse</td>\n",
       "      <td>pg-13</td>\n",
       "      <td>68000000</td>\n",
       "      <td>698491347</td>\n",
       "      <td>2010-06-23</td>\n",
       "      <td>romance</td>\n",
       "      <td>124</td>\n",
       "      <td>5.0</td>\n",
       "      <td>215110</td>\n",
       "    </tr>\n",
       "    <tr>\n",
       "      <th>339</th>\n",
       "      <td>scary movie 4</td>\n",
       "      <td>pg-13</td>\n",
       "      <td>45000000</td>\n",
       "      <td>178262620</td>\n",
       "      <td>2006-04-13</td>\n",
       "      <td>comedy</td>\n",
       "      <td>83</td>\n",
       "      <td>5.0</td>\n",
       "      <td>108367</td>\n",
       "    </tr>\n",
       "    <tr>\n",
       "      <th>220</th>\n",
       "      <td>big momma's house</td>\n",
       "      <td>pg-13</td>\n",
       "      <td>30000000</td>\n",
       "      <td>173959438</td>\n",
       "      <td>2000-05-31</td>\n",
       "      <td>crime</td>\n",
       "      <td>98</td>\n",
       "      <td>5.1</td>\n",
       "      <td>77180</td>\n",
       "    </tr>\n",
       "    <tr>\n",
       "      <th>428</th>\n",
       "      <td>inception</td>\n",
       "      <td>pg-13</td>\n",
       "      <td>160000000</td>\n",
       "      <td>825532764</td>\n",
       "      <td>2010-07-14</td>\n",
       "      <td>action</td>\n",
       "      <td>148</td>\n",
       "      <td>8.8</td>\n",
       "      <td>1888105</td>\n",
       "    </tr>\n",
       "    <tr>\n",
       "      <th>112</th>\n",
       "      <td>forrest gump</td>\n",
       "      <td>pg-13</td>\n",
       "      <td>55000000</td>\n",
       "      <td>677945399</td>\n",
       "      <td>1994-07-06</td>\n",
       "      <td>comedy</td>\n",
       "      <td>142</td>\n",
       "      <td>8.8</td>\n",
       "      <td>1657851</td>\n",
       "    </tr>\n",
       "    <tr>\n",
       "      <th>251</th>\n",
       "      <td>the lord of the rings: the fellowship of the ring</td>\n",
       "      <td>pg-13</td>\n",
       "      <td>93000000</td>\n",
       "      <td>871368364</td>\n",
       "      <td>2001-12-18</td>\n",
       "      <td>fantasy</td>\n",
       "      <td>178</td>\n",
       "      <td>8.8</td>\n",
       "      <td>1545228</td>\n",
       "    </tr>\n",
       "    <tr>\n",
       "      <th>404</th>\n",
       "      <td>fast and furious</td>\n",
       "      <td>pg-13</td>\n",
       "      <td>85000000</td>\n",
       "      <td>363200000</td>\n",
       "      <td>2009-04-03</td>\n",
       "      <td>thriller</td>\n",
       "      <td>107</td>\n",
       "      <td>8.8</td>\n",
       "      <td>1888105</td>\n",
       "    </tr>\n",
       "    <tr>\n",
       "      <th>100</th>\n",
       "      <td>pulp fiction</td>\n",
       "      <td>r</td>\n",
       "      <td>8000000</td>\n",
       "      <td>213928762</td>\n",
       "      <td>1994-09-10</td>\n",
       "      <td>thriller</td>\n",
       "      <td>154</td>\n",
       "      <td>8.9</td>\n",
       "      <td>1690474</td>\n",
       "    </tr>\n",
       "    <tr>\n",
       "      <th>288</th>\n",
       "      <td>the lord of the rings: the return of the king</td>\n",
       "      <td>pg-13</td>\n",
       "      <td>94000000</td>\n",
       "      <td>1118888979</td>\n",
       "      <td>2003-12-01</td>\n",
       "      <td>fantasy</td>\n",
       "      <td>201</td>\n",
       "      <td>8.9</td>\n",
       "      <td>1529953</td>\n",
       "    </tr>\n",
       "    <tr>\n",
       "      <th>84</th>\n",
       "      <td>schindler's list</td>\n",
       "      <td>r</td>\n",
       "      <td>22000000</td>\n",
       "      <td>321365567</td>\n",
       "      <td>1993-11-29</td>\n",
       "      <td>history</td>\n",
       "      <td>195</td>\n",
       "      <td>8.9</td>\n",
       "      <td>1117322</td>\n",
       "    </tr>\n",
       "    <tr>\n",
       "      <th>99</th>\n",
       "      <td>jurassic park iii</td>\n",
       "      <td>pg-13</td>\n",
       "      <td>93000000</td>\n",
       "      <td>368800000</td>\n",
       "      <td>2001-07-16</td>\n",
       "      <td>thriller</td>\n",
       "      <td>92</td>\n",
       "      <td>8.9</td>\n",
       "      <td>1690474</td>\n",
       "    </tr>\n",
       "    <tr>\n",
       "      <th>394</th>\n",
       "      <td>the dark knight</td>\n",
       "      <td>pg-13</td>\n",
       "      <td>185000000</td>\n",
       "      <td>1004558444</td>\n",
       "      <td>2008-07-16</td>\n",
       "      <td>action</td>\n",
       "      <td>152</td>\n",
       "      <td>9.0</td>\n",
       "      <td>2127228</td>\n",
       "    </tr>\n",
       "  </tbody>\n",
       "</table>\n",
       "</div>"
      ],
      "text/plain": [
       "                                                     title mpaa_rating  \\\n",
       "movieid                                                                  \n",
       "427                                     the last airbender          pg   \n",
       "279                                spy kids 3-d: game over          pg   \n",
       "414                                                   2012       pg-13   \n",
       "439                   alvin and the chipmunks: chipwrecked           g   \n",
       "228                         nutty professor ii: the klumps       pg-13   \n",
       "403                alvin and the chipmunks: the squeakquel          pg   \n",
       "245                                         dr. dolittle 2          pg   \n",
       "381                                          marley and me          pg   \n",
       "402                            the twilight saga: new moon       pg-13   \n",
       "217                                         wild wild west       pg-13   \n",
       "443              the twilight saga: breaking dawn - part 1       pg-13   \n",
       "111                                        the flintstones          pg   \n",
       "270                                             scooby-doo          pg   \n",
       "420                             the twilight saga: eclipse       pg-13   \n",
       "339                                          scary movie 4       pg-13   \n",
       "220                                      big momma's house       pg-13   \n",
       "428                                              inception       pg-13   \n",
       "112                                           forrest gump       pg-13   \n",
       "251      the lord of the rings: the fellowship of the ring       pg-13   \n",
       "404                                       fast and furious       pg-13   \n",
       "100                                           pulp fiction           r   \n",
       "288          the lord of the rings: the return of the king       pg-13   \n",
       "84                                        schindler's list           r   \n",
       "99                                       jurassic park iii       pg-13   \n",
       "394                                        the dark knight       pg-13   \n",
       "\n",
       "            budget       gross release_date      genre  runtime  rating  \\\n",
       "movieid                                                                   \n",
       "427      150000000   318502923   2010-06-30  adventure      103     4.1   \n",
       "279       38000000   197011982   2003-07-25     family       84     4.2   \n",
       "414      200000000   769653595   2009-10-10  adventure      158     4.3   \n",
       "439       75000000   342695435   2011-12-14     family       87     4.3   \n",
       "228       84000000   123307945   2000-07-27     comedy      106     4.4   \n",
       "403       75000000   443140005   2009-12-21     family       88     4.5   \n",
       "245       70000000   176104344   2001-06-22     comedy       87     4.7   \n",
       "381       60000000   247800000   2008-12-25      drama      115     4.7   \n",
       "402       50000000   709827462   2009-03-15    romance      130     4.7   \n",
       "217      170000000   222104681   1999-06-29    western      106     4.9   \n",
       "443      110000000   712171856   2011-03-15    romance      117     4.9   \n",
       "111       46000000   341631208   1994-05-26     family       91     4.9   \n",
       "270       84000000   275650703   2002-06-14    mystery       88     5.0   \n",
       "420       68000000   698491347   2010-06-23    romance      124     5.0   \n",
       "339       45000000   178262620   2006-04-13     comedy       83     5.0   \n",
       "220       30000000   173959438   2000-05-31      crime       98     5.1   \n",
       "428      160000000   825532764   2010-07-14     action      148     8.8   \n",
       "112       55000000   677945399   1994-07-06     comedy      142     8.8   \n",
       "251       93000000   871368364   2001-12-18    fantasy      178     8.8   \n",
       "404       85000000   363200000   2009-04-03   thriller      107     8.8   \n",
       "100        8000000   213928762   1994-09-10   thriller      154     8.9   \n",
       "288       94000000  1118888979   2003-12-01    fantasy      201     8.9   \n",
       "84        22000000   321365567   1993-11-29    history      195     8.9   \n",
       "99        93000000   368800000   2001-07-16   thriller       92     8.9   \n",
       "394      185000000  1004558444   2008-07-16     action      152     9.0   \n",
       "\n",
       "         rating_count  \n",
       "movieid                \n",
       "427            139750  \n",
       "279             50809  \n",
       "414             28949  \n",
       "439             28949  \n",
       "228             46222  \n",
       "403             40285  \n",
       "245             39656  \n",
       "381            252223  \n",
       "402            252223  \n",
       "217            146265  \n",
       "443            211592  \n",
       "111             71389  \n",
       "270             90185  \n",
       "420            215110  \n",
       "339            108367  \n",
       "220             77180  \n",
       "428           1888105  \n",
       "112           1657851  \n",
       "251           1545228  \n",
       "404           1888105  \n",
       "100           1690474  \n",
       "288           1529953  \n",
       "84            1117322  \n",
       "99            1690474  \n",
       "394           2127228  "
      ]
     },
     "execution_count": 590,
     "metadata": {},
     "output_type": "execute_result"
    }
   ],
   "source": [
    "def outliers(series: pd.Series) -> pd.Index:\n",
    "    '''\n",
    "    Get indices of values outside of the inner quartile range.\n",
    "    '''\n",
    "    q1 = series.quantile(0.25)\n",
    "    q3 = series.quantile(0.75)\n",
    "    threshold = 1.5*(q3-q1)\n",
    "    return np.logical_not(series.between(q1-threshold,q3+threshold))\n",
    "\n",
    "rating_outliers = movies[outliers(movies.rating)].sort_values(by='rating')\n",
    "rating_outliers"
   ]
  },
  {
   "cell_type": "markdown",
   "id": "7bb24a03",
   "metadata": {},
   "source": [
    "## EDA Exercises\n"
   ]
  },
  {
   "cell_type": "markdown",
   "id": "f1e4783d",
   "metadata": {},
   "source": [
    "### 1 - Show the movies with more than 7 in Rating & greater than 50 million Gross"
   ]
  },
  {
   "cell_type": "code",
   "execution_count": 591,
   "id": "1a9627d5",
   "metadata": {},
   "outputs": [
    {
     "data": {
      "application/vnd.microsoft.datawrangler.viewer.v0+json": {
       "columns": [
        {
         "name": "movieid",
         "rawType": "int64",
         "type": "integer"
        },
        {
         "name": "title",
         "rawType": "object",
         "type": "string"
        },
        {
         "name": "mpaa_rating",
         "rawType": "category",
         "type": "unknown"
        },
        {
         "name": "budget",
         "rawType": "int64",
         "type": "integer"
        },
        {
         "name": "gross",
         "rawType": "int64",
         "type": "integer"
        },
        {
         "name": "release_date",
         "rawType": "datetime64[s]",
         "type": "unknown"
        },
        {
         "name": "genre",
         "rawType": "category",
         "type": "unknown"
        },
        {
         "name": "runtime",
         "rawType": "int64",
         "type": "integer"
        },
        {
         "name": "rating",
         "rawType": "float64",
         "type": "float"
        },
        {
         "name": "rating_count",
         "rawType": "int64",
         "type": "integer"
        }
       ],
       "conversionMethod": "pd.DataFrame",
       "ref": "48da3b40-b1bc-41f2-9386-ea8b9d1c0475",
       "rows": [
        [
         "143",
         "the birdcage",
         "r",
         "31000000",
         "185260553",
         "1996-03-08 00:00:00",
         "comedy",
         "117",
         "7.1",
         "74466"
        ],
        [
         "113",
         "stargate",
         "pg-13",
         "55000000",
         "196567262",
         "1994-10-27 00:00:00",
         "science fiction",
         "121",
         "7.1",
         "167516"
        ],
        [
         "189",
         "the prince of egypt",
         "pg",
         "70000000",
         "218613188",
         "1998-12-15 00:00:00",
         "animation",
         "99",
         "7.1",
         "110340"
        ],
        [
         "260",
         "the ring",
         "pg-13",
         "48000000",
         "249348933",
         "2002-10-18 00:00:00",
         "horror",
         "115",
         "7.1",
         "303397"
        ],
        [
         "181",
         "shakespeare in love",
         "r",
         "25000000",
         "289317794",
         "1998-12-11 00:00:00",
         "history",
         "122",
         "7.1",
         "203939"
        ],
        [
         "308",
         "i, robot",
         "pg-13",
         "120000000",
         "347234916",
         "2004-07-15 00:00:00",
         "science fiction",
         "115",
         "7.1",
         "472748"
        ],
        [
         "462",
         "hotel transylvania",
         "pg",
         "85000000",
         "358375603",
         "2012-09-20 00:00:00",
         "animation",
         "91",
         "7.1",
         "208916"
        ],
        [
         "204",
         "notting hill",
         "pg-13",
         "42000000",
         "363889678",
         "1999-05-13 00:00:00",
         "romance",
         "124",
         "7.1",
         "251006"
        ],
        [
         "179",
         "there's something about mary",
         "r",
         "23000000",
         "369884651",
         "1998-07-15 00:00:00",
         "romance",
         "119",
         "7.1",
         "278096"
        ],
        [
         "366",
         "live free or die hard",
         "pg-13",
         "110000000",
         "383531464",
         "2007-06-20 00:00:00",
         "thriller",
         "128",
         "7.1",
         "375083"
        ],
        [
         "153",
         "mission: impossible",
         "pg-13",
         "80000000",
         "457696359",
         "1996-05-22 00:00:00",
         "action",
         "110",
         "7.1",
         "365266"
        ],
        [
         "350",
         "cars",
         "g",
         "120000000",
         "461983149",
         "2006-06-08 00:00:00",
         "animation",
         "117",
         "7.1",
         "338715"
        ],
        [
         "469",
         "brave",
         "pg",
         "185000000",
         "538983207",
         "2012-06-21 00:00:00",
         "animation",
         "93",
         "7.1",
         "346490"
        ],
        [
         "299",
         "the passion of the christ",
         "r",
         "30000000",
         "611899420",
         "2004-02-25 00:00:00",
         "drama",
         "127",
         "7.1",
         "203486"
        ],
        [
         "494",
         "man of steel",
         "pg-13",
         "225000000",
         "662845518",
         "2013-06-12 00:00:00",
         "action",
         "143",
         "7.1",
         "657937"
        ],
        [
         "376",
         "pirates of the caribbean: at world's end",
         "pg-13",
         "300000000",
         "961000000",
         "2007-05-19 00:00:00",
         "adventure",
         "169",
         "7.1",
         "565402"
        ],
        [
         "60",
         "the crying game",
         "r",
         "3705538",
         "62548947",
         "1992-09-02 00:00:00",
         "romance",
         "112",
         "7.2",
         "48101"
        ],
        [
         "3",
         "turner & hooch",
         "pg",
         "13000000",
         "71079915",
         "1989-07-28 00:00:00",
         "crime",
         "100",
         "7.2",
         "91415"
        ],
        [
         "50",
         "star trek vi: the undiscovered country",
         "pg",
         "27000000",
         "96900000",
         "1991-12-05 00:00:00",
         "science fiction",
         "113",
         "7.2",
         "66086"
        ],
        [
         "73",
         "a league of their own",
         "pg",
         "40000000",
         "107458785",
         "1992-07-01 00:00:00",
         "comedy",
         "128",
         "7.2",
         "85932"
        ],
        [
         "4",
         "born on the fourth of july",
         "r",
         "14000000",
         "161001698",
         "1989-12-20 00:00:00",
         "war",
         "145",
         "7.2",
         "91415"
        ],
        [
         "140",
         "scream",
         "r",
         "14000000",
         "173046663",
         "1996-12-20 00:00:00",
         "horror",
         "111",
         "7.2",
         "267513"
        ],
        [
         "92",
         "in the line of fire",
         "r",
         "40000000",
         "176997168",
         "1993-07-08 00:00:00",
         "crime",
         "128",
         "7.2",
         "86650"
        ],
        [
         "233",
         "the patriot",
         "r",
         "110000000",
         "215294342",
         "2000-06-28 00:00:00",
         "history",
         "165",
         "7.2",
         "241120"
        ],
        [
         "10",
         "lethal weapon 2",
         "r",
         "25000000",
         "227853986",
         "1989-07-07 00:00:00",
         "comedy",
         "114",
         "7.2",
         "151737"
        ],
        [
         "40",
         "die hard 2",
         "r",
         "70000000",
         "240031094",
         "1990-07-02 00:00:00",
         "thriller",
         "124",
         "7.2",
         "317843"
        ],
        [
         "479",
         "american hustle",
         "r",
         "40000000",
         "251171807",
         "2013-12-12 00:00:00",
         "crime",
         "138",
         "7.2",
         "424472"
        ],
        [
         "426",
         "megamind",
         "pg",
         "130000000",
         "321887208",
         "2010-10-28 00:00:00",
         "animation",
         "95",
         "7.2",
         "212563"
        ],
        [
         "105",
         "speed",
         "r",
         "30000000",
         "350448145",
         "1994-06-09 00:00:00",
         "action",
         "116",
         "7.2",
         "309338"
        ],
        [
         "134",
         "goldeneye",
         "pg-13",
         "58000000",
         "352194034",
         "1995-11-16 00:00:00",
         "action",
         "130",
         "7.2",
         "226013"
        ],
        [
         "195",
         "a bug's life",
         "g",
         "120000000",
         "363258859",
         "1998-11-25 00:00:00",
         "animation",
         "95",
         "7.2",
         "251436"
        ],
        [
         "119",
         "true lies",
         "r",
         "115000000",
         "378882411",
         "1994-07-14 00:00:00",
         "action",
         "141",
         "7.2",
         "223671"
        ],
        [
         "315",
         "troy",
         "r",
         "175000000",
         "497409852",
         "2004-05-13 00:00:00",
         "war",
         "163",
         "7.2",
         "460689"
        ],
        [
         "336",
         "king kong",
         "pg-13",
         "207000000",
         "550000000",
         "2005-12-14 00:00:00",
         "adventure",
         "187",
         "7.2",
         "372684"
        ],
        [
         "485",
         "the croods",
         "pg",
         "135000000",
         "585178928",
         "2013-03-20 00:00:00",
         "animation",
         "98",
         "7.2",
         "180043"
        ],
        [
         "373",
         "i am legend",
         "pg-13",
         "150000000",
         "585349010",
         "2007-12-14 00:00:00",
         "drama",
         "101",
         "7.2",
         "645359"
        ],
        [
         "452",
         "kung fu panda 2",
         "pg",
         "150000000",
         "665692281",
         "2011-05-25 00:00:00",
         "animation",
         "91",
         "7.2",
         "234612"
        ],
        [
         "461",
         "the hunger games",
         "pg-13",
         "75000000",
         "691210692",
         "2012-03-12 00:00:00",
         "adventure",
         "142",
         "7.2",
         "805367"
        ],
        [
         "294",
         "the matrix reloaded",
         "r",
         "150000000",
         "738599701",
         "2003-05-15 00:00:00",
         "science fiction",
         "138",
         "7.2",
         "487328"
        ],
        [
         "312",
         "shrek 2",
         "pg",
         "150000000",
         "919838758",
         "2004-05-19 00:00:00",
         "animation",
         "93",
         "7.2",
         "391295"
        ],
        [
         "491",
         "iron man 3",
         "pg-13",
         "200000000",
         "1215439994",
         "2013-04-18 00:00:00",
         "action",
         "130",
         "7.2",
         "710052"
        ],
        [
         "20",
         "steel magnolias",
         "pg",
         "15000000",
         "95904091",
         "1989-11-15 00:00:00",
         "drama",
         "119",
         "7.3",
         "43037"
        ],
        [
         "127",
         "mr. holland's opus",
         "pg",
         "31000000",
         "106269971",
         "1995-12-29 00:00:00",
         "family",
         "137",
         "7.3",
         "33906"
        ],
        [
         "286",
         "seabiscuit",
         "pg-13",
         "87000000",
         "148336445",
         "2003-07-22 00:00:00",
         "drama",
         "141",
         "7.3",
         "63813"
        ],
        [
         "132",
         "crimson tide",
         "r",
         "53000000",
         "157387195",
         "1995-05-12 00:00:00",
         "thriller",
         "116",
         "7.3",
         "95145"
        ],
        [
         "54",
         "cape fear",
         "r",
         "35000000",
         "182300000",
         "1991-11-15 00:00:00",
         "crime",
         "128",
         "7.3",
         "157496"
        ],
        [
         "170",
         "face/off",
         "r",
         "80000000",
         "245676146",
         "1997-06-27 00:00:00",
         "thriller",
         "138",
         "7.3",
         "331618"
        ],
        [
         "102",
         "dumb and dumber",
         "pg-13",
         "16000000",
         "247275374",
         "1994-12-16 00:00:00",
         "comedy",
         "107",
         "7.3",
         "334497"
        ],
        [
         "193",
         "enemy of the state",
         "r",
         "90000000",
         "250649836",
         "1998-11-20 00:00:00",
         "thriller",
         "132",
         "7.3",
         "216789"
        ],
        [
         "172",
         "hercules",
         "g",
         "85000000",
         "252712101",
         "1997-06-26 00:00:00",
         "animation",
         "93",
         "7.3",
         "188044"
        ]
       ],
       "shape": {
        "columns": 9,
        "rows": 224
       }
      },
      "text/html": [
       "<div>\n",
       "<style scoped>\n",
       "    .dataframe tbody tr th:only-of-type {\n",
       "        vertical-align: middle;\n",
       "    }\n",
       "\n",
       "    .dataframe tbody tr th {\n",
       "        vertical-align: top;\n",
       "    }\n",
       "\n",
       "    .dataframe thead th {\n",
       "        text-align: right;\n",
       "    }\n",
       "</style>\n",
       "<table border=\"1\" class=\"dataframe\">\n",
       "  <thead>\n",
       "    <tr style=\"text-align: right;\">\n",
       "      <th></th>\n",
       "      <th>title</th>\n",
       "      <th>mpaa_rating</th>\n",
       "      <th>budget</th>\n",
       "      <th>gross</th>\n",
       "      <th>release_date</th>\n",
       "      <th>genre</th>\n",
       "      <th>runtime</th>\n",
       "      <th>rating</th>\n",
       "      <th>rating_count</th>\n",
       "    </tr>\n",
       "    <tr>\n",
       "      <th>movieid</th>\n",
       "      <th></th>\n",
       "      <th></th>\n",
       "      <th></th>\n",
       "      <th></th>\n",
       "      <th></th>\n",
       "      <th></th>\n",
       "      <th></th>\n",
       "      <th></th>\n",
       "      <th></th>\n",
       "    </tr>\n",
       "  </thead>\n",
       "  <tbody>\n",
       "    <tr>\n",
       "      <th>143</th>\n",
       "      <td>the birdcage</td>\n",
       "      <td>r</td>\n",
       "      <td>31000000</td>\n",
       "      <td>185260553</td>\n",
       "      <td>1996-03-08</td>\n",
       "      <td>comedy</td>\n",
       "      <td>117</td>\n",
       "      <td>7.1</td>\n",
       "      <td>74466</td>\n",
       "    </tr>\n",
       "    <tr>\n",
       "      <th>113</th>\n",
       "      <td>stargate</td>\n",
       "      <td>pg-13</td>\n",
       "      <td>55000000</td>\n",
       "      <td>196567262</td>\n",
       "      <td>1994-10-27</td>\n",
       "      <td>science fiction</td>\n",
       "      <td>121</td>\n",
       "      <td>7.1</td>\n",
       "      <td>167516</td>\n",
       "    </tr>\n",
       "    <tr>\n",
       "      <th>189</th>\n",
       "      <td>the prince of egypt</td>\n",
       "      <td>pg</td>\n",
       "      <td>70000000</td>\n",
       "      <td>218613188</td>\n",
       "      <td>1998-12-15</td>\n",
       "      <td>animation</td>\n",
       "      <td>99</td>\n",
       "      <td>7.1</td>\n",
       "      <td>110340</td>\n",
       "    </tr>\n",
       "    <tr>\n",
       "      <th>260</th>\n",
       "      <td>the ring</td>\n",
       "      <td>pg-13</td>\n",
       "      <td>48000000</td>\n",
       "      <td>249348933</td>\n",
       "      <td>2002-10-18</td>\n",
       "      <td>horror</td>\n",
       "      <td>115</td>\n",
       "      <td>7.1</td>\n",
       "      <td>303397</td>\n",
       "    </tr>\n",
       "    <tr>\n",
       "      <th>181</th>\n",
       "      <td>shakespeare in love</td>\n",
       "      <td>r</td>\n",
       "      <td>25000000</td>\n",
       "      <td>289317794</td>\n",
       "      <td>1998-12-11</td>\n",
       "      <td>history</td>\n",
       "      <td>122</td>\n",
       "      <td>7.1</td>\n",
       "      <td>203939</td>\n",
       "    </tr>\n",
       "    <tr>\n",
       "      <th>...</th>\n",
       "      <td>...</td>\n",
       "      <td>...</td>\n",
       "      <td>...</td>\n",
       "      <td>...</td>\n",
       "      <td>...</td>\n",
       "      <td>...</td>\n",
       "      <td>...</td>\n",
       "      <td>...</td>\n",
       "      <td>...</td>\n",
       "    </tr>\n",
       "    <tr>\n",
       "      <th>100</th>\n",
       "      <td>pulp fiction</td>\n",
       "      <td>r</td>\n",
       "      <td>8000000</td>\n",
       "      <td>213928762</td>\n",
       "      <td>1994-09-10</td>\n",
       "      <td>thriller</td>\n",
       "      <td>154</td>\n",
       "      <td>8.9</td>\n",
       "      <td>1690474</td>\n",
       "    </tr>\n",
       "    <tr>\n",
       "      <th>84</th>\n",
       "      <td>schindler's list</td>\n",
       "      <td>r</td>\n",
       "      <td>22000000</td>\n",
       "      <td>321365567</td>\n",
       "      <td>1993-11-29</td>\n",
       "      <td>history</td>\n",
       "      <td>195</td>\n",
       "      <td>8.9</td>\n",
       "      <td>1117322</td>\n",
       "    </tr>\n",
       "    <tr>\n",
       "      <th>99</th>\n",
       "      <td>jurassic park iii</td>\n",
       "      <td>pg-13</td>\n",
       "      <td>93000000</td>\n",
       "      <td>368800000</td>\n",
       "      <td>2001-07-16</td>\n",
       "      <td>thriller</td>\n",
       "      <td>92</td>\n",
       "      <td>8.9</td>\n",
       "      <td>1690474</td>\n",
       "    </tr>\n",
       "    <tr>\n",
       "      <th>288</th>\n",
       "      <td>the lord of the rings: the return of the king</td>\n",
       "      <td>pg-13</td>\n",
       "      <td>94000000</td>\n",
       "      <td>1118888979</td>\n",
       "      <td>2003-12-01</td>\n",
       "      <td>fantasy</td>\n",
       "      <td>201</td>\n",
       "      <td>8.9</td>\n",
       "      <td>1529953</td>\n",
       "    </tr>\n",
       "    <tr>\n",
       "      <th>394</th>\n",
       "      <td>the dark knight</td>\n",
       "      <td>pg-13</td>\n",
       "      <td>185000000</td>\n",
       "      <td>1004558444</td>\n",
       "      <td>2008-07-16</td>\n",
       "      <td>action</td>\n",
       "      <td>152</td>\n",
       "      <td>9.0</td>\n",
       "      <td>2127228</td>\n",
       "    </tr>\n",
       "  </tbody>\n",
       "</table>\n",
       "<p>224 rows × 9 columns</p>\n",
       "</div>"
      ],
      "text/plain": [
       "                                                 title mpaa_rating     budget  \\\n",
       "movieid                                                                         \n",
       "143                                       the birdcage           r   31000000   \n",
       "113                                           stargate       pg-13   55000000   \n",
       "189                                the prince of egypt          pg   70000000   \n",
       "260                                           the ring       pg-13   48000000   \n",
       "181                                shakespeare in love           r   25000000   \n",
       "...                                                ...         ...        ...   \n",
       "100                                       pulp fiction           r    8000000   \n",
       "84                                    schindler's list           r   22000000   \n",
       "99                                   jurassic park iii       pg-13   93000000   \n",
       "288      the lord of the rings: the return of the king       pg-13   94000000   \n",
       "394                                    the dark knight       pg-13  185000000   \n",
       "\n",
       "              gross release_date            genre  runtime  rating  \\\n",
       "movieid                                                              \n",
       "143       185260553   1996-03-08           comedy      117     7.1   \n",
       "113       196567262   1994-10-27  science fiction      121     7.1   \n",
       "189       218613188   1998-12-15        animation       99     7.1   \n",
       "260       249348933   2002-10-18           horror      115     7.1   \n",
       "181       289317794   1998-12-11          history      122     7.1   \n",
       "...             ...          ...              ...      ...     ...   \n",
       "100       213928762   1994-09-10         thriller      154     8.9   \n",
       "84        321365567   1993-11-29          history      195     8.9   \n",
       "99        368800000   2001-07-16         thriller       92     8.9   \n",
       "288      1118888979   2003-12-01          fantasy      201     8.9   \n",
       "394      1004558444   2008-07-16           action      152     9.0   \n",
       "\n",
       "         rating_count  \n",
       "movieid                \n",
       "143             74466  \n",
       "113            167516  \n",
       "189            110340  \n",
       "260            303397  \n",
       "181            203939  \n",
       "...               ...  \n",
       "100           1690474  \n",
       "84            1117322  \n",
       "99            1690474  \n",
       "288           1529953  \n",
       "394           2127228  \n",
       "\n",
       "[224 rows x 9 columns]"
      ]
     },
     "execution_count": 591,
     "metadata": {},
     "output_type": "execute_result"
    }
   ],
   "source": [
    "movies[(movies.rating > 7.0) & (movies.gross > 50000000)].sort_values(['rating', 'gross'])"
   ]
  },
  {
   "cell_type": "code",
   "execution_count": 592,
   "id": "98e672c9",
   "metadata": {},
   "outputs": [
    {
     "data": {
      "application/vnd.microsoft.datawrangler.viewer.v0+json": {
       "columns": [
        {
         "name": "movieid",
         "rawType": "int64",
         "type": "integer"
        },
        {
         "name": "title",
         "rawType": "object",
         "type": "unknown"
        },
        {
         "name": "mpaa_rating",
         "rawType": "category",
         "type": "unknown"
        },
        {
         "name": "budget",
         "rawType": "float64",
         "type": "float"
        },
        {
         "name": "gross",
         "rawType": "float64",
         "type": "float"
        },
        {
         "name": "release_date",
         "rawType": "datetime64[s]",
         "type": "unknown"
        },
        {
         "name": "genre",
         "rawType": "category",
         "type": "unknown"
        },
        {
         "name": "runtime",
         "rawType": "float64",
         "type": "float"
        },
        {
         "name": "rating",
         "rawType": "float64",
         "type": "float"
        },
        {
         "name": "rating_count",
         "rawType": "float64",
         "type": "float"
        }
       ],
       "conversionMethod": "pd.DataFrame",
       "ref": "1a3fafa5-0387-428e-8a1b-a9282b79a831",
       "rows": [
        [
         "143",
         "the birdcage",
         "r",
         "31000000.0",
         "185260553.0",
         "1996-03-08 00:00:00",
         "comedy",
         "117.0",
         "7.1",
         "74466.0"
        ],
        [
         "113",
         "stargate",
         "pg-13",
         "55000000.0",
         "196567262.0",
         "1994-10-27 00:00:00",
         "science fiction",
         "121.0",
         "7.1",
         "167516.0"
        ],
        [
         "189",
         "the prince of egypt",
         "pg",
         "70000000.0",
         "218613188.0",
         "1998-12-15 00:00:00",
         "animation",
         "99.0",
         "7.1",
         "110340.0"
        ],
        [
         "260",
         "the ring",
         "pg-13",
         "48000000.0",
         "249348933.0",
         "2002-10-18 00:00:00",
         "horror",
         "115.0",
         "7.1",
         "303397.0"
        ],
        [
         "181",
         "shakespeare in love",
         "r",
         "25000000.0",
         "289317794.0",
         "1998-12-11 00:00:00",
         "history",
         "122.0",
         "7.1",
         "203939.0"
        ],
        [
         "308",
         "i, robot",
         "pg-13",
         "120000000.0",
         "347234916.0",
         "2004-07-15 00:00:00",
         "science fiction",
         "115.0",
         "7.1",
         "472748.0"
        ],
        [
         "462",
         "hotel transylvania",
         "pg",
         "85000000.0",
         "358375603.0",
         "2012-09-20 00:00:00",
         "animation",
         "91.0",
         "7.1",
         "208916.0"
        ],
        [
         "204",
         "notting hill",
         "pg-13",
         "42000000.0",
         "363889678.0",
         "1999-05-13 00:00:00",
         "romance",
         "124.0",
         "7.1",
         "251006.0"
        ],
        [
         "179",
         "there's something about mary",
         "r",
         "23000000.0",
         "369884651.0",
         "1998-07-15 00:00:00",
         "romance",
         "119.0",
         "7.1",
         "278096.0"
        ],
        [
         "366",
         "live free or die hard",
         "pg-13",
         "110000000.0",
         "383531464.0",
         "2007-06-20 00:00:00",
         "thriller",
         "128.0",
         "7.1",
         "375083.0"
        ],
        [
         "153",
         "mission: impossible",
         "pg-13",
         "80000000.0",
         "457696359.0",
         "1996-05-22 00:00:00",
         "action",
         "110.0",
         "7.1",
         "365266.0"
        ],
        [
         "350",
         "cars",
         "g",
         "120000000.0",
         "461983149.0",
         "2006-06-08 00:00:00",
         "animation",
         "117.0",
         "7.1",
         "338715.0"
        ],
        [
         "469",
         "brave",
         "pg",
         "185000000.0",
         "538983207.0",
         "2012-06-21 00:00:00",
         "animation",
         "93.0",
         "7.1",
         "346490.0"
        ],
        [
         "299",
         "the passion of the christ",
         "r",
         "30000000.0",
         "611899420.0",
         "2004-02-25 00:00:00",
         "drama",
         "127.0",
         "7.1",
         "203486.0"
        ],
        [
         "494",
         "man of steel",
         "pg-13",
         "225000000.0",
         "662845518.0",
         "2013-06-12 00:00:00",
         "action",
         "143.0",
         "7.1",
         "657937.0"
        ],
        [
         "376",
         "pirates of the caribbean: at world's end",
         "pg-13",
         "300000000.0",
         "961000000.0",
         "2007-05-19 00:00:00",
         "adventure",
         "169.0",
         "7.1",
         "565402.0"
        ],
        [
         "60",
         "the crying game",
         "r",
         "3705538.0",
         "62548947.0",
         "1992-09-02 00:00:00",
         "romance",
         "112.0",
         "7.2",
         "48101.0"
        ],
        [
         "3",
         "turner & hooch",
         "pg",
         "13000000.0",
         "71079915.0",
         "1989-07-28 00:00:00",
         "crime",
         "100.0",
         "7.2",
         "91415.0"
        ],
        [
         "50",
         "star trek vi: the undiscovered country",
         "pg",
         "27000000.0",
         "96900000.0",
         "1991-12-05 00:00:00",
         "science fiction",
         "113.0",
         "7.2",
         "66086.0"
        ],
        [
         "73",
         "a league of their own",
         "pg",
         "40000000.0",
         "107458785.0",
         "1992-07-01 00:00:00",
         "comedy",
         "128.0",
         "7.2",
         "85932.0"
        ],
        [
         "4",
         "born on the fourth of july",
         "r",
         "14000000.0",
         "161001698.0",
         "1989-12-20 00:00:00",
         "war",
         "145.0",
         "7.2",
         "91415.0"
        ],
        [
         "140",
         "scream",
         "r",
         "14000000.0",
         "173046663.0",
         "1996-12-20 00:00:00",
         "horror",
         "111.0",
         "7.2",
         "267513.0"
        ],
        [
         "92",
         "in the line of fire",
         "r",
         "40000000.0",
         "176997168.0",
         "1993-07-08 00:00:00",
         "crime",
         "128.0",
         "7.2",
         "86650.0"
        ],
        [
         "233",
         "the patriot",
         "r",
         "110000000.0",
         "215294342.0",
         "2000-06-28 00:00:00",
         "history",
         "165.0",
         "7.2",
         "241120.0"
        ],
        [
         "10",
         "lethal weapon 2",
         "r",
         "25000000.0",
         "227853986.0",
         "1989-07-07 00:00:00",
         "comedy",
         "114.0",
         "7.2",
         "151737.0"
        ],
        [
         "40",
         "die hard 2",
         "r",
         "70000000.0",
         "240031094.0",
         "1990-07-02 00:00:00",
         "thriller",
         "124.0",
         "7.2",
         "317843.0"
        ],
        [
         "479",
         "american hustle",
         "r",
         "40000000.0",
         "251171807.0",
         "2013-12-12 00:00:00",
         "crime",
         "138.0",
         "7.2",
         "424472.0"
        ],
        [
         "426",
         "megamind",
         "pg",
         "130000000.0",
         "321887208.0",
         "2010-10-28 00:00:00",
         "animation",
         "95.0",
         "7.2",
         "212563.0"
        ],
        [
         "105",
         "speed",
         "r",
         "30000000.0",
         "350448145.0",
         "1994-06-09 00:00:00",
         "action",
         "116.0",
         "7.2",
         "309338.0"
        ],
        [
         "134",
         "goldeneye",
         "pg-13",
         "58000000.0",
         "352194034.0",
         "1995-11-16 00:00:00",
         "action",
         "130.0",
         "7.2",
         "226013.0"
        ],
        [
         "195",
         "a bug's life",
         "g",
         "120000000.0",
         "363258859.0",
         "1998-11-25 00:00:00",
         "animation",
         "95.0",
         "7.2",
         "251436.0"
        ],
        [
         "119",
         "true lies",
         "r",
         "115000000.0",
         "378882411.0",
         "1994-07-14 00:00:00",
         "action",
         "141.0",
         "7.2",
         "223671.0"
        ],
        [
         "315",
         "troy",
         "r",
         "175000000.0",
         "497409852.0",
         "2004-05-13 00:00:00",
         "war",
         "163.0",
         "7.2",
         "460689.0"
        ],
        [
         "336",
         "king kong",
         "pg-13",
         "207000000.0",
         "550000000.0",
         "2005-12-14 00:00:00",
         "adventure",
         "187.0",
         "7.2",
         "372684.0"
        ],
        [
         "485",
         "the croods",
         "pg",
         "135000000.0",
         "585178928.0",
         "2013-03-20 00:00:00",
         "animation",
         "98.0",
         "7.2",
         "180043.0"
        ],
        [
         "373",
         "i am legend",
         "pg-13",
         "150000000.0",
         "585349010.0",
         "2007-12-14 00:00:00",
         "drama",
         "101.0",
         "7.2",
         "645359.0"
        ],
        [
         "452",
         "kung fu panda 2",
         "pg",
         "150000000.0",
         "665692281.0",
         "2011-05-25 00:00:00",
         "animation",
         "91.0",
         "7.2",
         "234612.0"
        ],
        [
         "461",
         "the hunger games",
         "pg-13",
         "75000000.0",
         "691210692.0",
         "2012-03-12 00:00:00",
         "adventure",
         "142.0",
         "7.2",
         "805367.0"
        ],
        [
         "294",
         "the matrix reloaded",
         "r",
         "150000000.0",
         "738599701.0",
         "2003-05-15 00:00:00",
         "science fiction",
         "138.0",
         "7.2",
         "487328.0"
        ],
        [
         "312",
         "shrek 2",
         "pg",
         "150000000.0",
         "919838758.0",
         "2004-05-19 00:00:00",
         "animation",
         "93.0",
         "7.2",
         "391295.0"
        ],
        [
         "491",
         "iron man 3",
         "pg-13",
         "200000000.0",
         "1215439994.0",
         "2013-04-18 00:00:00",
         "action",
         "130.0",
         "7.2",
         "710052.0"
        ],
        [
         "20",
         "steel magnolias",
         "pg",
         "15000000.0",
         "95904091.0",
         "1989-11-15 00:00:00",
         "drama",
         "119.0",
         "7.3",
         "43037.0"
        ],
        [
         "127",
         "mr. holland's opus",
         "pg",
         "31000000.0",
         "106269971.0",
         "1995-12-29 00:00:00",
         "family",
         "137.0",
         "7.3",
         "33906.0"
        ],
        [
         "286",
         "seabiscuit",
         "pg-13",
         "87000000.0",
         "148336445.0",
         "2003-07-22 00:00:00",
         "drama",
         "141.0",
         "7.3",
         "63813.0"
        ],
        [
         "132",
         "crimson tide",
         "r",
         "53000000.0",
         "157387195.0",
         "1995-05-12 00:00:00",
         "thriller",
         "116.0",
         "7.3",
         "95145.0"
        ],
        [
         "54",
         "cape fear",
         "r",
         "35000000.0",
         "182300000.0",
         "1991-11-15 00:00:00",
         "crime",
         "128.0",
         "7.3",
         "157496.0"
        ],
        [
         "170",
         "face/off",
         "r",
         "80000000.0",
         "245676146.0",
         "1997-06-27 00:00:00",
         "thriller",
         "138.0",
         "7.3",
         "331618.0"
        ],
        [
         "102",
         "dumb and dumber",
         "pg-13",
         "16000000.0",
         "247275374.0",
         "1994-12-16 00:00:00",
         "comedy",
         "107.0",
         "7.3",
         "334497.0"
        ],
        [
         "193",
         "enemy of the state",
         "r",
         "90000000.0",
         "250649836.0",
         "1998-11-20 00:00:00",
         "thriller",
         "132.0",
         "7.3",
         "216789.0"
        ],
        [
         "172",
         "hercules",
         "g",
         "85000000.0",
         "252712101.0",
         "1997-06-26 00:00:00",
         "animation",
         "93.0",
         "7.3",
         "188044.0"
        ]
       ],
       "shape": {
        "columns": 9,
        "rows": 615
       }
      },
      "text/html": [
       "<div>\n",
       "<style scoped>\n",
       "    .dataframe tbody tr th:only-of-type {\n",
       "        vertical-align: middle;\n",
       "    }\n",
       "\n",
       "    .dataframe tbody tr th {\n",
       "        vertical-align: top;\n",
       "    }\n",
       "\n",
       "    .dataframe thead th {\n",
       "        text-align: right;\n",
       "    }\n",
       "</style>\n",
       "<table border=\"1\" class=\"dataframe\">\n",
       "  <thead>\n",
       "    <tr style=\"text-align: right;\">\n",
       "      <th></th>\n",
       "      <th>title</th>\n",
       "      <th>mpaa_rating</th>\n",
       "      <th>budget</th>\n",
       "      <th>gross</th>\n",
       "      <th>release_date</th>\n",
       "      <th>genre</th>\n",
       "      <th>runtime</th>\n",
       "      <th>rating</th>\n",
       "      <th>rating_count</th>\n",
       "    </tr>\n",
       "    <tr>\n",
       "      <th>movieid</th>\n",
       "      <th></th>\n",
       "      <th></th>\n",
       "      <th></th>\n",
       "      <th></th>\n",
       "      <th></th>\n",
       "      <th></th>\n",
       "      <th></th>\n",
       "      <th></th>\n",
       "      <th></th>\n",
       "    </tr>\n",
       "  </thead>\n",
       "  <tbody>\n",
       "    <tr>\n",
       "      <th>143</th>\n",
       "      <td>the birdcage</td>\n",
       "      <td>r</td>\n",
       "      <td>31000000.0</td>\n",
       "      <td>185260553.0</td>\n",
       "      <td>1996-03-08</td>\n",
       "      <td>comedy</td>\n",
       "      <td>117.0</td>\n",
       "      <td>7.1</td>\n",
       "      <td>74466.0</td>\n",
       "    </tr>\n",
       "    <tr>\n",
       "      <th>113</th>\n",
       "      <td>stargate</td>\n",
       "      <td>pg-13</td>\n",
       "      <td>55000000.0</td>\n",
       "      <td>196567262.0</td>\n",
       "      <td>1994-10-27</td>\n",
       "      <td>science fiction</td>\n",
       "      <td>121.0</td>\n",
       "      <td>7.1</td>\n",
       "      <td>167516.0</td>\n",
       "    </tr>\n",
       "    <tr>\n",
       "      <th>189</th>\n",
       "      <td>the prince of egypt</td>\n",
       "      <td>pg</td>\n",
       "      <td>70000000.0</td>\n",
       "      <td>218613188.0</td>\n",
       "      <td>1998-12-15</td>\n",
       "      <td>animation</td>\n",
       "      <td>99.0</td>\n",
       "      <td>7.1</td>\n",
       "      <td>110340.0</td>\n",
       "    </tr>\n",
       "    <tr>\n",
       "      <th>260</th>\n",
       "      <td>the ring</td>\n",
       "      <td>pg-13</td>\n",
       "      <td>48000000.0</td>\n",
       "      <td>249348933.0</td>\n",
       "      <td>2002-10-18</td>\n",
       "      <td>horror</td>\n",
       "      <td>115.0</td>\n",
       "      <td>7.1</td>\n",
       "      <td>303397.0</td>\n",
       "    </tr>\n",
       "    <tr>\n",
       "      <th>181</th>\n",
       "      <td>shakespeare in love</td>\n",
       "      <td>r</td>\n",
       "      <td>25000000.0</td>\n",
       "      <td>289317794.0</td>\n",
       "      <td>1998-12-11</td>\n",
       "      <td>history</td>\n",
       "      <td>122.0</td>\n",
       "      <td>7.1</td>\n",
       "      <td>203939.0</td>\n",
       "    </tr>\n",
       "    <tr>\n",
       "      <th>...</th>\n",
       "      <td>...</td>\n",
       "      <td>...</td>\n",
       "      <td>...</td>\n",
       "      <td>...</td>\n",
       "      <td>...</td>\n",
       "      <td>...</td>\n",
       "      <td>...</td>\n",
       "      <td>...</td>\n",
       "      <td>...</td>\n",
       "    </tr>\n",
       "    <tr>\n",
       "      <th>611</th>\n",
       "      <td>NaN</td>\n",
       "      <td>NaN</td>\n",
       "      <td>NaN</td>\n",
       "      <td>NaN</td>\n",
       "      <td>NaT</td>\n",
       "      <td>NaN</td>\n",
       "      <td>NaN</td>\n",
       "      <td>NaN</td>\n",
       "      <td>NaN</td>\n",
       "    </tr>\n",
       "    <tr>\n",
       "      <th>612</th>\n",
       "      <td>NaN</td>\n",
       "      <td>NaN</td>\n",
       "      <td>NaN</td>\n",
       "      <td>NaN</td>\n",
       "      <td>NaT</td>\n",
       "      <td>NaN</td>\n",
       "      <td>NaN</td>\n",
       "      <td>NaN</td>\n",
       "      <td>NaN</td>\n",
       "    </tr>\n",
       "    <tr>\n",
       "      <th>613</th>\n",
       "      <td>NaN</td>\n",
       "      <td>NaN</td>\n",
       "      <td>NaN</td>\n",
       "      <td>NaN</td>\n",
       "      <td>NaT</td>\n",
       "      <td>NaN</td>\n",
       "      <td>NaN</td>\n",
       "      <td>NaN</td>\n",
       "      <td>NaN</td>\n",
       "    </tr>\n",
       "    <tr>\n",
       "      <th>614</th>\n",
       "      <td>NaN</td>\n",
       "      <td>NaN</td>\n",
       "      <td>NaN</td>\n",
       "      <td>NaN</td>\n",
       "      <td>NaT</td>\n",
       "      <td>NaN</td>\n",
       "      <td>NaN</td>\n",
       "      <td>NaN</td>\n",
       "      <td>NaN</td>\n",
       "    </tr>\n",
       "    <tr>\n",
       "      <th>615</th>\n",
       "      <td>NaN</td>\n",
       "      <td>NaN</td>\n",
       "      <td>NaN</td>\n",
       "      <td>NaN</td>\n",
       "      <td>NaT</td>\n",
       "      <td>NaN</td>\n",
       "      <td>NaN</td>\n",
       "      <td>NaN</td>\n",
       "      <td>NaN</td>\n",
       "    </tr>\n",
       "  </tbody>\n",
       "</table>\n",
       "<p>615 rows × 9 columns</p>\n",
       "</div>"
      ],
      "text/plain": [
       "                       title mpaa_rating      budget        gross  \\\n",
       "movieid                                                             \n",
       "143             the birdcage           r  31000000.0  185260553.0   \n",
       "113                 stargate       pg-13  55000000.0  196567262.0   \n",
       "189      the prince of egypt          pg  70000000.0  218613188.0   \n",
       "260                 the ring       pg-13  48000000.0  249348933.0   \n",
       "181      shakespeare in love           r  25000000.0  289317794.0   \n",
       "...                      ...         ...         ...          ...   \n",
       "611                      NaN         NaN         NaN          NaN   \n",
       "612                      NaN         NaN         NaN          NaN   \n",
       "613                      NaN         NaN         NaN          NaN   \n",
       "614                      NaN         NaN         NaN          NaN   \n",
       "615                      NaN         NaN         NaN          NaN   \n",
       "\n",
       "        release_date            genre  runtime  rating  rating_count  \n",
       "movieid                                                               \n",
       "143       1996-03-08           comedy    117.0     7.1       74466.0  \n",
       "113       1994-10-27  science fiction    121.0     7.1      167516.0  \n",
       "189       1998-12-15        animation     99.0     7.1      110340.0  \n",
       "260       2002-10-18           horror    115.0     7.1      303397.0  \n",
       "181       1998-12-11          history    122.0     7.1      203939.0  \n",
       "...              ...              ...      ...     ...           ...  \n",
       "611              NaT              NaN      NaN     NaN           NaN  \n",
       "612              NaT              NaN      NaN     NaN           NaN  \n",
       "613              NaT              NaN      NaN     NaN           NaN  \n",
       "614              NaT              NaN      NaN     NaN           NaN  \n",
       "615              NaT              NaN      NaN     NaN           NaN  \n",
       "\n",
       "[615 rows x 9 columns]"
      ]
     },
     "execution_count": 592,
     "metadata": {},
     "output_type": "execute_result"
    }
   ],
   "source": [
    "# using where\n",
    "movies.where((movies.rating > 7.0) & (movies.gross > 50000000)).sort_values(['rating', 'gross'])"
   ]
  },
  {
   "cell_type": "markdown",
   "id": "6b1e6abe",
   "metadata": {},
   "source": [
    "### 2 Show the movies with ...\n",
    "* more than 7 in Rating & \n",
    "* greater than 50 million Gross & \n",
    "* MPAA Rating as PG"
   ]
  },
  {
   "cell_type": "code",
   "execution_count": 593,
   "id": "4c39fec4",
   "metadata": {},
   "outputs": [
    {
     "data": {
      "application/vnd.microsoft.datawrangler.viewer.v0+json": {
       "columns": [
        {
         "name": "movieid",
         "rawType": "int64",
         "type": "integer"
        },
        {
         "name": "title",
         "rawType": "object",
         "type": "string"
        },
        {
         "name": "mpaa_rating",
         "rawType": "category",
         "type": "unknown"
        },
        {
         "name": "budget",
         "rawType": "int64",
         "type": "integer"
        },
        {
         "name": "gross",
         "rawType": "int64",
         "type": "integer"
        },
        {
         "name": "release_date",
         "rawType": "datetime64[s]",
         "type": "unknown"
        },
        {
         "name": "genre",
         "rawType": "category",
         "type": "unknown"
        },
        {
         "name": "runtime",
         "rawType": "int64",
         "type": "integer"
        },
        {
         "name": "rating",
         "rawType": "float64",
         "type": "float"
        },
        {
         "name": "rating_count",
         "rawType": "int64",
         "type": "integer"
        }
       ],
       "conversionMethod": "pd.DataFrame",
       "ref": "7ed99809-8283-45cd-809b-34b7aad59dfb",
       "rows": [
        [
         "107",
         "star trek: generations",
         "pg",
         "38000000",
         "120000000",
         "1994-11-17 00:00:00",
         "science fiction",
         "118",
         "8.5",
         "869127"
        ],
        [
         "412",
         "up",
         "pg",
         "175000000",
         "735099082",
         "2009-05-13 00:00:00",
         "animation",
         "96",
         "8.2",
         "867393"
        ],
        [
         "8",
         "dead poets society",
         "pg",
         "16400000",
         "235860116",
         "1989-06-02 00:00:00",
         "drama",
         "129",
         "8.1",
         "382002"
        ],
        [
         "186",
         "the truman show",
         "pg",
         "60000000",
         "264118201",
         "1998-06-04 00:00:00",
         "comedy",
         "103",
         "8.1",
         "859224"
        ],
        [
         "429",
         "how to train your dragon",
         "pg",
         "165000000",
         "494878759",
         "2010-03-05 00:00:00",
         "animation",
         "98",
         "8.1",
         "624128"
        ],
        [
         "81",
         "groundhog day",
         "pg",
         "14600000",
         "70906973",
         "1993-02-11 00:00:00",
         "comedy",
         "101",
         "8.0",
         "549538"
        ],
        [
         "46",
         "teenage mutant ninja turtles ii",
         "pg",
         "25000000",
         "78600000",
         "1991-03-22 00:00:00",
         "action",
         "88",
         "8.0",
         "397467"
        ],
        [
         "47",
         "beauty and the beast",
         "pg",
         "25000000",
         "377350553",
         "1991-11-13 00:00:00",
         "animation",
         "84",
         "8.0",
         "397467"
        ],
        [
         "305",
         "the incredibles",
         "pg",
         "92000000",
         "631442092",
         "2004-11-05 00:00:00",
         "animation",
         "115",
         "8.0",
         "617102"
        ],
        [
         "310",
         "harry potter and the prisoner of azkaban",
         "pg",
         "130000000",
         "789804554",
         "2004-05-31 00:00:00",
         "fantasy",
         "141",
         "7.9",
         "501648"
        ],
        [
         "221",
         "remember the titans",
         "pg",
         "30000000",
         "136706683",
         "2000-09-29 00:00:00",
         "drama",
         "113",
         "7.8",
         "186997"
        ],
        [
         "17",
         "back to the future part ii",
         "pg",
         "40000000",
         "332000000",
         "1989-11-20 00:00:00",
         "science fiction",
         "108",
         "7.8",
         "438940"
        ],
        [
         "499",
         "the lego movie",
         "pg",
         "60000000",
         "469160692",
         "2014-02-06 00:00:00",
         "animation",
         "100",
         "7.8",
         "309295"
        ],
        [
         "242",
         "shrek",
         "pg",
         "60000000",
         "484409218",
         "2001-05-16 00:00:00",
         "animation",
         "90",
         "7.8",
         "574978"
        ],
        [
         "448",
         "puss in boots: the three diablos",
         "pg",
         "130000000",
         "555000000",
         "2011-12-08 00:00:00",
         "animation",
         "130",
         "7.8",
         "727724"
        ],
        [
         "504",
         "how to train your dragon 2",
         "pg",
         "145000000",
         "609123048",
         "2014-06-12 00:00:00",
         "animation",
         "102",
         "7.8",
         "285394"
        ],
        [
         "506",
         "big hero 6",
         "pg",
         "165000000",
         "652105443",
         "2014-10-24 00:00:00",
         "animation",
         "102",
         "7.8",
         "380953"
        ],
        [
         "411",
         "monsters vs aliens",
         "pg",
         "175000000",
         "381509870",
         "2009-03-19 00:00:00",
         "animation",
         "94",
         "7.7",
         "374981"
        ],
        [
         "467",
         "wreck-it ralph",
         "pg",
         "165000000",
         "471222889",
         "2012-11-01 00:00:00",
         "animation",
         "108",
         "7.7",
         "354202"
        ],
        [
         "436",
         "tangled",
         "pg",
         "260000000",
         "591794936",
         "2010-11-24 00:00:00",
         "animation",
         "100",
         "7.7",
         "374981"
        ],
        [
         "33",
         "the hunt for red october",
         "pg",
         "30000000",
         "199200000",
         "1990-03-02 00:00:00",
         "thriller",
         "134",
         "7.6",
         "167212"
        ],
        [
         "16",
         "the little mermaid",
         "pg",
         "40000000",
         "222300000",
         "1989-11-17 00:00:00",
         "animation",
         "83",
         "7.6",
         "219221"
        ],
        [
         "131",
         "apollo 13",
         "pg",
         "52000000",
         "355237933",
         "1995-06-30 00:00:00",
         "drama",
         "140",
         "7.6",
         "250975"
        ],
        [
         "25",
         "home alone",
         "pg",
         "18000000",
         "476684675",
         "1990-11-09 00:00:00",
         "family",
         "103",
         "7.6",
         "414472"
        ],
        [
         "421",
         "despicable me",
         "pg",
         "69000000",
         "543513985",
         "2010-07-08 00:00:00",
         "animation",
         "95",
         "7.6",
         "473121"
        ],
        [
         "416",
         "harry potter and the half-blood prince",
         "pg",
         "250000000",
         "933959197",
         "2009-07-07 00:00:00",
         "fantasy",
         "153",
         "7.6",
         "429384"
        ],
        [
         "256",
         "harry potter and the sorcerer's stone",
         "pg",
         "125000000",
         "975100000",
         "2001-11-04 00:00:00",
         "fantasy",
         "152",
         "7.6",
         "583224"
        ],
        [
         "5",
         "field of dreams",
         "pg",
         "15000000",
         "84431625",
         "1989-04-21 00:00:00",
         "drama",
         "107",
         "7.5",
         "101702"
        ],
        [
         "262",
         "ice age",
         "pg",
         "59000000",
         "383257136",
         "2002-03-10 00:00:00",
         "animation",
         "81",
         "7.5",
         "411963"
        ],
        [
         "14",
         "batman",
         "pg",
         "35000000",
         "411348924",
         "1989-06-23 00:00:00",
         "action",
         "126",
         "7.5",
         "319517"
        ],
        [
         "386",
         "kung fu panda",
         "pg",
         "130000000",
         "631744560",
         "2008-06-04 00:00:00",
         "animation",
         "90",
         "7.5",
         "390478"
        ],
        [
         "486",
         "frozen",
         "pg",
         "150000000",
         "1274219009",
         "2013-11-27 00:00:00",
         "animation",
         "102",
         "7.5",
         "527284"
        ],
        [
         "2",
         "driving miss daisy",
         "pg",
         "7500000",
         "145793296",
         "1989-12-13 00:00:00",
         "comedy",
         "99",
         "7.4",
         "91075"
        ],
        [
         "175",
         "contact",
         "pg",
         "90000000",
         "171120329",
         "1997-07-11 00:00:00",
         "science fiction",
         "150",
         "7.4",
         "239569"
        ],
        [
         "35",
         "back to the future part iii",
         "pg",
         "40000000",
         "244527583",
         "1990-05-25 00:00:00",
         "family",
         "118",
         "7.4",
         "369652"
        ],
        [
         "271",
         "harry potter and the chamber of secrets",
         "pg",
         "100000000",
         "876688482",
         "2002-11-13 00:00:00",
         "fantasy",
         "161",
         "7.4",
         "505027"
        ],
        [
         "481",
         "despicable me 2",
         "pg",
         "76000000",
         "970761885",
         "2013-06-25 00:00:00",
         "animation",
         "98",
         "7.4",
         "350582"
        ],
        [
         "20",
         "steel magnolias",
         "pg",
         "15000000",
         "95904091",
         "1989-11-15 00:00:00",
         "drama",
         "119",
         "7.3",
         "43037"
        ],
        [
         "127",
         "mr. holland's opus",
         "pg",
         "31000000",
         "106269971",
         "1995-12-29 00:00:00",
         "family",
         "137",
         "7.3",
         "33906"
        ],
        [
         "216",
         "tarzan",
         "pg",
         "150000000",
         "448000000",
         "1999-06-18 00:00:00",
         "animation",
         "88",
         "7.3",
         "187724"
        ],
        [
         "3",
         "turner & hooch",
         "pg",
         "13000000",
         "71079915",
         "1989-07-28 00:00:00",
         "crime",
         "100",
         "7.2",
         "91415"
        ],
        [
         "50",
         "star trek vi: the undiscovered country",
         "pg",
         "27000000",
         "96900000",
         "1991-12-05 00:00:00",
         "science fiction",
         "113",
         "7.2",
         "66086"
        ],
        [
         "73",
         "a league of their own",
         "pg",
         "40000000",
         "107458785",
         "1992-07-01 00:00:00",
         "comedy",
         "128",
         "7.2",
         "85932"
        ],
        [
         "426",
         "megamind",
         "pg",
         "130000000",
         "321887208",
         "2010-10-28 00:00:00",
         "animation",
         "95",
         "7.2",
         "212563"
        ],
        [
         "485",
         "the croods",
         "pg",
         "135000000",
         "585178928",
         "2013-03-20 00:00:00",
         "animation",
         "98",
         "7.2",
         "180043"
        ],
        [
         "452",
         "kung fu panda 2",
         "pg",
         "150000000",
         "665692281",
         "2011-05-25 00:00:00",
         "animation",
         "91",
         "7.2",
         "234612"
        ],
        [
         "312",
         "shrek 2",
         "pg",
         "150000000",
         "919838758",
         "2004-05-19 00:00:00",
         "animation",
         "93",
         "7.2",
         "391295"
        ],
        [
         "189",
         "the prince of egypt",
         "pg",
         "70000000",
         "218613188",
         "1998-12-15 00:00:00",
         "animation",
         "99",
         "7.1",
         "110340"
        ],
        [
         "462",
         "hotel transylvania",
         "pg",
         "85000000",
         "358375603",
         "2012-09-20 00:00:00",
         "animation",
         "91",
         "7.1",
         "208916"
        ],
        [
         "469",
         "brave",
         "pg",
         "185000000",
         "538983207",
         "2012-06-21 00:00:00",
         "animation",
         "93",
         "7.1",
         "346490"
        ]
       ],
       "shape": {
        "columns": 9,
        "rows": 50
       }
      },
      "text/html": [
       "<div>\n",
       "<style scoped>\n",
       "    .dataframe tbody tr th:only-of-type {\n",
       "        vertical-align: middle;\n",
       "    }\n",
       "\n",
       "    .dataframe tbody tr th {\n",
       "        vertical-align: top;\n",
       "    }\n",
       "\n",
       "    .dataframe thead th {\n",
       "        text-align: right;\n",
       "    }\n",
       "</style>\n",
       "<table border=\"1\" class=\"dataframe\">\n",
       "  <thead>\n",
       "    <tr style=\"text-align: right;\">\n",
       "      <th></th>\n",
       "      <th>title</th>\n",
       "      <th>mpaa_rating</th>\n",
       "      <th>budget</th>\n",
       "      <th>gross</th>\n",
       "      <th>release_date</th>\n",
       "      <th>genre</th>\n",
       "      <th>runtime</th>\n",
       "      <th>rating</th>\n",
       "      <th>rating_count</th>\n",
       "    </tr>\n",
       "    <tr>\n",
       "      <th>movieid</th>\n",
       "      <th></th>\n",
       "      <th></th>\n",
       "      <th></th>\n",
       "      <th></th>\n",
       "      <th></th>\n",
       "      <th></th>\n",
       "      <th></th>\n",
       "      <th></th>\n",
       "      <th></th>\n",
       "    </tr>\n",
       "  </thead>\n",
       "  <tbody>\n",
       "    <tr>\n",
       "      <th>107</th>\n",
       "      <td>star trek: generations</td>\n",
       "      <td>pg</td>\n",
       "      <td>38000000</td>\n",
       "      <td>120000000</td>\n",
       "      <td>1994-11-17</td>\n",
       "      <td>science fiction</td>\n",
       "      <td>118</td>\n",
       "      <td>8.5</td>\n",
       "      <td>869127</td>\n",
       "    </tr>\n",
       "    <tr>\n",
       "      <th>412</th>\n",
       "      <td>up</td>\n",
       "      <td>pg</td>\n",
       "      <td>175000000</td>\n",
       "      <td>735099082</td>\n",
       "      <td>2009-05-13</td>\n",
       "      <td>animation</td>\n",
       "      <td>96</td>\n",
       "      <td>8.2</td>\n",
       "      <td>867393</td>\n",
       "    </tr>\n",
       "    <tr>\n",
       "      <th>8</th>\n",
       "      <td>dead poets society</td>\n",
       "      <td>pg</td>\n",
       "      <td>16400000</td>\n",
       "      <td>235860116</td>\n",
       "      <td>1989-06-02</td>\n",
       "      <td>drama</td>\n",
       "      <td>129</td>\n",
       "      <td>8.1</td>\n",
       "      <td>382002</td>\n",
       "    </tr>\n",
       "    <tr>\n",
       "      <th>186</th>\n",
       "      <td>the truman show</td>\n",
       "      <td>pg</td>\n",
       "      <td>60000000</td>\n",
       "      <td>264118201</td>\n",
       "      <td>1998-06-04</td>\n",
       "      <td>comedy</td>\n",
       "      <td>103</td>\n",
       "      <td>8.1</td>\n",
       "      <td>859224</td>\n",
       "    </tr>\n",
       "    <tr>\n",
       "      <th>429</th>\n",
       "      <td>how to train your dragon</td>\n",
       "      <td>pg</td>\n",
       "      <td>165000000</td>\n",
       "      <td>494878759</td>\n",
       "      <td>2010-03-05</td>\n",
       "      <td>animation</td>\n",
       "      <td>98</td>\n",
       "      <td>8.1</td>\n",
       "      <td>624128</td>\n",
       "    </tr>\n",
       "    <tr>\n",
       "      <th>81</th>\n",
       "      <td>groundhog day</td>\n",
       "      <td>pg</td>\n",
       "      <td>14600000</td>\n",
       "      <td>70906973</td>\n",
       "      <td>1993-02-11</td>\n",
       "      <td>comedy</td>\n",
       "      <td>101</td>\n",
       "      <td>8.0</td>\n",
       "      <td>549538</td>\n",
       "    </tr>\n",
       "    <tr>\n",
       "      <th>46</th>\n",
       "      <td>teenage mutant ninja turtles ii</td>\n",
       "      <td>pg</td>\n",
       "      <td>25000000</td>\n",
       "      <td>78600000</td>\n",
       "      <td>1991-03-22</td>\n",
       "      <td>action</td>\n",
       "      <td>88</td>\n",
       "      <td>8.0</td>\n",
       "      <td>397467</td>\n",
       "    </tr>\n",
       "    <tr>\n",
       "      <th>47</th>\n",
       "      <td>beauty and the beast</td>\n",
       "      <td>pg</td>\n",
       "      <td>25000000</td>\n",
       "      <td>377350553</td>\n",
       "      <td>1991-11-13</td>\n",
       "      <td>animation</td>\n",
       "      <td>84</td>\n",
       "      <td>8.0</td>\n",
       "      <td>397467</td>\n",
       "    </tr>\n",
       "    <tr>\n",
       "      <th>305</th>\n",
       "      <td>the incredibles</td>\n",
       "      <td>pg</td>\n",
       "      <td>92000000</td>\n",
       "      <td>631442092</td>\n",
       "      <td>2004-11-05</td>\n",
       "      <td>animation</td>\n",
       "      <td>115</td>\n",
       "      <td>8.0</td>\n",
       "      <td>617102</td>\n",
       "    </tr>\n",
       "    <tr>\n",
       "      <th>310</th>\n",
       "      <td>harry potter and the prisoner of azkaban</td>\n",
       "      <td>pg</td>\n",
       "      <td>130000000</td>\n",
       "      <td>789804554</td>\n",
       "      <td>2004-05-31</td>\n",
       "      <td>fantasy</td>\n",
       "      <td>141</td>\n",
       "      <td>7.9</td>\n",
       "      <td>501648</td>\n",
       "    </tr>\n",
       "    <tr>\n",
       "      <th>221</th>\n",
       "      <td>remember the titans</td>\n",
       "      <td>pg</td>\n",
       "      <td>30000000</td>\n",
       "      <td>136706683</td>\n",
       "      <td>2000-09-29</td>\n",
       "      <td>drama</td>\n",
       "      <td>113</td>\n",
       "      <td>7.8</td>\n",
       "      <td>186997</td>\n",
       "    </tr>\n",
       "    <tr>\n",
       "      <th>17</th>\n",
       "      <td>back to the future part ii</td>\n",
       "      <td>pg</td>\n",
       "      <td>40000000</td>\n",
       "      <td>332000000</td>\n",
       "      <td>1989-11-20</td>\n",
       "      <td>science fiction</td>\n",
       "      <td>108</td>\n",
       "      <td>7.8</td>\n",
       "      <td>438940</td>\n",
       "    </tr>\n",
       "    <tr>\n",
       "      <th>499</th>\n",
       "      <td>the lego movie</td>\n",
       "      <td>pg</td>\n",
       "      <td>60000000</td>\n",
       "      <td>469160692</td>\n",
       "      <td>2014-02-06</td>\n",
       "      <td>animation</td>\n",
       "      <td>100</td>\n",
       "      <td>7.8</td>\n",
       "      <td>309295</td>\n",
       "    </tr>\n",
       "    <tr>\n",
       "      <th>242</th>\n",
       "      <td>shrek</td>\n",
       "      <td>pg</td>\n",
       "      <td>60000000</td>\n",
       "      <td>484409218</td>\n",
       "      <td>2001-05-16</td>\n",
       "      <td>animation</td>\n",
       "      <td>90</td>\n",
       "      <td>7.8</td>\n",
       "      <td>574978</td>\n",
       "    </tr>\n",
       "    <tr>\n",
       "      <th>448</th>\n",
       "      <td>puss in boots: the three diablos</td>\n",
       "      <td>pg</td>\n",
       "      <td>130000000</td>\n",
       "      <td>555000000</td>\n",
       "      <td>2011-12-08</td>\n",
       "      <td>animation</td>\n",
       "      <td>130</td>\n",
       "      <td>7.8</td>\n",
       "      <td>727724</td>\n",
       "    </tr>\n",
       "    <tr>\n",
       "      <th>504</th>\n",
       "      <td>how to train your dragon 2</td>\n",
       "      <td>pg</td>\n",
       "      <td>145000000</td>\n",
       "      <td>609123048</td>\n",
       "      <td>2014-06-12</td>\n",
       "      <td>animation</td>\n",
       "      <td>102</td>\n",
       "      <td>7.8</td>\n",
       "      <td>285394</td>\n",
       "    </tr>\n",
       "    <tr>\n",
       "      <th>506</th>\n",
       "      <td>big hero 6</td>\n",
       "      <td>pg</td>\n",
       "      <td>165000000</td>\n",
       "      <td>652105443</td>\n",
       "      <td>2014-10-24</td>\n",
       "      <td>animation</td>\n",
       "      <td>102</td>\n",
       "      <td>7.8</td>\n",
       "      <td>380953</td>\n",
       "    </tr>\n",
       "    <tr>\n",
       "      <th>411</th>\n",
       "      <td>monsters vs aliens</td>\n",
       "      <td>pg</td>\n",
       "      <td>175000000</td>\n",
       "      <td>381509870</td>\n",
       "      <td>2009-03-19</td>\n",
       "      <td>animation</td>\n",
       "      <td>94</td>\n",
       "      <td>7.7</td>\n",
       "      <td>374981</td>\n",
       "    </tr>\n",
       "    <tr>\n",
       "      <th>467</th>\n",
       "      <td>wreck-it ralph</td>\n",
       "      <td>pg</td>\n",
       "      <td>165000000</td>\n",
       "      <td>471222889</td>\n",
       "      <td>2012-11-01</td>\n",
       "      <td>animation</td>\n",
       "      <td>108</td>\n",
       "      <td>7.7</td>\n",
       "      <td>354202</td>\n",
       "    </tr>\n",
       "    <tr>\n",
       "      <th>436</th>\n",
       "      <td>tangled</td>\n",
       "      <td>pg</td>\n",
       "      <td>260000000</td>\n",
       "      <td>591794936</td>\n",
       "      <td>2010-11-24</td>\n",
       "      <td>animation</td>\n",
       "      <td>100</td>\n",
       "      <td>7.7</td>\n",
       "      <td>374981</td>\n",
       "    </tr>\n",
       "    <tr>\n",
       "      <th>33</th>\n",
       "      <td>the hunt for red october</td>\n",
       "      <td>pg</td>\n",
       "      <td>30000000</td>\n",
       "      <td>199200000</td>\n",
       "      <td>1990-03-02</td>\n",
       "      <td>thriller</td>\n",
       "      <td>134</td>\n",
       "      <td>7.6</td>\n",
       "      <td>167212</td>\n",
       "    </tr>\n",
       "    <tr>\n",
       "      <th>16</th>\n",
       "      <td>the little mermaid</td>\n",
       "      <td>pg</td>\n",
       "      <td>40000000</td>\n",
       "      <td>222300000</td>\n",
       "      <td>1989-11-17</td>\n",
       "      <td>animation</td>\n",
       "      <td>83</td>\n",
       "      <td>7.6</td>\n",
       "      <td>219221</td>\n",
       "    </tr>\n",
       "    <tr>\n",
       "      <th>131</th>\n",
       "      <td>apollo 13</td>\n",
       "      <td>pg</td>\n",
       "      <td>52000000</td>\n",
       "      <td>355237933</td>\n",
       "      <td>1995-06-30</td>\n",
       "      <td>drama</td>\n",
       "      <td>140</td>\n",
       "      <td>7.6</td>\n",
       "      <td>250975</td>\n",
       "    </tr>\n",
       "    <tr>\n",
       "      <th>25</th>\n",
       "      <td>home alone</td>\n",
       "      <td>pg</td>\n",
       "      <td>18000000</td>\n",
       "      <td>476684675</td>\n",
       "      <td>1990-11-09</td>\n",
       "      <td>family</td>\n",
       "      <td>103</td>\n",
       "      <td>7.6</td>\n",
       "      <td>414472</td>\n",
       "    </tr>\n",
       "    <tr>\n",
       "      <th>421</th>\n",
       "      <td>despicable me</td>\n",
       "      <td>pg</td>\n",
       "      <td>69000000</td>\n",
       "      <td>543513985</td>\n",
       "      <td>2010-07-08</td>\n",
       "      <td>animation</td>\n",
       "      <td>95</td>\n",
       "      <td>7.6</td>\n",
       "      <td>473121</td>\n",
       "    </tr>\n",
       "    <tr>\n",
       "      <th>416</th>\n",
       "      <td>harry potter and the half-blood prince</td>\n",
       "      <td>pg</td>\n",
       "      <td>250000000</td>\n",
       "      <td>933959197</td>\n",
       "      <td>2009-07-07</td>\n",
       "      <td>fantasy</td>\n",
       "      <td>153</td>\n",
       "      <td>7.6</td>\n",
       "      <td>429384</td>\n",
       "    </tr>\n",
       "    <tr>\n",
       "      <th>256</th>\n",
       "      <td>harry potter and the sorcerer's stone</td>\n",
       "      <td>pg</td>\n",
       "      <td>125000000</td>\n",
       "      <td>975100000</td>\n",
       "      <td>2001-11-04</td>\n",
       "      <td>fantasy</td>\n",
       "      <td>152</td>\n",
       "      <td>7.6</td>\n",
       "      <td>583224</td>\n",
       "    </tr>\n",
       "    <tr>\n",
       "      <th>5</th>\n",
       "      <td>field of dreams</td>\n",
       "      <td>pg</td>\n",
       "      <td>15000000</td>\n",
       "      <td>84431625</td>\n",
       "      <td>1989-04-21</td>\n",
       "      <td>drama</td>\n",
       "      <td>107</td>\n",
       "      <td>7.5</td>\n",
       "      <td>101702</td>\n",
       "    </tr>\n",
       "    <tr>\n",
       "      <th>262</th>\n",
       "      <td>ice age</td>\n",
       "      <td>pg</td>\n",
       "      <td>59000000</td>\n",
       "      <td>383257136</td>\n",
       "      <td>2002-03-10</td>\n",
       "      <td>animation</td>\n",
       "      <td>81</td>\n",
       "      <td>7.5</td>\n",
       "      <td>411963</td>\n",
       "    </tr>\n",
       "    <tr>\n",
       "      <th>14</th>\n",
       "      <td>batman</td>\n",
       "      <td>pg</td>\n",
       "      <td>35000000</td>\n",
       "      <td>411348924</td>\n",
       "      <td>1989-06-23</td>\n",
       "      <td>action</td>\n",
       "      <td>126</td>\n",
       "      <td>7.5</td>\n",
       "      <td>319517</td>\n",
       "    </tr>\n",
       "    <tr>\n",
       "      <th>386</th>\n",
       "      <td>kung fu panda</td>\n",
       "      <td>pg</td>\n",
       "      <td>130000000</td>\n",
       "      <td>631744560</td>\n",
       "      <td>2008-06-04</td>\n",
       "      <td>animation</td>\n",
       "      <td>90</td>\n",
       "      <td>7.5</td>\n",
       "      <td>390478</td>\n",
       "    </tr>\n",
       "    <tr>\n",
       "      <th>486</th>\n",
       "      <td>frozen</td>\n",
       "      <td>pg</td>\n",
       "      <td>150000000</td>\n",
       "      <td>1274219009</td>\n",
       "      <td>2013-11-27</td>\n",
       "      <td>animation</td>\n",
       "      <td>102</td>\n",
       "      <td>7.5</td>\n",
       "      <td>527284</td>\n",
       "    </tr>\n",
       "    <tr>\n",
       "      <th>2</th>\n",
       "      <td>driving miss daisy</td>\n",
       "      <td>pg</td>\n",
       "      <td>7500000</td>\n",
       "      <td>145793296</td>\n",
       "      <td>1989-12-13</td>\n",
       "      <td>comedy</td>\n",
       "      <td>99</td>\n",
       "      <td>7.4</td>\n",
       "      <td>91075</td>\n",
       "    </tr>\n",
       "    <tr>\n",
       "      <th>175</th>\n",
       "      <td>contact</td>\n",
       "      <td>pg</td>\n",
       "      <td>90000000</td>\n",
       "      <td>171120329</td>\n",
       "      <td>1997-07-11</td>\n",
       "      <td>science fiction</td>\n",
       "      <td>150</td>\n",
       "      <td>7.4</td>\n",
       "      <td>239569</td>\n",
       "    </tr>\n",
       "    <tr>\n",
       "      <th>35</th>\n",
       "      <td>back to the future part iii</td>\n",
       "      <td>pg</td>\n",
       "      <td>40000000</td>\n",
       "      <td>244527583</td>\n",
       "      <td>1990-05-25</td>\n",
       "      <td>family</td>\n",
       "      <td>118</td>\n",
       "      <td>7.4</td>\n",
       "      <td>369652</td>\n",
       "    </tr>\n",
       "    <tr>\n",
       "      <th>271</th>\n",
       "      <td>harry potter and the chamber of secrets</td>\n",
       "      <td>pg</td>\n",
       "      <td>100000000</td>\n",
       "      <td>876688482</td>\n",
       "      <td>2002-11-13</td>\n",
       "      <td>fantasy</td>\n",
       "      <td>161</td>\n",
       "      <td>7.4</td>\n",
       "      <td>505027</td>\n",
       "    </tr>\n",
       "    <tr>\n",
       "      <th>481</th>\n",
       "      <td>despicable me 2</td>\n",
       "      <td>pg</td>\n",
       "      <td>76000000</td>\n",
       "      <td>970761885</td>\n",
       "      <td>2013-06-25</td>\n",
       "      <td>animation</td>\n",
       "      <td>98</td>\n",
       "      <td>7.4</td>\n",
       "      <td>350582</td>\n",
       "    </tr>\n",
       "    <tr>\n",
       "      <th>20</th>\n",
       "      <td>steel magnolias</td>\n",
       "      <td>pg</td>\n",
       "      <td>15000000</td>\n",
       "      <td>95904091</td>\n",
       "      <td>1989-11-15</td>\n",
       "      <td>drama</td>\n",
       "      <td>119</td>\n",
       "      <td>7.3</td>\n",
       "      <td>43037</td>\n",
       "    </tr>\n",
       "    <tr>\n",
       "      <th>127</th>\n",
       "      <td>mr. holland's opus</td>\n",
       "      <td>pg</td>\n",
       "      <td>31000000</td>\n",
       "      <td>106269971</td>\n",
       "      <td>1995-12-29</td>\n",
       "      <td>family</td>\n",
       "      <td>137</td>\n",
       "      <td>7.3</td>\n",
       "      <td>33906</td>\n",
       "    </tr>\n",
       "    <tr>\n",
       "      <th>216</th>\n",
       "      <td>tarzan</td>\n",
       "      <td>pg</td>\n",
       "      <td>150000000</td>\n",
       "      <td>448000000</td>\n",
       "      <td>1999-06-18</td>\n",
       "      <td>animation</td>\n",
       "      <td>88</td>\n",
       "      <td>7.3</td>\n",
       "      <td>187724</td>\n",
       "    </tr>\n",
       "    <tr>\n",
       "      <th>3</th>\n",
       "      <td>turner &amp; hooch</td>\n",
       "      <td>pg</td>\n",
       "      <td>13000000</td>\n",
       "      <td>71079915</td>\n",
       "      <td>1989-07-28</td>\n",
       "      <td>crime</td>\n",
       "      <td>100</td>\n",
       "      <td>7.2</td>\n",
       "      <td>91415</td>\n",
       "    </tr>\n",
       "    <tr>\n",
       "      <th>50</th>\n",
       "      <td>star trek vi: the undiscovered country</td>\n",
       "      <td>pg</td>\n",
       "      <td>27000000</td>\n",
       "      <td>96900000</td>\n",
       "      <td>1991-12-05</td>\n",
       "      <td>science fiction</td>\n",
       "      <td>113</td>\n",
       "      <td>7.2</td>\n",
       "      <td>66086</td>\n",
       "    </tr>\n",
       "    <tr>\n",
       "      <th>73</th>\n",
       "      <td>a league of their own</td>\n",
       "      <td>pg</td>\n",
       "      <td>40000000</td>\n",
       "      <td>107458785</td>\n",
       "      <td>1992-07-01</td>\n",
       "      <td>comedy</td>\n",
       "      <td>128</td>\n",
       "      <td>7.2</td>\n",
       "      <td>85932</td>\n",
       "    </tr>\n",
       "    <tr>\n",
       "      <th>426</th>\n",
       "      <td>megamind</td>\n",
       "      <td>pg</td>\n",
       "      <td>130000000</td>\n",
       "      <td>321887208</td>\n",
       "      <td>2010-10-28</td>\n",
       "      <td>animation</td>\n",
       "      <td>95</td>\n",
       "      <td>7.2</td>\n",
       "      <td>212563</td>\n",
       "    </tr>\n",
       "    <tr>\n",
       "      <th>485</th>\n",
       "      <td>the croods</td>\n",
       "      <td>pg</td>\n",
       "      <td>135000000</td>\n",
       "      <td>585178928</td>\n",
       "      <td>2013-03-20</td>\n",
       "      <td>animation</td>\n",
       "      <td>98</td>\n",
       "      <td>7.2</td>\n",
       "      <td>180043</td>\n",
       "    </tr>\n",
       "    <tr>\n",
       "      <th>452</th>\n",
       "      <td>kung fu panda 2</td>\n",
       "      <td>pg</td>\n",
       "      <td>150000000</td>\n",
       "      <td>665692281</td>\n",
       "      <td>2011-05-25</td>\n",
       "      <td>animation</td>\n",
       "      <td>91</td>\n",
       "      <td>7.2</td>\n",
       "      <td>234612</td>\n",
       "    </tr>\n",
       "    <tr>\n",
       "      <th>312</th>\n",
       "      <td>shrek 2</td>\n",
       "      <td>pg</td>\n",
       "      <td>150000000</td>\n",
       "      <td>919838758</td>\n",
       "      <td>2004-05-19</td>\n",
       "      <td>animation</td>\n",
       "      <td>93</td>\n",
       "      <td>7.2</td>\n",
       "      <td>391295</td>\n",
       "    </tr>\n",
       "    <tr>\n",
       "      <th>189</th>\n",
       "      <td>the prince of egypt</td>\n",
       "      <td>pg</td>\n",
       "      <td>70000000</td>\n",
       "      <td>218613188</td>\n",
       "      <td>1998-12-15</td>\n",
       "      <td>animation</td>\n",
       "      <td>99</td>\n",
       "      <td>7.1</td>\n",
       "      <td>110340</td>\n",
       "    </tr>\n",
       "    <tr>\n",
       "      <th>462</th>\n",
       "      <td>hotel transylvania</td>\n",
       "      <td>pg</td>\n",
       "      <td>85000000</td>\n",
       "      <td>358375603</td>\n",
       "      <td>2012-09-20</td>\n",
       "      <td>animation</td>\n",
       "      <td>91</td>\n",
       "      <td>7.1</td>\n",
       "      <td>208916</td>\n",
       "    </tr>\n",
       "    <tr>\n",
       "      <th>469</th>\n",
       "      <td>brave</td>\n",
       "      <td>pg</td>\n",
       "      <td>185000000</td>\n",
       "      <td>538983207</td>\n",
       "      <td>2012-06-21</td>\n",
       "      <td>animation</td>\n",
       "      <td>93</td>\n",
       "      <td>7.1</td>\n",
       "      <td>346490</td>\n",
       "    </tr>\n",
       "  </tbody>\n",
       "</table>\n",
       "</div>"
      ],
      "text/plain": [
       "                                            title mpaa_rating     budget  \\\n",
       "movieid                                                                    \n",
       "107                        star trek: generations          pg   38000000   \n",
       "412                                            up          pg  175000000   \n",
       "8                              dead poets society          pg   16400000   \n",
       "186                               the truman show          pg   60000000   \n",
       "429                      how to train your dragon          pg  165000000   \n",
       "81                                  groundhog day          pg   14600000   \n",
       "46                teenage mutant ninja turtles ii          pg   25000000   \n",
       "47                           beauty and the beast          pg   25000000   \n",
       "305                               the incredibles          pg   92000000   \n",
       "310      harry potter and the prisoner of azkaban          pg  130000000   \n",
       "221                           remember the titans          pg   30000000   \n",
       "17                     back to the future part ii          pg   40000000   \n",
       "499                                the lego movie          pg   60000000   \n",
       "242                                         shrek          pg   60000000   \n",
       "448              puss in boots: the three diablos          pg  130000000   \n",
       "504                    how to train your dragon 2          pg  145000000   \n",
       "506                                    big hero 6          pg  165000000   \n",
       "411                            monsters vs aliens          pg  175000000   \n",
       "467                                wreck-it ralph          pg  165000000   \n",
       "436                                       tangled          pg  260000000   \n",
       "33                       the hunt for red october          pg   30000000   \n",
       "16                             the little mermaid          pg   40000000   \n",
       "131                                     apollo 13          pg   52000000   \n",
       "25                                     home alone          pg   18000000   \n",
       "421                                 despicable me          pg   69000000   \n",
       "416        harry potter and the half-blood prince          pg  250000000   \n",
       "256         harry potter and the sorcerer's stone          pg  125000000   \n",
       "5                                 field of dreams          pg   15000000   \n",
       "262                                       ice age          pg   59000000   \n",
       "14                                         batman          pg   35000000   \n",
       "386                                 kung fu panda          pg  130000000   \n",
       "486                                        frozen          pg  150000000   \n",
       "2                              driving miss daisy          pg    7500000   \n",
       "175                                       contact          pg   90000000   \n",
       "35                    back to the future part iii          pg   40000000   \n",
       "271       harry potter and the chamber of secrets          pg  100000000   \n",
       "481                               despicable me 2          pg   76000000   \n",
       "20                                steel magnolias          pg   15000000   \n",
       "127                            mr. holland's opus          pg   31000000   \n",
       "216                                        tarzan          pg  150000000   \n",
       "3                                  turner & hooch          pg   13000000   \n",
       "50         star trek vi: the undiscovered country          pg   27000000   \n",
       "73                          a league of their own          pg   40000000   \n",
       "426                                      megamind          pg  130000000   \n",
       "485                                    the croods          pg  135000000   \n",
       "452                               kung fu panda 2          pg  150000000   \n",
       "312                                       shrek 2          pg  150000000   \n",
       "189                           the prince of egypt          pg   70000000   \n",
       "462                            hotel transylvania          pg   85000000   \n",
       "469                                         brave          pg  185000000   \n",
       "\n",
       "              gross release_date            genre  runtime  rating  \\\n",
       "movieid                                                              \n",
       "107       120000000   1994-11-17  science fiction      118     8.5   \n",
       "412       735099082   2009-05-13        animation       96     8.2   \n",
       "8         235860116   1989-06-02            drama      129     8.1   \n",
       "186       264118201   1998-06-04           comedy      103     8.1   \n",
       "429       494878759   2010-03-05        animation       98     8.1   \n",
       "81         70906973   1993-02-11           comedy      101     8.0   \n",
       "46         78600000   1991-03-22           action       88     8.0   \n",
       "47        377350553   1991-11-13        animation       84     8.0   \n",
       "305       631442092   2004-11-05        animation      115     8.0   \n",
       "310       789804554   2004-05-31          fantasy      141     7.9   \n",
       "221       136706683   2000-09-29            drama      113     7.8   \n",
       "17        332000000   1989-11-20  science fiction      108     7.8   \n",
       "499       469160692   2014-02-06        animation      100     7.8   \n",
       "242       484409218   2001-05-16        animation       90     7.8   \n",
       "448       555000000   2011-12-08        animation      130     7.8   \n",
       "504       609123048   2014-06-12        animation      102     7.8   \n",
       "506       652105443   2014-10-24        animation      102     7.8   \n",
       "411       381509870   2009-03-19        animation       94     7.7   \n",
       "467       471222889   2012-11-01        animation      108     7.7   \n",
       "436       591794936   2010-11-24        animation      100     7.7   \n",
       "33        199200000   1990-03-02         thriller      134     7.6   \n",
       "16        222300000   1989-11-17        animation       83     7.6   \n",
       "131       355237933   1995-06-30            drama      140     7.6   \n",
       "25        476684675   1990-11-09           family      103     7.6   \n",
       "421       543513985   2010-07-08        animation       95     7.6   \n",
       "416       933959197   2009-07-07          fantasy      153     7.6   \n",
       "256       975100000   2001-11-04          fantasy      152     7.6   \n",
       "5          84431625   1989-04-21            drama      107     7.5   \n",
       "262       383257136   2002-03-10        animation       81     7.5   \n",
       "14        411348924   1989-06-23           action      126     7.5   \n",
       "386       631744560   2008-06-04        animation       90     7.5   \n",
       "486      1274219009   2013-11-27        animation      102     7.5   \n",
       "2         145793296   1989-12-13           comedy       99     7.4   \n",
       "175       171120329   1997-07-11  science fiction      150     7.4   \n",
       "35        244527583   1990-05-25           family      118     7.4   \n",
       "271       876688482   2002-11-13          fantasy      161     7.4   \n",
       "481       970761885   2013-06-25        animation       98     7.4   \n",
       "20         95904091   1989-11-15            drama      119     7.3   \n",
       "127       106269971   1995-12-29           family      137     7.3   \n",
       "216       448000000   1999-06-18        animation       88     7.3   \n",
       "3          71079915   1989-07-28            crime      100     7.2   \n",
       "50         96900000   1991-12-05  science fiction      113     7.2   \n",
       "73        107458785   1992-07-01           comedy      128     7.2   \n",
       "426       321887208   2010-10-28        animation       95     7.2   \n",
       "485       585178928   2013-03-20        animation       98     7.2   \n",
       "452       665692281   2011-05-25        animation       91     7.2   \n",
       "312       919838758   2004-05-19        animation       93     7.2   \n",
       "189       218613188   1998-12-15        animation       99     7.1   \n",
       "462       358375603   2012-09-20        animation       91     7.1   \n",
       "469       538983207   2012-06-21        animation       93     7.1   \n",
       "\n",
       "         rating_count  \n",
       "movieid                \n",
       "107            869127  \n",
       "412            867393  \n",
       "8              382002  \n",
       "186            859224  \n",
       "429            624128  \n",
       "81             549538  \n",
       "46             397467  \n",
       "47             397467  \n",
       "305            617102  \n",
       "310            501648  \n",
       "221            186997  \n",
       "17             438940  \n",
       "499            309295  \n",
       "242            574978  \n",
       "448            727724  \n",
       "504            285394  \n",
       "506            380953  \n",
       "411            374981  \n",
       "467            354202  \n",
       "436            374981  \n",
       "33             167212  \n",
       "16             219221  \n",
       "131            250975  \n",
       "25             414472  \n",
       "421            473121  \n",
       "416            429384  \n",
       "256            583224  \n",
       "5              101702  \n",
       "262            411963  \n",
       "14             319517  \n",
       "386            390478  \n",
       "486            527284  \n",
       "2               91075  \n",
       "175            239569  \n",
       "35             369652  \n",
       "271            505027  \n",
       "481            350582  \n",
       "20              43037  \n",
       "127             33906  \n",
       "216            187724  \n",
       "3               91415  \n",
       "50              66086  \n",
       "73              85932  \n",
       "426            212563  \n",
       "485            180043  \n",
       "452            234612  \n",
       "312            391295  \n",
       "189            110340  \n",
       "462            208916  \n",
       "469            346490  "
      ]
     },
     "execution_count": 593,
     "metadata": {},
     "output_type": "execute_result"
    }
   ],
   "source": [
    "# NOTE - categorical data: how to access conveniently?\n",
    "#   not possible with built-in cat functions according to documentation\n",
    "#   make a dict from the categories? does not make sense\n",
    "mask = (movies.rating > 7.0) & (movies.gross > 50000000) & (movies.mpaa_rating == 'pg')\n",
    "movies[mask].sort_values(['rating', 'gross'], ascending=[False,True])"
   ]
  },
  {
   "cell_type": "markdown",
   "id": "f2ebb706",
   "metadata": {},
   "source": [
    "### 3 - Show the count of **Animation** movies with **more than 7 in Rating** \n",
    "use the shape() method"
   ]
  },
  {
   "cell_type": "code",
   "execution_count": 594,
   "id": "0658a52c",
   "metadata": {},
   "outputs": [
    {
     "data": {
      "text/plain": [
       "(39, 9)"
      ]
     },
     "execution_count": 594,
     "metadata": {},
     "output_type": "execute_result"
    }
   ],
   "source": [
    "movies[(movies.genre=='animation') & (movies.rating>7.0)].shape"
   ]
  },
  {
   "cell_type": "markdown",
   "id": "f12f0171",
   "metadata": {},
   "source": [
    "### 4 - Show the **top 5** movies based on **Budget**"
   ]
  },
  {
   "cell_type": "code",
   "execution_count": 595,
   "id": "984b4ac4",
   "metadata": {},
   "outputs": [
    {
     "name": "stdout",
     "output_type": "stream",
     "text": [
      "1.36 ms ± 231 μs per loop (mean ± std. dev. of 7 runs, 100 loops each)\n"
     ]
    }
   ],
   "source": [
    "%%timeit\n",
    "# use nlargest, should be a bit faster\n",
    "movies.nlargest(5,columns='budget');"
   ]
  },
  {
   "cell_type": "code",
   "execution_count": 596,
   "id": "3da8cbe4",
   "metadata": {},
   "outputs": [
    {
     "name": "stdout",
     "output_type": "stream",
     "text": [
      "550 μs ± 66.3 μs per loop (mean ± std. dev. of 7 runs, 1,000 loops each)\n"
     ]
    }
   ],
   "source": [
    "%%timeit\n",
    "# this is even faster?! or maybe because of the accessing function\n",
    "movies.sort_values('budget', ascending=False).iloc[:5,:];"
   ]
  },
  {
   "cell_type": "code",
   "execution_count": 597,
   "id": "7d4421c5",
   "metadata": {},
   "outputs": [
    {
     "name": "stdout",
     "output_type": "stream",
     "text": [
      "572 μs ± 123 μs per loop (mean ± std. dev. of 7 runs, 1,000 loops each)\n"
     ]
    }
   ],
   "source": [
    "%%timeit\n",
    "# this is even faster?! or maybe because of the accessing function\n",
    "movies.sort_values('budget', ascending=False).head(5);"
   ]
  },
  {
   "cell_type": "markdown",
   "id": "1bdf5aa2",
   "metadata": {},
   "source": [
    "### 5 - Show the **top 5 Comedy** movies by **Rating**"
   ]
  },
  {
   "cell_type": "code",
   "execution_count": 598,
   "id": "be17a6b1",
   "metadata": {},
   "outputs": [
    {
     "data": {
      "application/vnd.microsoft.datawrangler.viewer.v0+json": {
       "columns": [
        {
         "name": "movieid",
         "rawType": "int64",
         "type": "integer"
        },
        {
         "name": "title",
         "rawType": "object",
         "type": "string"
        },
        {
         "name": "mpaa_rating",
         "rawType": "category",
         "type": "unknown"
        },
        {
         "name": "budget",
         "rawType": "int64",
         "type": "integer"
        },
        {
         "name": "gross",
         "rawType": "int64",
         "type": "integer"
        },
        {
         "name": "release_date",
         "rawType": "datetime64[s]",
         "type": "unknown"
        },
        {
         "name": "genre",
         "rawType": "category",
         "type": "unknown"
        },
        {
         "name": "runtime",
         "rawType": "int64",
         "type": "integer"
        },
        {
         "name": "rating",
         "rawType": "float64",
         "type": "float"
        },
        {
         "name": "rating_count",
         "rawType": "int64",
         "type": "integer"
        }
       ],
       "conversionMethod": "pd.DataFrame",
       "ref": "023b0544-3303-43cc-a2c6-057306fef142",
       "rows": [
        [
         "112",
         "forrest gump",
         "pg-13",
         "55000000",
         "677945399",
         "1994-07-06 00:00:00",
         "comedy",
         "142",
         "8.8",
         "1657851"
        ],
        [
         "186",
         "the truman show",
         "pg",
         "60000000",
         "264118201",
         "1998-06-04 00:00:00",
         "comedy",
         "103",
         "8.1",
         "859224"
        ],
        [
         "81",
         "groundhog day",
         "pg",
         "14600000",
         "70906973",
         "1993-02-11 00:00:00",
         "comedy",
         "101",
         "8.0",
         "549538"
        ],
        [
         "255",
         "monsters, inc.",
         "g",
         "115000000",
         "562816256",
         "2001-11-01 00:00:00",
         "comedy",
         "92",
         "8.0",
         "758349"
        ],
        [
         "317",
         "the 40 year old virgin",
         "r",
         "26000000",
         "109449237",
         "2005-08-11 00:00:00",
         "comedy",
         "116",
         "7.7",
         "500448"
        ]
       ],
       "shape": {
        "columns": 9,
        "rows": 5
       }
      },
      "text/html": [
       "<div>\n",
       "<style scoped>\n",
       "    .dataframe tbody tr th:only-of-type {\n",
       "        vertical-align: middle;\n",
       "    }\n",
       "\n",
       "    .dataframe tbody tr th {\n",
       "        vertical-align: top;\n",
       "    }\n",
       "\n",
       "    .dataframe thead th {\n",
       "        text-align: right;\n",
       "    }\n",
       "</style>\n",
       "<table border=\"1\" class=\"dataframe\">\n",
       "  <thead>\n",
       "    <tr style=\"text-align: right;\">\n",
       "      <th></th>\n",
       "      <th>title</th>\n",
       "      <th>mpaa_rating</th>\n",
       "      <th>budget</th>\n",
       "      <th>gross</th>\n",
       "      <th>release_date</th>\n",
       "      <th>genre</th>\n",
       "      <th>runtime</th>\n",
       "      <th>rating</th>\n",
       "      <th>rating_count</th>\n",
       "    </tr>\n",
       "    <tr>\n",
       "      <th>movieid</th>\n",
       "      <th></th>\n",
       "      <th></th>\n",
       "      <th></th>\n",
       "      <th></th>\n",
       "      <th></th>\n",
       "      <th></th>\n",
       "      <th></th>\n",
       "      <th></th>\n",
       "      <th></th>\n",
       "    </tr>\n",
       "  </thead>\n",
       "  <tbody>\n",
       "    <tr>\n",
       "      <th>112</th>\n",
       "      <td>forrest gump</td>\n",
       "      <td>pg-13</td>\n",
       "      <td>55000000</td>\n",
       "      <td>677945399</td>\n",
       "      <td>1994-07-06</td>\n",
       "      <td>comedy</td>\n",
       "      <td>142</td>\n",
       "      <td>8.8</td>\n",
       "      <td>1657851</td>\n",
       "    </tr>\n",
       "    <tr>\n",
       "      <th>186</th>\n",
       "      <td>the truman show</td>\n",
       "      <td>pg</td>\n",
       "      <td>60000000</td>\n",
       "      <td>264118201</td>\n",
       "      <td>1998-06-04</td>\n",
       "      <td>comedy</td>\n",
       "      <td>103</td>\n",
       "      <td>8.1</td>\n",
       "      <td>859224</td>\n",
       "    </tr>\n",
       "    <tr>\n",
       "      <th>81</th>\n",
       "      <td>groundhog day</td>\n",
       "      <td>pg</td>\n",
       "      <td>14600000</td>\n",
       "      <td>70906973</td>\n",
       "      <td>1993-02-11</td>\n",
       "      <td>comedy</td>\n",
       "      <td>101</td>\n",
       "      <td>8.0</td>\n",
       "      <td>549538</td>\n",
       "    </tr>\n",
       "    <tr>\n",
       "      <th>255</th>\n",
       "      <td>monsters, inc.</td>\n",
       "      <td>g</td>\n",
       "      <td>115000000</td>\n",
       "      <td>562816256</td>\n",
       "      <td>2001-11-01</td>\n",
       "      <td>comedy</td>\n",
       "      <td>92</td>\n",
       "      <td>8.0</td>\n",
       "      <td>758349</td>\n",
       "    </tr>\n",
       "    <tr>\n",
       "      <th>317</th>\n",
       "      <td>the 40 year old virgin</td>\n",
       "      <td>r</td>\n",
       "      <td>26000000</td>\n",
       "      <td>109449237</td>\n",
       "      <td>2005-08-11</td>\n",
       "      <td>comedy</td>\n",
       "      <td>116</td>\n",
       "      <td>7.7</td>\n",
       "      <td>500448</td>\n",
       "    </tr>\n",
       "  </tbody>\n",
       "</table>\n",
       "</div>"
      ],
      "text/plain": [
       "                          title mpaa_rating     budget      gross  \\\n",
       "movieid                                                             \n",
       "112                forrest gump       pg-13   55000000  677945399   \n",
       "186             the truman show          pg   60000000  264118201   \n",
       "81                groundhog day          pg   14600000   70906973   \n",
       "255              monsters, inc.           g  115000000  562816256   \n",
       "317      the 40 year old virgin           r   26000000  109449237   \n",
       "\n",
       "        release_date   genre  runtime  rating  rating_count  \n",
       "movieid                                                      \n",
       "112       1994-07-06  comedy      142     8.8       1657851  \n",
       "186       1998-06-04  comedy      103     8.1        859224  \n",
       "81        1993-02-11  comedy      101     8.0        549538  \n",
       "255       2001-11-01  comedy       92     8.0        758349  \n",
       "317       2005-08-11  comedy      116     7.7        500448  "
      ]
     },
     "execution_count": 598,
     "metadata": {},
     "output_type": "execute_result"
    }
   ],
   "source": [
    "movies[movies.genre=='comedy'].sort_values('rating',ascending=False).iloc[:5]"
   ]
  },
  {
   "cell_type": "markdown",
   "id": "f60afe99",
   "metadata": {},
   "source": [
    "### 6 - **Top 5** movie names by **Rating**"
   ]
  },
  {
   "cell_type": "code",
   "execution_count": 599,
   "id": "3b2265a5",
   "metadata": {},
   "outputs": [
    {
     "data": {
      "application/vnd.microsoft.datawrangler.viewer.v0+json": {
       "columns": [
        {
         "name": "movieid",
         "rawType": "int64",
         "type": "integer"
        },
        {
         "name": "title",
         "rawType": "object",
         "type": "string"
        },
        {
         "name": "rating",
         "rawType": "float64",
         "type": "float"
        }
       ],
       "conversionMethod": "pd.DataFrame",
       "ref": "40a75b1b-4443-46c9-9e3c-a01417a73cb7",
       "rows": [
        [
         "394",
         "the dark knight",
         "9.0"
        ],
        [
         "99",
         "jurassic park iii",
         "8.9"
        ],
        [
         "100",
         "pulp fiction",
         "8.9"
        ],
        [
         "84",
         "schindler's list",
         "8.9"
        ],
        [
         "288",
         "the lord of the rings: the return of the king",
         "8.9"
        ]
       ],
       "shape": {
        "columns": 2,
        "rows": 5
       }
      },
      "text/html": [
       "<div>\n",
       "<style scoped>\n",
       "    .dataframe tbody tr th:only-of-type {\n",
       "        vertical-align: middle;\n",
       "    }\n",
       "\n",
       "    .dataframe tbody tr th {\n",
       "        vertical-align: top;\n",
       "    }\n",
       "\n",
       "    .dataframe thead th {\n",
       "        text-align: right;\n",
       "    }\n",
       "</style>\n",
       "<table border=\"1\" class=\"dataframe\">\n",
       "  <thead>\n",
       "    <tr style=\"text-align: right;\">\n",
       "      <th></th>\n",
       "      <th>title</th>\n",
       "      <th>rating</th>\n",
       "    </tr>\n",
       "    <tr>\n",
       "      <th>movieid</th>\n",
       "      <th></th>\n",
       "      <th></th>\n",
       "    </tr>\n",
       "  </thead>\n",
       "  <tbody>\n",
       "    <tr>\n",
       "      <th>394</th>\n",
       "      <td>the dark knight</td>\n",
       "      <td>9.0</td>\n",
       "    </tr>\n",
       "    <tr>\n",
       "      <th>99</th>\n",
       "      <td>jurassic park iii</td>\n",
       "      <td>8.9</td>\n",
       "    </tr>\n",
       "    <tr>\n",
       "      <th>100</th>\n",
       "      <td>pulp fiction</td>\n",
       "      <td>8.9</td>\n",
       "    </tr>\n",
       "    <tr>\n",
       "      <th>84</th>\n",
       "      <td>schindler's list</td>\n",
       "      <td>8.9</td>\n",
       "    </tr>\n",
       "    <tr>\n",
       "      <th>288</th>\n",
       "      <td>the lord of the rings: the return of the king</td>\n",
       "      <td>8.9</td>\n",
       "    </tr>\n",
       "  </tbody>\n",
       "</table>\n",
       "</div>"
      ],
      "text/plain": [
       "                                                 title  rating\n",
       "movieid                                                       \n",
       "394                                    the dark knight     9.0\n",
       "99                                   jurassic park iii     8.9\n",
       "100                                       pulp fiction     8.9\n",
       "84                                    schindler's list     8.9\n",
       "288      the lord of the rings: the return of the king     8.9"
      ]
     },
     "execution_count": 599,
     "metadata": {},
     "output_type": "execute_result"
    }
   ],
   "source": [
    "movies[['title','rating']].sort_values(by='rating', ascending=False).head(5)"
   ]
  },
  {
   "cell_type": "markdown",
   "id": "696ecbfe",
   "metadata": {},
   "source": [
    "### 7 - **Top 3 high Gross Romance** movies released **after 1999** (typecast it to datetime)\n"
   ]
  },
  {
   "cell_type": "code",
   "execution_count": 600,
   "id": "825081f3",
   "metadata": {},
   "outputs": [
    {
     "data": {
      "application/vnd.microsoft.datawrangler.viewer.v0+json": {
       "columns": [
        {
         "name": "movieid",
         "rawType": "int64",
         "type": "integer"
        },
        {
         "name": "title",
         "rawType": "object",
         "type": "string"
        },
        {
         "name": "mpaa_rating",
         "rawType": "category",
         "type": "unknown"
        },
        {
         "name": "budget",
         "rawType": "int64",
         "type": "integer"
        },
        {
         "name": "gross",
         "rawType": "int64",
         "type": "integer"
        },
        {
         "name": "release_date",
         "rawType": "datetime64[s]",
         "type": "unknown"
        },
        {
         "name": "genre",
         "rawType": "category",
         "type": "unknown"
        },
        {
         "name": "runtime",
         "rawType": "int64",
         "type": "integer"
        },
        {
         "name": "rating",
         "rawType": "float64",
         "type": "float"
        },
        {
         "name": "rating_count",
         "rawType": "int64",
         "type": "integer"
        }
       ],
       "conversionMethod": "pd.DataFrame",
       "ref": "e8dfbfb9-4572-4aaa-83ac-1c58d8704ec2",
       "rows": [
        [
         "465",
         "the twilight saga: breaking dawn - part 2",
         "pg-13",
         "120000000",
         "829000000",
         "2012-11-13 00:00:00",
         "romance",
         "115",
         "5.5",
         "218357"
        ],
        [
         "443",
         "the twilight saga: breaking dawn - part 1",
         "pg-13",
         "110000000",
         "712171856",
         "2011-03-15 00:00:00",
         "romance",
         "117",
         "4.9",
         "211592"
        ],
        [
         "402",
         "the twilight saga: new moon",
         "pg-13",
         "50000000",
         "709827462",
         "2009-03-15 00:00:00",
         "romance",
         "130",
         "4.7",
         "252223"
        ]
       ],
       "shape": {
        "columns": 9,
        "rows": 3
       }
      },
      "text/html": [
       "<div>\n",
       "<style scoped>\n",
       "    .dataframe tbody tr th:only-of-type {\n",
       "        vertical-align: middle;\n",
       "    }\n",
       "\n",
       "    .dataframe tbody tr th {\n",
       "        vertical-align: top;\n",
       "    }\n",
       "\n",
       "    .dataframe thead th {\n",
       "        text-align: right;\n",
       "    }\n",
       "</style>\n",
       "<table border=\"1\" class=\"dataframe\">\n",
       "  <thead>\n",
       "    <tr style=\"text-align: right;\">\n",
       "      <th></th>\n",
       "      <th>title</th>\n",
       "      <th>mpaa_rating</th>\n",
       "      <th>budget</th>\n",
       "      <th>gross</th>\n",
       "      <th>release_date</th>\n",
       "      <th>genre</th>\n",
       "      <th>runtime</th>\n",
       "      <th>rating</th>\n",
       "      <th>rating_count</th>\n",
       "    </tr>\n",
       "    <tr>\n",
       "      <th>movieid</th>\n",
       "      <th></th>\n",
       "      <th></th>\n",
       "      <th></th>\n",
       "      <th></th>\n",
       "      <th></th>\n",
       "      <th></th>\n",
       "      <th></th>\n",
       "      <th></th>\n",
       "      <th></th>\n",
       "    </tr>\n",
       "  </thead>\n",
       "  <tbody>\n",
       "    <tr>\n",
       "      <th>465</th>\n",
       "      <td>the twilight saga: breaking dawn - part 2</td>\n",
       "      <td>pg-13</td>\n",
       "      <td>120000000</td>\n",
       "      <td>829000000</td>\n",
       "      <td>2012-11-13</td>\n",
       "      <td>romance</td>\n",
       "      <td>115</td>\n",
       "      <td>5.5</td>\n",
       "      <td>218357</td>\n",
       "    </tr>\n",
       "    <tr>\n",
       "      <th>443</th>\n",
       "      <td>the twilight saga: breaking dawn - part 1</td>\n",
       "      <td>pg-13</td>\n",
       "      <td>110000000</td>\n",
       "      <td>712171856</td>\n",
       "      <td>2011-03-15</td>\n",
       "      <td>romance</td>\n",
       "      <td>117</td>\n",
       "      <td>4.9</td>\n",
       "      <td>211592</td>\n",
       "    </tr>\n",
       "    <tr>\n",
       "      <th>402</th>\n",
       "      <td>the twilight saga: new moon</td>\n",
       "      <td>pg-13</td>\n",
       "      <td>50000000</td>\n",
       "      <td>709827462</td>\n",
       "      <td>2009-03-15</td>\n",
       "      <td>romance</td>\n",
       "      <td>130</td>\n",
       "      <td>4.7</td>\n",
       "      <td>252223</td>\n",
       "    </tr>\n",
       "  </tbody>\n",
       "</table>\n",
       "</div>"
      ],
      "text/plain": [
       "                                             title mpaa_rating     budget  \\\n",
       "movieid                                                                     \n",
       "465      the twilight saga: breaking dawn - part 2       pg-13  120000000   \n",
       "443      the twilight saga: breaking dawn - part 1       pg-13  110000000   \n",
       "402                    the twilight saga: new moon       pg-13   50000000   \n",
       "\n",
       "             gross release_date    genre  runtime  rating  rating_count  \n",
       "movieid                                                                  \n",
       "465      829000000   2012-11-13  romance      115     5.5        218357  \n",
       "443      712171856   2011-03-15  romance      117     4.9        211592  \n",
       "402      709827462   2009-03-15  romance      130     4.7        252223  "
      ]
     },
     "execution_count": 600,
     "metadata": {},
     "output_type": "execute_result"
    }
   ],
   "source": [
    "mask = (movies.genre == 'romance') & (movies.release_date>=pd.to_datetime('01.01.2000'))\n",
    "# movies[mask].sort_values('gross', ascending=False).head(3)\n",
    "movies[mask].nlargest(3, 'gross')"
   ]
  },
  {
   "cell_type": "markdown",
   "id": "0d92722d",
   "metadata": {},
   "source": [
    "### 8 - How many of each **Genre** are present in the DataFrame? (use value_counts() method which applies to Series, not DataFrame)"
   ]
  },
  {
   "cell_type": "code",
   "execution_count": 601,
   "id": "28a31c50",
   "metadata": {},
   "outputs": [
    {
     "data": {
      "text/plain": [
       "genre\n",
       "action             110\n",
       "comedy              99\n",
       "animation           87\n",
       "drama               66\n",
       "thriller            41\n",
       "science fiction     37\n",
       "adventure           30\n",
       "family              29\n",
       "romance             28\n",
       "fantasy             27\n",
       "crime               17\n",
       "horror              14\n",
       "mystery             11\n",
       "war                  9\n",
       "western              6\n",
       "history              4\n",
       "Name: count, dtype: int64"
      ]
     },
     "execution_count": 601,
     "metadata": {},
     "output_type": "execute_result"
    }
   ],
   "source": [
    "movies.genre.value_counts()"
   ]
  },
  {
   "cell_type": "markdown",
   "id": "5a75508e",
   "metadata": {},
   "source": [
    "### 9 - **Top 5 most expensive movies** released after **1999** (measured by Budget)"
   ]
  },
  {
   "cell_type": "code",
   "execution_count": 602,
   "id": "4d238124",
   "metadata": {},
   "outputs": [
    {
     "data": {
      "application/vnd.microsoft.datawrangler.viewer.v0+json": {
       "columns": [
        {
         "name": "movieid",
         "rawType": "int64",
         "type": "integer"
        },
        {
         "name": "title",
         "rawType": "object",
         "type": "string"
        },
        {
         "name": "mpaa_rating",
         "rawType": "category",
         "type": "unknown"
        },
        {
         "name": "budget",
         "rawType": "int64",
         "type": "integer"
        },
        {
         "name": "gross",
         "rawType": "int64",
         "type": "integer"
        },
        {
         "name": "release_date",
         "rawType": "datetime64[s]",
         "type": "unknown"
        },
        {
         "name": "genre",
         "rawType": "category",
         "type": "unknown"
        },
        {
         "name": "runtime",
         "rawType": "int64",
         "type": "integer"
        },
        {
         "name": "rating",
         "rawType": "float64",
         "type": "float"
        },
        {
         "name": "rating_count",
         "rawType": "int64",
         "type": "integer"
        }
       ],
       "conversionMethod": "pd.DataFrame",
       "ref": "421bf0a1-ec5d-4b6c-aa59-7a639690e4dc",
       "rows": [
        [
         "595",
         "avengers: infinity war",
         "pg-13",
         "400000000",
         "2048000000",
         "2018-04-23 00:00:00",
         "action",
         "149",
         "6.9",
         "240347"
        ],
        [
         "455",
         "pirates of the caribbean: on stranger tides",
         "pg-13",
         "380000000",
         "1045713802",
         "2011-05-14 00:00:00",
         "action",
         "136",
         "6.6",
         "455211"
        ],
        [
         "615",
         "avengers: endgame",
         "pg-13",
         "356000000",
         "2796000000",
         "2019-04-22 00:00:00",
         "action",
         "181",
         "6.9",
         "240347"
        ],
        [
         "575",
         "star wars: the last jedi",
         "pg-13",
         "317000000",
         "1333000000",
         "2019-12-09 00:00:00",
         "science fiction",
         "152",
         "6.9",
         "240347"
        ],
        [
         "376",
         "pirates of the caribbean: at world's end",
         "pg-13",
         "300000000",
         "961000000",
         "2007-05-19 00:00:00",
         "adventure",
         "169",
         "7.1",
         "565402"
        ]
       ],
       "shape": {
        "columns": 9,
        "rows": 5
       }
      },
      "text/html": [
       "<div>\n",
       "<style scoped>\n",
       "    .dataframe tbody tr th:only-of-type {\n",
       "        vertical-align: middle;\n",
       "    }\n",
       "\n",
       "    .dataframe tbody tr th {\n",
       "        vertical-align: top;\n",
       "    }\n",
       "\n",
       "    .dataframe thead th {\n",
       "        text-align: right;\n",
       "    }\n",
       "</style>\n",
       "<table border=\"1\" class=\"dataframe\">\n",
       "  <thead>\n",
       "    <tr style=\"text-align: right;\">\n",
       "      <th></th>\n",
       "      <th>title</th>\n",
       "      <th>mpaa_rating</th>\n",
       "      <th>budget</th>\n",
       "      <th>gross</th>\n",
       "      <th>release_date</th>\n",
       "      <th>genre</th>\n",
       "      <th>runtime</th>\n",
       "      <th>rating</th>\n",
       "      <th>rating_count</th>\n",
       "    </tr>\n",
       "    <tr>\n",
       "      <th>movieid</th>\n",
       "      <th></th>\n",
       "      <th></th>\n",
       "      <th></th>\n",
       "      <th></th>\n",
       "      <th></th>\n",
       "      <th></th>\n",
       "      <th></th>\n",
       "      <th></th>\n",
       "      <th></th>\n",
       "    </tr>\n",
       "  </thead>\n",
       "  <tbody>\n",
       "    <tr>\n",
       "      <th>595</th>\n",
       "      <td>avengers: infinity war</td>\n",
       "      <td>pg-13</td>\n",
       "      <td>400000000</td>\n",
       "      <td>2048000000</td>\n",
       "      <td>2018-04-23</td>\n",
       "      <td>action</td>\n",
       "      <td>149</td>\n",
       "      <td>6.9</td>\n",
       "      <td>240347</td>\n",
       "    </tr>\n",
       "    <tr>\n",
       "      <th>455</th>\n",
       "      <td>pirates of the caribbean: on stranger tides</td>\n",
       "      <td>pg-13</td>\n",
       "      <td>380000000</td>\n",
       "      <td>1045713802</td>\n",
       "      <td>2011-05-14</td>\n",
       "      <td>action</td>\n",
       "      <td>136</td>\n",
       "      <td>6.6</td>\n",
       "      <td>455211</td>\n",
       "    </tr>\n",
       "    <tr>\n",
       "      <th>615</th>\n",
       "      <td>avengers: endgame</td>\n",
       "      <td>pg-13</td>\n",
       "      <td>356000000</td>\n",
       "      <td>2796000000</td>\n",
       "      <td>2019-04-22</td>\n",
       "      <td>action</td>\n",
       "      <td>181</td>\n",
       "      <td>6.9</td>\n",
       "      <td>240347</td>\n",
       "    </tr>\n",
       "    <tr>\n",
       "      <th>575</th>\n",
       "      <td>star wars: the last jedi</td>\n",
       "      <td>pg-13</td>\n",
       "      <td>317000000</td>\n",
       "      <td>1333000000</td>\n",
       "      <td>2019-12-09</td>\n",
       "      <td>science fiction</td>\n",
       "      <td>152</td>\n",
       "      <td>6.9</td>\n",
       "      <td>240347</td>\n",
       "    </tr>\n",
       "    <tr>\n",
       "      <th>376</th>\n",
       "      <td>pirates of the caribbean: at world's end</td>\n",
       "      <td>pg-13</td>\n",
       "      <td>300000000</td>\n",
       "      <td>961000000</td>\n",
       "      <td>2007-05-19</td>\n",
       "      <td>adventure</td>\n",
       "      <td>169</td>\n",
       "      <td>7.1</td>\n",
       "      <td>565402</td>\n",
       "    </tr>\n",
       "  </tbody>\n",
       "</table>\n",
       "</div>"
      ],
      "text/plain": [
       "                                               title mpaa_rating     budget  \\\n",
       "movieid                                                                       \n",
       "595                           avengers: infinity war       pg-13  400000000   \n",
       "455      pirates of the caribbean: on stranger tides       pg-13  380000000   \n",
       "615                                avengers: endgame       pg-13  356000000   \n",
       "575                         star wars: the last jedi       pg-13  317000000   \n",
       "376         pirates of the caribbean: at world's end       pg-13  300000000   \n",
       "\n",
       "              gross release_date            genre  runtime  rating  \\\n",
       "movieid                                                              \n",
       "595      2048000000   2018-04-23           action      149     6.9   \n",
       "455      1045713802   2011-05-14           action      136     6.6   \n",
       "615      2796000000   2019-04-22           action      181     6.9   \n",
       "575      1333000000   2019-12-09  science fiction      152     6.9   \n",
       "376       961000000   2007-05-19        adventure      169     7.1   \n",
       "\n",
       "         rating_count  \n",
       "movieid                \n",
       "595            240347  \n",
       "455            455211  \n",
       "615            240347  \n",
       "575            240347  \n",
       "376            565402  "
      ]
     },
     "execution_count": 602,
     "metadata": {},
     "output_type": "execute_result"
    }
   ],
   "source": [
    "# movies[movies.release_date>=pd.to_datetime('01.01.2000')].sort_values('budget', ascending=False).head(5)\n",
    "movies[movies.release_date.dt.year>=2000].sort_values('budget', ascending=False).head(5)"
   ]
  },
  {
   "cell_type": "markdown",
   "id": "278afa57",
   "metadata": {},
   "source": [
    "### 10 - Most & least frequent MPAA Rating in the dataset in terms of occurrences"
   ]
  },
  {
   "cell_type": "code",
   "execution_count": 603,
   "id": "025c3fdb",
   "metadata": {},
   "outputs": [
    {
     "data": {
      "text/plain": [
       "mpaa_rating\n",
       "pg-13    285\n",
       "nc-17      0\n",
       "Name: count, dtype: int64"
      ]
     },
     "execution_count": 603,
     "metadata": {},
     "output_type": "execute_result"
    }
   ],
   "source": [
    "movies.mpaa_rating.value_counts().iloc[[0, -1]]"
   ]
  },
  {
   "cell_type": "code",
   "execution_count": 604,
   "id": "bdf991b8",
   "metadata": {},
   "outputs": [
    {
     "name": "stdout",
     "output_type": "stream",
     "text": [
      "mpaa_rating\n",
      "pg-13    285\n",
      "pg       161\n",
      "r        142\n",
      "g         27\n",
      "nc-17      0\n",
      "Name: count, dtype: int64\n",
      "Most frequent MPAA rating is pg-13 with 285 counts\n",
      "Most frequent MPAA rating is nc-17 with 0 counts\n"
     ]
    }
   ],
   "source": [
    "value_counts_mpaa_rating = movies.mpaa_rating.value_counts()\n",
    "print(value_counts_mpaa_rating)\n",
    "\n",
    " # NOTE access the index with idx-functions, access the position with arg-functions\n",
    "print('Most frequent MPAA rating is', value_counts_mpaa_rating.idxmax(), 'with',  value_counts_mpaa_rating.max(), 'counts')\n",
    "print('Most frequent MPAA rating is', value_counts_mpaa_rating.idxmin(), 'with',  value_counts_mpaa_rating.min(), 'counts')"
   ]
  },
  {
   "cell_type": "code",
   "execution_count": 605,
   "id": "2cdc41fc",
   "metadata": {},
   "outputs": [
    {
     "name": "stdout",
     "output_type": "stream",
     "text": [
      "<class 'pandas.core.frame.DataFrame'>\n",
      "Index: 615 entries, 1 to 615\n",
      "Data columns (total 9 columns):\n",
      " #   Column        Non-Null Count  Dtype        \n",
      "---  ------        --------------  -----        \n",
      " 0   title         615 non-null    object       \n",
      " 1   mpaa_rating   615 non-null    category     \n",
      " 2   budget        615 non-null    int64        \n",
      " 3   gross         615 non-null    int64        \n",
      " 4   release_date  615 non-null    datetime64[s]\n",
      " 5   genre         615 non-null    category     \n",
      " 6   runtime       615 non-null    int64        \n",
      " 7   rating        615 non-null    float64      \n",
      " 8   rating_count  615 non-null    int64        \n",
      "dtypes: category(2), datetime64[s](1), float64(1), int64(4), object(1)\n",
      "memory usage: 40.5+ KB\n"
     ]
    }
   ],
   "source": [
    "movies.info()"
   ]
  },
  {
   "cell_type": "markdown",
   "id": "a6926e37",
   "metadata": {},
   "source": [
    "### 11 - Most & least expensive Genre \n",
    "\n",
    "Measure: \n",
    "* take an average of all Budget measures grouped by Genre - use the groupBy() method\n",
    "* error due to: averaging across years\n",
    "\n"
   ]
  },
  {
   "cell_type": "code",
   "execution_count": 606,
   "id": "1cac3b23",
   "metadata": {},
   "outputs": [
    {
     "name": "stdout",
     "output_type": "stream",
     "text": [
      "The least expensive genre is horror with an averaging budget of 37,004,286$ per movie.\n",
      "The most expensive genre is fantasy with an averaging budget of 161,211,111$ per movie.\n"
     ]
    }
   ],
   "source": [
    "gby_genre = movies.groupby('genre', observed=True)\n",
    "genre_budget = gby_genre['budget'].mean() # NOTE how to skip an error in aggregation? use numerical_only - Option\n",
    "\n",
    "print(f'The least expensive genre is {genre_budget.idxmin()} with an averaging budget of {genre_budget.min():,.0f}$ per movie.')\n",
    "print(f'The most expensive genre is {genre_budget.idxmax()} with an averaging budget of {genre_budget.max():,.0f}$ per movie.')"
   ]
  },
  {
   "cell_type": "code",
   "execution_count": 607,
   "id": "475a6a7f",
   "metadata": {},
   "outputs": [
    {
     "data": {
      "text/plain": [
       "genre\n",
       "action             1.441682e+08\n",
       "adventure          1.338333e+08\n",
       "animation          1.158793e+08\n",
       "comedy             4.957727e+07\n",
       "crime              5.658824e+07\n",
       "drama              5.592576e+07\n",
       "family             6.268966e+07\n",
       "fantasy            1.612111e+08\n",
       "history            5.550000e+07\n",
       "horror             3.700429e+07\n",
       "mystery            1.035455e+08\n",
       "romance            4.540020e+07\n",
       "science fiction    1.267838e+08\n",
       "thriller           8.658537e+07\n",
       "war                9.075556e+07\n",
       "western            7.983333e+07\n",
       "Name: budget, dtype: float64"
      ]
     },
     "execution_count": 607,
     "metadata": {},
     "output_type": "execute_result"
    }
   ],
   "source": [
    "genre_budget"
   ]
  },
  {
   "cell_type": "markdown",
   "id": "349a6e44",
   "metadata": {},
   "source": [
    "### 12 - Most favoured genre\n",
    "\n",
    "Which Genre is most favoured?\n",
    "\n",
    "Measures for most favoured:\n",
    "* average rating (= weighted average)\n",
    "* average share on top20 gross per year (tiny problem: only total of top 20 is available)\n",
    "  * highest total gross not suitable because of large timeframe and inflation"
   ]
  },
  {
   "cell_type": "markdown",
   "id": "f444ddb6",
   "metadata": {},
   "source": [
    "Notes on agg-function: \n",
    "* When is aggregation applied? Splitting - Applying - Combining\n",
    "* How to \n",
    "* apply function\n",
    "  * This method will examine the results of the apply step and try to sensibly combine them into a single result if it doesn’t fit into either of the above three categories.\n",
    "  * mostly it will be better to chain the built-in functions instead of writing a new apply"
   ]
  },
  {
   "cell_type": "markdown",
   "id": "b9a06feb",
   "metadata": {},
   "source": [
    "#### Highest average rating"
   ]
  },
  {
   "cell_type": "code",
   "execution_count": 608,
   "id": "86786dc3",
   "metadata": {},
   "outputs": [],
   "source": [
    "# Method 1 chaining built-in functions and creating a new column\n",
    "# movies_ratings_genre = movies[['genre','rating','rating_count']]\n",
    "# movies_ratings_genre['rating_'] = movies.rating*movies.rating_count # make sense of the warning message: actually not relevant here!\n",
    "# movies_ratings_genre.loc[:,'rating_'] = movies.rating*movies.rating_count # warning still appears\n",
    "# movies_ratings_genre = movies_ratings_genre.assign(rating_=movies.rating*movies.rating_count) # ok\n",
    "\n",
    "\n",
    "# movies_ratings_genre.groupby('genre')\n",
    "\n",
    "# deprecated: not possible without apply, because the sum of weights for a group has to be calculated\n",
    "# TODO np.where nutzen\n",
    "\n",
    "# movies_ratings_genre\n"
   ]
  },
  {
   "cell_type": "code",
   "execution_count": 609,
   "id": "a9cc39d2",
   "metadata": {},
   "outputs": [
    {
     "name": "stdout",
     "output_type": "stream",
     "text": [
      "                   rating  rating_cool\n",
      "genre                                 \n",
      "history          7.625000     8.259995\n",
      "western          7.333333     7.893629\n",
      "fantasy          7.337037     7.888135\n",
      "thriller         6.995122     7.686261\n",
      "war              7.355556     7.671208\n",
      "drama            7.193939     7.610312\n",
      "science fiction  7.151351     7.513210\n",
      "crime            6.876471     7.467175\n",
      "action           6.985455     7.418441\n",
      "animation        7.110345     7.410937\n",
      "mystery          6.827273     7.124825\n",
      "adventure        6.696667     7.120297\n",
      "comedy           6.631313     7.053907\n",
      "horror           6.735714     6.846386\n",
      "romance          6.400000     6.596322\n",
      "family           6.117241     6.550649\n",
      "\n",
      "True\n"
     ]
    }
   ],
   "source": [
    "# Method 2 - using apply (problem: apply is slow)\n",
    "def weighted_average(values,weights):\n",
    "    return sum(values*weights)/weights.sum()\n",
    "\n",
    "# rating with simple average\n",
    "genre_rating = pd.DataFrame(gby_genre.rating.mean())\n",
    "\n",
    "# # rating with weighted average\n",
    "# genre_rating['rating_cool'] = gby_genre[['rating','rating_count']].apply(lambda g: (g.rating*g.rating_count).sum()/g.rating_count.sum())\n",
    "# genre_rating['rating_cool'] = gby_genre[['rating','rating_count']].apply(weighted_average,('rating','rating_count')) # does not work\n",
    "genre_rating['rating_cool'] = gby_genre[['rating','rating_count']].apply(lambda g: weighted_average(g.rating, g.rating_count)) # NOTE define lambda function to pass arguments to weighted average\n",
    "\n",
    "# output\n",
    "genre_rating = genre_rating.sort_values('rating_cool', ascending=False)\n",
    "print(genre_rating)\n",
    "\n",
    "# verify\n",
    "print()\n",
    "print(genre_rating.loc['animation','rating_cool'] == \n",
    "    weighted_average(movies.loc[movies.genre=='animation','rating'], movies.loc[movies.genre=='animation','rating_count'])\n",
    ")\n"
   ]
  },
  {
   "cell_type": "markdown",
   "id": "614950ea",
   "metadata": {},
   "source": [
    "* The genre rating with rating_cool gives a completely different ranking of genres.\n",
    "* The genre rating does not really tell which genre is favoured."
   ]
  },
  {
   "cell_type": "markdown",
   "id": "ec0556de",
   "metadata": {},
   "source": [
    "#### Highest average share on yearly total gross of genre\n",
    "\n",
    "How to calculate the average share on yearly total gross:\n",
    "1. Get total gross per year\n",
    "2. Get total gross per year per genre\n",
    "3. Handle NA values (edit: not needed, because grouping takes care of that!)\n",
    "4. Divide 2 by 1 to get share on yearly total gross\n",
    "5. Calculate Average for all years \n",
    "\n",
    "Note: What about the years when genre is not present or does not exist? \n",
    "* genre did not appear: Count values as 0.\n",
    "* genre did not exist: Skip values. It's assumed that this is not the case."
   ]
  },
  {
   "cell_type": "code",
   "execution_count": 610,
   "id": "174b16dd",
   "metadata": {},
   "outputs": [
    {
     "name": "stdout",
     "output_type": "stream",
     "text": [
      "yearly_genre_gross: fillna not applied \n",
      "\n"
     ]
    },
    {
     "data": {
      "application/vnd.microsoft.datawrangler.viewer.v0+json": {
       "columns": [
        {
         "name": "index",
         "rawType": "int64",
         "type": "integer"
        },
        {
         "name": "genre",
         "rawType": "category",
         "type": "unknown"
        },
        {
         "name": "gross",
         "rawType": "int64",
         "type": "integer"
        },
        {
         "name": "share",
         "rawType": "float64",
         "type": "float"
        }
       ],
       "conversionMethod": "pd.DataFrame",
       "ref": "9dd3c5b5-af0e-40ed-9325-fac1f86871db",
       "rows": [
        [
         "0",
         "action",
         "68700404477",
         "0.21370755729352825"
        ],
        [
         "2",
         "animation",
         "48871498026",
         "0.1535121896330801"
        ],
        [
         "3",
         "comedy",
         "24234775131",
         "0.11096076528123293"
        ],
        [
         "5",
         "drama",
         "19729801307",
         "0.08013817189037199"
        ],
        [
         "7",
         "fantasy",
         "21400347696",
         "0.07022113758890174"
        ],
        [
         "12",
         "science fiction",
         "19434069042",
         "0.07013169630233015"
        ],
        [
         "1",
         "adventure",
         "17594818991",
         "0.06661619724506718"
        ],
        [
         "13",
         "thriller",
         "16249917173",
         "0.0640564088457837"
        ],
        [
         "11",
         "romance",
         "10756397111",
         "0.04774549226619905"
        ],
        [
         "6",
         "family",
         "8469766372",
         "0.04522414774443294"
        ],
        [
         "4",
         "crime",
         "3887525111",
         "0.019775665546380425"
        ],
        [
         "10",
         "mystery",
         "4098467279",
         "0.015912521595853095"
        ],
        [
         "14",
         "war",
         "3513382833",
         "0.014489526870892359"
        ],
        [
         "9",
         "horror",
         "3814590770",
         "0.01283364427208619"
        ],
        [
         "15",
         "western",
         "2016066644",
         "0.00826617117105448"
        ],
        [
         "8",
         "history",
         "1101271153",
         "0.006408706452805399"
        ]
       ],
       "shape": {
        "columns": 3,
        "rows": 16
       }
      },
      "text/html": [
       "<div>\n",
       "<style scoped>\n",
       "    .dataframe tbody tr th:only-of-type {\n",
       "        vertical-align: middle;\n",
       "    }\n",
       "\n",
       "    .dataframe tbody tr th {\n",
       "        vertical-align: top;\n",
       "    }\n",
       "\n",
       "    .dataframe thead th {\n",
       "        text-align: right;\n",
       "    }\n",
       "</style>\n",
       "<table border=\"1\" class=\"dataframe\">\n",
       "  <thead>\n",
       "    <tr style=\"text-align: right;\">\n",
       "      <th></th>\n",
       "      <th>genre</th>\n",
       "      <th>gross</th>\n",
       "      <th>share</th>\n",
       "    </tr>\n",
       "  </thead>\n",
       "  <tbody>\n",
       "    <tr>\n",
       "      <th>0</th>\n",
       "      <td>action</td>\n",
       "      <td>68700404477</td>\n",
       "      <td>0.213708</td>\n",
       "    </tr>\n",
       "    <tr>\n",
       "      <th>2</th>\n",
       "      <td>animation</td>\n",
       "      <td>48871498026</td>\n",
       "      <td>0.153512</td>\n",
       "    </tr>\n",
       "    <tr>\n",
       "      <th>3</th>\n",
       "      <td>comedy</td>\n",
       "      <td>24234775131</td>\n",
       "      <td>0.110961</td>\n",
       "    </tr>\n",
       "    <tr>\n",
       "      <th>5</th>\n",
       "      <td>drama</td>\n",
       "      <td>19729801307</td>\n",
       "      <td>0.080138</td>\n",
       "    </tr>\n",
       "    <tr>\n",
       "      <th>7</th>\n",
       "      <td>fantasy</td>\n",
       "      <td>21400347696</td>\n",
       "      <td>0.070221</td>\n",
       "    </tr>\n",
       "    <tr>\n",
       "      <th>12</th>\n",
       "      <td>science fiction</td>\n",
       "      <td>19434069042</td>\n",
       "      <td>0.070132</td>\n",
       "    </tr>\n",
       "    <tr>\n",
       "      <th>1</th>\n",
       "      <td>adventure</td>\n",
       "      <td>17594818991</td>\n",
       "      <td>0.066616</td>\n",
       "    </tr>\n",
       "    <tr>\n",
       "      <th>13</th>\n",
       "      <td>thriller</td>\n",
       "      <td>16249917173</td>\n",
       "      <td>0.064056</td>\n",
       "    </tr>\n",
       "    <tr>\n",
       "      <th>11</th>\n",
       "      <td>romance</td>\n",
       "      <td>10756397111</td>\n",
       "      <td>0.047745</td>\n",
       "    </tr>\n",
       "    <tr>\n",
       "      <th>6</th>\n",
       "      <td>family</td>\n",
       "      <td>8469766372</td>\n",
       "      <td>0.045224</td>\n",
       "    </tr>\n",
       "    <tr>\n",
       "      <th>4</th>\n",
       "      <td>crime</td>\n",
       "      <td>3887525111</td>\n",
       "      <td>0.019776</td>\n",
       "    </tr>\n",
       "    <tr>\n",
       "      <th>10</th>\n",
       "      <td>mystery</td>\n",
       "      <td>4098467279</td>\n",
       "      <td>0.015913</td>\n",
       "    </tr>\n",
       "    <tr>\n",
       "      <th>14</th>\n",
       "      <td>war</td>\n",
       "      <td>3513382833</td>\n",
       "      <td>0.014490</td>\n",
       "    </tr>\n",
       "    <tr>\n",
       "      <th>9</th>\n",
       "      <td>horror</td>\n",
       "      <td>3814590770</td>\n",
       "      <td>0.012834</td>\n",
       "    </tr>\n",
       "    <tr>\n",
       "      <th>15</th>\n",
       "      <td>western</td>\n",
       "      <td>2016066644</td>\n",
       "      <td>0.008266</td>\n",
       "    </tr>\n",
       "    <tr>\n",
       "      <th>8</th>\n",
       "      <td>history</td>\n",
       "      <td>1101271153</td>\n",
       "      <td>0.006409</td>\n",
       "    </tr>\n",
       "  </tbody>\n",
       "</table>\n",
       "</div>"
      ],
      "text/plain": [
       "              genre        gross     share\n",
       "0            action  68700404477  0.213708\n",
       "2         animation  48871498026  0.153512\n",
       "3            comedy  24234775131  0.110961\n",
       "5             drama  19729801307  0.080138\n",
       "7           fantasy  21400347696  0.070221\n",
       "12  science fiction  19434069042  0.070132\n",
       "1         adventure  17594818991  0.066616\n",
       "13         thriller  16249917173  0.064056\n",
       "11          romance  10756397111  0.047745\n",
       "6            family   8469766372  0.045224\n",
       "4             crime   3887525111  0.019776\n",
       "10          mystery   4098467279  0.015913\n",
       "14              war   3513382833  0.014490\n",
       "9            horror   3814590770  0.012834\n",
       "15          western   2016066644  0.008266\n",
       "8           history   1101271153  0.006409"
      ]
     },
     "execution_count": 610,
     "metadata": {},
     "output_type": "execute_result"
    }
   ],
   "source": [
    "# config - grouping\n",
    "release_date_grouper = pd.Grouper(key='release_date', freq='YE') # NOTE grouper object useful for grouping timestamps\n",
    "\n",
    "# 1 - groupby genre and calculate sum of gross for all years\n",
    "gby_release_date = movies[['release_date','gross']].groupby(release_date_grouper, observed=False)\n",
    "yearly_gross = gby_release_date.sum()\n",
    "yearly_gross = yearly_gross.rename(columns={'gross':'total_gross_per_year'})\n",
    "\n",
    "# 2 - groupby genre and year and calculate sum of gross \n",
    "gby_release_date_and_genre = movies[['release_date','genre','gross']].groupby([release_date_grouper, 'genre'], observed=False)\n",
    "yearly_genre_gross = gby_release_date_and_genre.sum() # NOTE creates a multi-index (release_date, genre)\n",
    "yearly_genre_gross = yearly_genre_gross.rename(columns={'gross':'total_yearly_genre_gross'})\n",
    "\n",
    "# 3 - fill 0 or NA for genres\n",
    "if np.nan in yearly_genre_gross.total_yearly_genre_gross:\n",
    "    yearly_genre_gross.total_yearly_genre_gross = yearly_genre_gross.total_yearly_genre_gross.fillna(0.)\n",
    "else:\n",
    "    print('yearly_genre_gross: fillna not applied','\\n')\n",
    "\n",
    "# 4 - calculate share of total gross per year by merging\n",
    "yearly_genre_gross = pd.merge(yearly_genre_gross, yearly_gross, how='left', left_on='release_date', right_index=True)\n",
    "# yearly_genre_gross = pd.merge(yearly_gross, yearly_genre_gross, how='left', left_index=True, right_on='release_date') # only for comparison\n",
    "# yearly_genre_gross = pd.merge(yearly_genre_gross, yearly_gross, how='left', left_index=True, right_on=('release_date',)) # NOTE could not merge single index on multi settings such that keep multi-index of left\n",
    "yearly_genre_gross['share'] = yearly_genre_gross.total_yearly_genre_gross / yearly_genre_gross.total_gross_per_year\n",
    "\n",
    "# 5 - calculate avg share on gross per genre\n",
    "avg_share_gross_per_genre = yearly_genre_gross.groupby('genre', observed=False).agg({'total_yearly_genre_gross':'sum', 'share':'mean'})\n",
    "avg_share_gross_per_genre = avg_share_gross_per_genre.reset_index().sort_values(['share'], ascending=False)\n",
    "avg_share_gross_per_genre = avg_share_gross_per_genre.rename(columns={'total_yearly_genre_gross':'gross'})\n",
    "\n",
    "# result\n",
    "avg_share_gross_per_genre\n"
   ]
  },
  {
   "cell_type": "markdown",
   "id": "08811999",
   "metadata": {},
   "source": [
    "#### Checks"
   ]
  },
  {
   "cell_type": "code",
   "execution_count": 611,
   "id": "8fe01887",
   "metadata": {},
   "outputs": [
    {
     "data": {
      "text/plain": [
       "np.True_"
      ]
     },
     "execution_count": 611,
     "metadata": {},
     "output_type": "execute_result"
    }
   ],
   "source": [
    "# Do the shares add up to 1.0?\n",
    "avg_share_gross_per_genre.share.sum() == 1.0"
   ]
  },
  {
   "cell_type": "code",
   "execution_count": 612,
   "id": "2fd3d8b2",
   "metadata": {},
   "outputs": [
    {
     "data": {
      "application/vnd.microsoft.datawrangler.viewer.v0+json": {
       "columns": [
        {
         "name": "('release_date', 'genre')",
         "rawType": "object",
         "type": "unknown"
        },
        {
         "name": "total_yearly_genre_gross",
         "rawType": "int64",
         "type": "integer"
        },
        {
         "name": "total_gross_per_year",
         "rawType": "int64",
         "type": "integer"
        },
        {
         "name": "share",
         "rawType": "float64",
         "type": "float"
        }
       ],
       "conversionMethod": "pd.DataFrame",
       "ref": "e0d184a9-f1f3-4b0f-8410-44ea80f6bdb2",
       "rows": [
        [
         "(Timestamp('1989-12-31 00:00:00'), 'action')",
         "546077538",
         "3789149349",
         "0.14411612942733865"
        ],
        [
         "(Timestamp('1989-12-31 00:00:00'), 'adventure')",
         "474171806",
         "3789149349",
         "0.1251393815145184"
        ],
        [
         "(Timestamp('1989-12-31 00:00:00'), 'animation')",
         "222300000",
         "3789149349",
         "0.05866752126269911"
        ],
        [
         "(Timestamp('1989-12-31 00:00:00'), 'comedy')",
         "875539850",
         "3789149349",
         "0.23106501469282678"
        ],
        [
         "(Timestamp('1989-12-31 00:00:00'), 'crime')",
         "71079915",
         "3789149349",
         "0.018758805328894942"
        ],
        [
         "(Timestamp('1989-12-31 00:00:00'), 'drama')",
         "416195832",
         "3789149349",
         "0.10983885660506859"
        ],
        [
         "(Timestamp('1989-12-31 00:00:00'), 'family')",
         "301982710",
         "3789149349",
         "0.07969670292349303"
        ],
        [
         "(Timestamp('1989-12-31 00:00:00'), 'fantasy')",
         "0",
         "3789149349",
         "0.0"
        ],
        [
         "(Timestamp('1989-12-31 00:00:00'), 'history')",
         "0",
         "3789149349",
         "0.0"
        ],
        [
         "(Timestamp('1989-12-31 00:00:00'), 'horror')",
         "0",
         "3789149349",
         "0.0"
        ],
        [
         "(Timestamp('1989-12-31 00:00:00'), 'mystery')",
         "0",
         "3789149349",
         "0.0"
        ],
        [
         "(Timestamp('1989-12-31 00:00:00'), 'romance')",
         "388800000",
         "3789149349",
         "0.10260878212747375"
        ],
        [
         "(Timestamp('1989-12-31 00:00:00'), 'science fiction')",
         "332000000",
         "3789149349",
         "0.08761861025288396"
        ],
        [
         "(Timestamp('1989-12-31 00:00:00'), 'thriller')",
         "0",
         "3789149349",
         "0.0"
        ],
        [
         "(Timestamp('1989-12-31 00:00:00'), 'war')",
         "161001698",
         "3789149349",
         "0.04249019586480279"
        ],
        [
         "(Timestamp('1989-12-31 00:00:00'), 'western')",
         "0",
         "3789149349",
         "0.0"
        ],
        [
         "(Timestamp('1990-12-31 00:00:00'), 'action')",
         "557476662",
         "4377241629",
         "0.12735798232078815"
        ],
        [
         "(Timestamp('1990-12-31 00:00:00'), 'adventure')",
         "157920733",
         "4377241629",
         "0.03607768233623367"
        ],
        [
         "(Timestamp('1990-12-31 00:00:00'), 'animation')",
         "0",
         "4377241629",
         "0.0"
        ],
        [
         "(Timestamp('1990-12-31 00:00:00'), 'comedy')",
         "138700000",
         "4377241629",
         "0.031686621794211216"
        ],
        [
         "(Timestamp('1990-12-31 00:00:00'), 'crime')",
         "325041914",
         "4377241629",
         "0.07425724726881418"
        ],
        [
         "(Timestamp('1990-12-31 00:00:00'), 'drama')",
         "251042934",
         "4377241629",
         "0.057351856552034085"
        ],
        [
         "(Timestamp('1990-12-31 00:00:00'), 'family')",
         "792812258",
         "4377241629",
         "0.18112142878918966"
        ],
        [
         "(Timestamp('1990-12-31 00:00:00'), 'fantasy')",
         "0",
         "4377241629",
         "0.0"
        ],
        [
         "(Timestamp('1990-12-31 00:00:00'), 'history')",
         "0",
         "4377241629",
         "0.0"
        ],
        [
         "(Timestamp('1990-12-31 00:00:00'), 'horror')",
         "61489265",
         "4377241629",
         "0.014047491596676488"
        ],
        [
         "(Timestamp('1990-12-31 00:00:00'), 'mystery')",
         "0",
         "4377241629",
         "0.0"
        ],
        [
         "(Timestamp('1990-12-31 00:00:00'), 'romance')",
         "463000000",
         "4377241629",
         "0.10577437556394947"
        ],
        [
         "(Timestamp('1990-12-31 00:00:00'), 'science fiction')",
         "261317921",
         "4377241629",
         "0.05969922228389737"
        ],
        [
         "(Timestamp('1990-12-31 00:00:00'), 'thriller')",
         "944231094",
         "4377241629",
         "0.21571372431083127"
        ],
        [
         "(Timestamp('1990-12-31 00:00:00'), 'war')",
         "0",
         "4377241629",
         "0.0"
        ],
        [
         "(Timestamp('1990-12-31 00:00:00'), 'western')",
         "424208848",
         "4377241629",
         "0.09691236718337443"
        ],
        [
         "(Timestamp('1991-12-31 00:00:00'), 'action')",
         "78600000",
         "3737789555",
         "0.021028471197597962"
        ],
        [
         "(Timestamp('1991-12-31 00:00:00'), 'adventure')",
         "390493908",
         "3737789555",
         "0.10447188164396269"
        ],
        [
         "(Timestamp('1991-12-31 00:00:00'), 'animation')",
         "377350553",
         "3737789555",
         "0.10095553734297917"
        ],
        [
         "(Timestamp('1991-12-31 00:00:00'), 'comedy')",
         "734760882",
         "3737789555",
         "0.19657631099565742"
        ],
        [
         "(Timestamp('1991-12-31 00:00:00'), 'crime')",
         "455042922",
         "3737789555",
         "0.12174118293826737"
        ],
        [
         "(Timestamp('1991-12-31 00:00:00'), 'drama')",
         "467304503",
         "3737789555",
         "0.12502161936187442"
        ],
        [
         "(Timestamp('1991-12-31 00:00:00'), 'family')",
         "300854823",
         "3737789555",
         "0.08049003791493553"
        ],
        [
         "(Timestamp('1991-12-31 00:00:00'), 'fantasy')",
         "0",
         "3737789555",
         "0.0"
        ],
        [
         "(Timestamp('1991-12-31 00:00:00'), 'history')",
         "0",
         "3737789555",
         "0.0"
        ],
        [
         "(Timestamp('1991-12-31 00:00:00'), 'horror')",
         "0",
         "3737789555",
         "0.0"
        ],
        [
         "(Timestamp('1991-12-31 00:00:00'), 'mystery')",
         "152368585",
         "3737789555",
         "0.04076435624798037"
        ],
        [
         "(Timestamp('1991-12-31 00:00:00'), 'romance')",
         "164113379",
         "3737789555",
         "0.04390653261376563"
        ],
        [
         "(Timestamp('1991-12-31 00:00:00'), 'science fiction')",
         "616900000",
         "3737789555",
         "0.16504406974297942"
        ],
        [
         "(Timestamp('1991-12-31 00:00:00'), 'thriller')",
         "0",
         "3737789555",
         "0.0"
        ],
        [
         "(Timestamp('1991-12-31 00:00:00'), 'war')",
         "0",
         "3737789555",
         "0.0"
        ],
        [
         "(Timestamp('1991-12-31 00:00:00'), 'western')",
         "0",
         "3737789555",
         "0.0"
        ],
        [
         "(Timestamp('1992-12-31 00:00:00'), 'action')",
         "1244807262",
         "4163421545",
         "0.2989866023763395"
        ],
        [
         "(Timestamp('1992-12-31 00:00:00'), 'adventure')",
         "0",
         "4163421545",
         "0.0"
        ]
       ],
       "shape": {
        "columns": 3,
        "rows": 100
       }
      },
      "text/html": [
       "<div>\n",
       "<style scoped>\n",
       "    .dataframe tbody tr th:only-of-type {\n",
       "        vertical-align: middle;\n",
       "    }\n",
       "\n",
       "    .dataframe tbody tr th {\n",
       "        vertical-align: top;\n",
       "    }\n",
       "\n",
       "    .dataframe thead th {\n",
       "        text-align: right;\n",
       "    }\n",
       "</style>\n",
       "<table border=\"1\" class=\"dataframe\">\n",
       "  <thead>\n",
       "    <tr style=\"text-align: right;\">\n",
       "      <th></th>\n",
       "      <th></th>\n",
       "      <th>total_yearly_genre_gross</th>\n",
       "      <th>total_gross_per_year</th>\n",
       "      <th>share</th>\n",
       "    </tr>\n",
       "    <tr>\n",
       "      <th>release_date</th>\n",
       "      <th>genre</th>\n",
       "      <th></th>\n",
       "      <th></th>\n",
       "      <th></th>\n",
       "    </tr>\n",
       "  </thead>\n",
       "  <tbody>\n",
       "    <tr>\n",
       "      <th rowspan=\"5\" valign=\"top\">1989-12-31</th>\n",
       "      <th>action</th>\n",
       "      <td>546077538</td>\n",
       "      <td>3789149349</td>\n",
       "      <td>0.144116</td>\n",
       "    </tr>\n",
       "    <tr>\n",
       "      <th>adventure</th>\n",
       "      <td>474171806</td>\n",
       "      <td>3789149349</td>\n",
       "      <td>0.125139</td>\n",
       "    </tr>\n",
       "    <tr>\n",
       "      <th>animation</th>\n",
       "      <td>222300000</td>\n",
       "      <td>3789149349</td>\n",
       "      <td>0.058668</td>\n",
       "    </tr>\n",
       "    <tr>\n",
       "      <th>comedy</th>\n",
       "      <td>875539850</td>\n",
       "      <td>3789149349</td>\n",
       "      <td>0.231065</td>\n",
       "    </tr>\n",
       "    <tr>\n",
       "      <th>crime</th>\n",
       "      <td>71079915</td>\n",
       "      <td>3789149349</td>\n",
       "      <td>0.018759</td>\n",
       "    </tr>\n",
       "    <tr>\n",
       "      <th>...</th>\n",
       "      <th>...</th>\n",
       "      <td>...</td>\n",
       "      <td>...</td>\n",
       "      <td>...</td>\n",
       "    </tr>\n",
       "    <tr>\n",
       "      <th>1994-12-31</th>\n",
       "      <th>western</th>\n",
       "      <td>0</td>\n",
       "      <td>5379738587</td>\n",
       "      <td>0.000000</td>\n",
       "    </tr>\n",
       "    <tr>\n",
       "      <th rowspan=\"4\" valign=\"top\">1995-12-31</th>\n",
       "      <th>action</th>\n",
       "      <td>1490253257</td>\n",
       "      <td>4734773855</td>\n",
       "      <td>0.314746</td>\n",
       "    </tr>\n",
       "    <tr>\n",
       "      <th>adventure</th>\n",
       "      <td>0</td>\n",
       "      <td>4734773855</td>\n",
       "      <td>0.000000</td>\n",
       "    </tr>\n",
       "    <tr>\n",
       "      <th>animation</th>\n",
       "      <td>719633806</td>\n",
       "      <td>4734773855</td>\n",
       "      <td>0.151989</td>\n",
       "    </tr>\n",
       "    <tr>\n",
       "      <th>comedy</th>\n",
       "      <td>475566066</td>\n",
       "      <td>4734773855</td>\n",
       "      <td>0.100441</td>\n",
       "    </tr>\n",
       "  </tbody>\n",
       "</table>\n",
       "<p>100 rows × 3 columns</p>\n",
       "</div>"
      ],
      "text/plain": [
       "                        total_yearly_genre_gross  total_gross_per_year  \\\n",
       "release_date genre                                                       \n",
       "1989-12-31   action                    546077538            3789149349   \n",
       "             adventure                 474171806            3789149349   \n",
       "             animation                 222300000            3789149349   \n",
       "             comedy                    875539850            3789149349   \n",
       "             crime                      71079915            3789149349   \n",
       "...                                          ...                   ...   \n",
       "1994-12-31   western                           0            5379738587   \n",
       "1995-12-31   action                   1490253257            4734773855   \n",
       "             adventure                         0            4734773855   \n",
       "             animation                 719633806            4734773855   \n",
       "             comedy                    475566066            4734773855   \n",
       "\n",
       "                           share  \n",
       "release_date genre                \n",
       "1989-12-31   action     0.144116  \n",
       "             adventure  0.125139  \n",
       "             animation  0.058668  \n",
       "             comedy     0.231065  \n",
       "             crime      0.018759  \n",
       "...                          ...  \n",
       "1994-12-31   western    0.000000  \n",
       "1995-12-31   action     0.314746  \n",
       "             adventure  0.000000  \n",
       "             animation  0.151989  \n",
       "             comedy     0.100441  \n",
       "\n",
       "[100 rows x 3 columns]"
      ]
     },
     "execution_count": 612,
     "metadata": {},
     "output_type": "execute_result"
    }
   ],
   "source": [
    "# Are there genres with 0 share in 1989?\n",
    "# TODO - How to access multiple elements in this multi-index dataframe?\n",
    "yearly_genre_gross.head(100)"
   ]
  },
  {
   "cell_type": "markdown",
   "id": "f0416bd7",
   "metadata": {},
   "source": [
    "# Snippets"
   ]
  },
  {
   "cell_type": "code",
   "execution_count": 613,
   "id": "55996192",
   "metadata": {},
   "outputs": [
    {
     "data": {
      "text/plain": [
       "np.False_"
      ]
     },
     "execution_count": 613,
     "metadata": {},
     "output_type": "execute_result"
    }
   ],
   "source": [
    "df = pd.DataFrame({'A': [1, 1, 2]}, columns=['A'])\n",
    "\n",
    "df.A.mean() == (1+0+0+1+2)/5"
   ]
  },
  {
   "cell_type": "code",
   "execution_count": 614,
   "id": "db3970ee",
   "metadata": {},
   "outputs": [
    {
     "name": "stdout",
     "output_type": "stream",
     "text": [
      "Single-Level Index DataFrame:\n",
      "     value_single\n",
      "key              \n",
      "A               1\n",
      "B               2\n",
      "C               3\n",
      "\n",
      "\n",
      "Multi-Level Index DataFrame:\n",
      "               value_multi\n",
      "level1 level2             \n",
      "X      A                 4\n",
      "       B                 5\n",
      "Y      A                 6\n",
      "       C                 7\n",
      "\n",
      "\n",
      "Merged DataFrame (inner join on level2):\n",
      "               value_single  value_multi\n",
      "level1 level2                           \n",
      "X      A                  1            4\n",
      "Y      A                  1            6\n",
      "X      B                  2            5\n",
      "Y      C                  3            7\n",
      "\n",
      "\n",
      "Merged DataFrame (left join on level2 - alternative):\n",
      "               value_single  value_multi\n",
      "level1 level2                           \n",
      "X      A                  1            4\n",
      "Y      A                  1            6\n",
      "X      B                  2            5\n",
      "Y      C                  3            7\n",
      "\n",
      "\n"
     ]
    }
   ],
   "source": [
    "import pandas as pd\n",
    "\n",
    "# DataFrame with single-level index\n",
    "df_single = pd.DataFrame({'key': ['A', 'B', 'C'], 'value_single': [1, 2, 3]})\n",
    "df_single = df_single.set_index('key')\n",
    "print(\"Single-Level Index DataFrame:\")\n",
    "print(df_single)\n",
    "print(\"\\n\")\n",
    "\n",
    "# DataFrame with multi-level index\n",
    "index_multi = pd.MultiIndex.from_tuples([('X', 'A'), ('X', 'B'), ('Y', 'A'), ('Y', 'C')], names=['level1', 'level2'])\n",
    "df_multi = pd.DataFrame({'value_multi': [4, 5, 6, 7]}, index=index_multi)\n",
    "print(\"Multi-Level Index DataFrame:\")\n",
    "print(df_multi)\n",
    "print(\"\\n\")\n",
    "\n",
    "# Join df_single to df_multi based on the 'key' index of df_single\n",
    "# and the 'level2' of df_multi's index\n",
    "df_merged = pd.merge(df_single, df_multi, left_index=True, right_on='level2', how='inner')\n",
    "print(\"Merged DataFrame (inner join on level2):\")\n",
    "print(df_merged)\n",
    "print(\"\\n\")\n",
    "\n",
    "# Join df_single to df_multi based on the 'key' index of df_single\n",
    "# and the 'level2' of df_multi's index (alternative using level number)\n",
    "df_merged_alt = pd.merge(df_single, df_multi, left_index=True, right_on=('level2',), how='left')\n",
    "print(\"Merged DataFrame (left join on level2 - alternative):\")\n",
    "print(df_merged_alt)\n",
    "print(\"\\n\")"
   ]
  },
  {
   "cell_type": "code",
   "execution_count": 615,
   "id": "fa9c3582",
   "metadata": {},
   "outputs": [
    {
     "name": "stdout",
     "output_type": "stream",
     "text": [
      "   col1  col2\n",
      "A    10    40\n",
      "B    20    50\n",
      "C    30    60\n",
      "\n",
      "Row with index 'B':\n",
      "col1    20\n",
      "col2    50\n",
      "Name: B, dtype: int64\n",
      "<class 'pandas.core.series.Series'>\n"
     ]
    }
   ],
   "source": [
    "data = {'col1': [10, 20, 30], 'col2': [40, 50, 60]}\n",
    "index_names = ['A', 'B', 'C']\n",
    "df = pd.DataFrame(data, index=index_names)\n",
    "\n",
    "print(df)\n",
    "print(\"\\nRow with index 'B':\")\n",
    "print(df.loc['B'])\n",
    "print(type(df.loc['B']))"
   ]
  },
  {
   "cell_type": "markdown",
   "id": "a971d9d0",
   "metadata": {},
   "source": [
    "# Naming Conventions"
   ]
  },
  {
   "cell_type": "markdown",
   "id": "7c0fcdee",
   "metadata": {},
   "source": [
    "groupBy\n",
    "- name data frames according to what the describe\n",
    "- prefix for groupby: gby_"
   ]
  }
 ],
 "metadata": {
  "kernelspec": {
   "display_name": "base_data_analysis",
   "language": "python",
   "name": "python3"
  },
  "language_info": {
   "codemirror_mode": {
    "name": "ipython",
    "version": 3
   },
   "file_extension": ".py",
   "mimetype": "text/x-python",
   "name": "python",
   "nbconvert_exporter": "python",
   "pygments_lexer": "ipython3",
   "version": "3.12.3"
  }
 },
 "nbformat": 4,
 "nbformat_minor": 5
}
