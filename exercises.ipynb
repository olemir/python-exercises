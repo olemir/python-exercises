{
 "cells": [
  {
   "cell_type": "markdown",
   "metadata": {},
   "source": [
    "# Exercises for Sprint 2"
   ]
  },
  {
   "cell_type": "markdown",
   "metadata": {},
   "source": [
    "## Writing Expressions with Variables"
   ]
  },
  {
   "cell_type": "markdown",
   "metadata": {},
   "source": [
    "### Exercise 1"
   ]
  },
  {
   "cell_type": "code",
   "execution_count": 1,
   "metadata": {},
   "outputs": [
    {
     "name": "stdout",
     "output_type": "stream",
     "text": [
      "Oliver\n"
     ]
    }
   ],
   "source": [
    "my_name = 'Oliver'\n",
    "print(my_name)"
   ]
  },
  {
   "cell_type": "markdown",
   "metadata": {},
   "source": [
    "### Exercise 2"
   ]
  },
  {
   "cell_type": "code",
   "execution_count": 2,
   "metadata": {},
   "outputs": [
    {
     "name": "stdout",
     "output_type": "stream",
     "text": [
      "33\n"
     ]
    }
   ],
   "source": [
    "age = 33\n",
    "print(age)"
   ]
  },
  {
   "cell_type": "markdown",
   "metadata": {},
   "source": [
    "### Exercise 3"
   ]
  },
  {
   "cell_type": "code",
   "execution_count": 3,
   "metadata": {},
   "outputs": [
    {
     "name": "stdout",
     "output_type": "stream",
     "text": [
      "My age is 33\n",
      "The age difference to Julia is 1\n"
     ]
    }
   ],
   "source": [
    "julia_age = 32\n",
    "age_diff = age - julia_age\n",
    "print('My age is', age)\n",
    "print('The age difference to Julia is',age_diff)"
   ]
  },
  {
   "cell_type": "markdown",
   "metadata": {},
   "source": [
    "## Writing Code with Conditionals"
   ]
  },
  {
   "cell_type": "markdown",
   "metadata": {},
   "source": [
    "### Exercise 5"
   ]
  },
  {
   "cell_type": "code",
   "execution_count": 4,
   "metadata": {},
   "outputs": [
    {
     "name": "stdout",
     "output_type": "stream",
     "text": [
      "Julia is younger than you\n"
     ]
    }
   ],
   "source": [
    "if age < julia_age:\n",
    "    print(\"Julia is older than you\")\n",
    "elif age > julia_age:\n",
    "    print(\"Julia is younger than you\")\n",
    "else:\n",
    "    print(\"You are the same age as Julia\")"
   ]
  },
  {
   "cell_type": "markdown",
   "metadata": {},
   "source": [
    "## Lists and Loops"
   ]
  },
  {
   "cell_type": "markdown",
   "metadata": {},
   "source": [
    "### Exercise 6 & 7"
   ]
  },
  {
   "cell_type": "code",
   "execution_count": 5,
   "metadata": {},
   "outputs": [
    {
     "name": "stdout",
     "output_type": "stream",
     "text": [
      "['beatrice', 'jakob', 'laura', 'marina', 'oliver', 'victor']\n",
      "beatrice\n",
      "victor\n"
     ]
    }
   ],
   "source": [
    "axolotls = ['oliver','beatrice','jakob','laura','marina','victor']\n",
    "axolotls.sort()\n",
    "print(axolotls)\n",
    "print(axolotls[0])\n",
    "print(axolotls[-1])"
   ]
  },
  {
   "cell_type": "markdown",
   "metadata": {},
   "source": [
    "### Exercise 8 & 9"
   ]
  },
  {
   "cell_type": "code",
   "execution_count": 6,
   "metadata": {},
   "outputs": [
    {
     "name": "stdout",
     "output_type": "stream",
     "text": [
      "1\n",
      "2435\n"
     ]
    }
   ],
   "source": [
    "numbers = [1,214,2435,5,13,5,1,92]\n",
    "numbers.sort()\n",
    "print(numbers[0])\n",
    "print(numbers[-1])"
   ]
  },
  {
   "cell_type": "code",
   "execution_count": 7,
   "metadata": {},
   "outputs": [
    {
     "name": "stdout",
     "output_type": "stream",
     "text": [
      "1\n",
      "2435\n"
     ]
    }
   ],
   "source": [
    "print(min(numbers))\n",
    "print(max(numbers))"
   ]
  },
  {
   "cell_type": "markdown",
   "metadata": {},
   "source": [
    "### Exercise 10 \n",
    "\n",
    "Print the age of the customer year of birth list."
   ]
  },
  {
   "cell_type": "code",
   "execution_count": 2,
   "metadata": {},
   "outputs": [
    {
     "name": "stdout",
     "output_type": "stream",
     "text": [
      "26\n",
      "30\n",
      "20\n",
      "15\n",
      "18\n",
      "19\n",
      "31\n",
      "29\n",
      "46\n",
      "17\n"
     ]
    }
   ],
   "source": [
    "from datetime import datetime\n",
    "\n",
    "age_of_customers = [1999, 1995, 2005, 2010, 2007, 2006, 1994, 1996, 1979, 2008]\n",
    "current_year = datetime.now().year\n",
    "\n",
    "for age_of_customer in age_of_customers:\n",
    "    print(current_year-age_of_customer)"
   ]
  },
  {
   "cell_type": "markdown",
   "metadata": {},
   "source": [
    "### Exercise 11 \n",
    "Print the name and age of each customer of a customer list."
   ]
  },
  {
   "cell_type": "code",
   "execution_count": null,
   "metadata": {},
   "outputs": [
    {
     "name": "stdout",
     "output_type": "stream",
     "text": [
      "Bob is 26 years old\n",
      "Jack is 30 years old\n",
      "Lisa is 20 years old\n",
      "Maria is 15 years old\n",
      "Ben is 18 years old\n",
      "Emma is 19 years old\n",
      "Oscar is 31 years old\n",
      "Amy is 29 years old\n",
      "Paul is 46 years old\n",
      "Etta is 17 years old\n",
      "\n",
      "Bob is 26 years old\n",
      "skip entry, because non-valid customer data.\n",
      "Ben is 18 years old\n",
      "skip entry, because non-valid customer data.\n",
      "skip entry, because non-valid customer data.\n"
     ]
    }
   ],
   "source": [
    "def is_customer(customer):\n",
    "    \"\"\"\n",
    "    checks if customer dict contains the required information for whatever we are doing here\n",
    "    \"\"\"\n",
    "    return (type(customer) is dict) and ('name' in customer) and ('age' in customer)\n",
    "\n",
    "def print_customer_list(customer_list):\n",
    "    \"\"\" \n",
    "    Print name and age of all customers in a customer list.\n",
    "    Skip customers with incomplete data.\n",
    "\n",
    "    Parameter\n",
    "    ---------\n",
    "    customer_list : list\n",
    "        List of customers\n",
    "\n",
    "    Returns\n",
    "    ---------\n",
    "    0\n",
    "    \"\"\"\n",
    "    current_year = datetime.now().year # REVIEW put this here?\n",
    "    #all(map(is_customer, customer_list))\n",
    "    for customer in customer_list:\n",
    "        if is_customer(customer):\n",
    "            print(f\"{customer['name']} is {current_year - customer['age']} years old\")\n",
    "        else:\n",
    "            print('skip entry, because non-valid customer data.')\n",
    "\n",
    "customer_list = [\n",
    "                    {\"name\": \"Bob\", \"age\": 1999},\n",
    "                    {\"name\": \"Jack\", \"age\": 1995},\n",
    "                    {\"name\": \"Lisa\", \"age\": 2005},\n",
    "                    {\"name\": \"Maria\", \"age\": 2010},\n",
    "                    {\"name\": \"Ben\", \"age\": 2007},\n",
    "                    {\"name\": \"Emma\", \"age\": 2006},\n",
    "                    {\"name\": \"Oscar\", \"age\": 1994},\n",
    "                    {\"name\": \"Amy\", \"age\": 1996},\n",
    "                    {\"name\": \"Paul\", \"age\": 1979},\n",
    "                    {\"name\": \"Etta\", \"age\": 2008}\n",
    "                ]\n",
    "\n",
    "customer_list_incomplete = [\n",
    "                    {\"name\": \"Bob\", \"age\": 1999},\n",
    "                    {\"name\": \"Jack\"},\n",
    "                    {\"name\": \"Ben\", \"age\": 2007},\n",
    "                    {\"age\": 2006},\n",
    "                    {\"name\": \"Oscar\"},\n",
    "                ]\n",
    "\n",
    "print_customer_list(customer_list)\n",
    "print('')\n",
    "print_customer_list(customer_list_incomplete)"
   ]
  },
  {
   "cell_type": "markdown",
   "metadata": {},
   "source": [
    "### Exercise 12 - removing largest and smallest number of a list\n",
    "\n",
    "Removing the largest and smallest number of a list"
   ]
  },
  {
   "cell_type": "code",
   "execution_count": 16,
   "metadata": {},
   "outputs": [
    {
     "name": "stdout",
     "output_type": "stream",
     "text": [
      "[20, 24, 14, 12, 13, 25, 23, 11]\n"
     ]
    }
   ],
   "source": [
    "# REVIEW error handling very tough without defining ages as an object?\n",
    "\n",
    "# danger: If there is no oldest / youngest then the first element will be deleted\n",
    "# Only First appearance will be deleted; TODO: remove all appearances\n",
    "\n",
    "def remove_youngest(ages: list[float]) -> bool:\n",
    "    '''\n",
    "    remove smallest appearing number(s)\n",
    "    function does not use min/max\n",
    "    assume ages contains only floats\n",
    "    if all ages are equal, the first will be removed\n",
    "\n",
    "    -----------\n",
    "    Returns\n",
    "    True: youngest was removed successfully\n",
    "    False: youngest could not be determined and was not removed\n",
    "    '''\n",
    "    \n",
    "    # if list is empty, there is no youngest\n",
    "    if len(ages) == 0:\n",
    "        return False\n",
    "\n",
    "    # remove youngest\n",
    "    check = True\n",
    "    try:\n",
    "        ages_min = min(ages)\n",
    "    except Exception:\n",
    "        check = False\n",
    "        print('Could not find youngest in list!')\n",
    "    else:\n",
    "        ages.remove(ages_min)\n",
    "    return check\n",
    "\n",
    "def remove_oldest(ages: list[int]) -> bool:\n",
    "    '''\n",
    "    remove largest number in array\n",
    "    assume list contains only floats\n",
    "    function does not use min/max\n",
    "    if all ages are equal, the first will be removed\n",
    "\n",
    "    -----------\n",
    "    Returns\n",
    "    True: oldest was removed successfully\n",
    "    False: oldest could not be determined and was not removed\n",
    "    '''\n",
    "    \n",
    "    # if list is empty, there is no youngest\n",
    "    if len(ages) == 0:\n",
    "        return False\n",
    "\n",
    "    # remove oldest\n",
    "    check = True\n",
    "    try:\n",
    "        age_max = max(ages)\n",
    "    except Exception:\n",
    "        check = False\n",
    "        print('Could not get oldest from list!')\n",
    "    else:\n",
    "        ages.remove(age_max)\n",
    "\n",
    "    return check\n",
    "\n",
    "ages = [20, 24, 14, 9, 12, 13, 25, 23, 40, 11]\n",
    "\n",
    "if remove_oldest(ages) and remove_youngest(ages):\n",
    "    print(ages)\n",
    "else:\n",
    "    print(\"there's an error somewhere\")"
   ]
  },
  {
   "cell_type": "code",
   "execution_count": 17,
   "metadata": {},
   "outputs": [
    {
     "name": "stdout",
     "output_type": "stream",
     "text": [
      "Could not find youngest in list!\n",
      "there's an error somewhere\n"
     ]
    }
   ],
   "source": [
    "# Test\n",
    "# Test shows that not all inputs are handled and the function assumptions have to be refined\n",
    "ages_error = ['20', 24, '14', 9, 12, 13, 25, 23, '40', 11]\n",
    "\n",
    "# TODO How to check list for the right types?\n",
    "if remove_youngest(ages_error) and remove_oldest(ages_error):\n",
    "    print(ages_error)\n",
    "else:\n",
    "    print(\"there's an error somewhere\")"
   ]
  },
  {
   "cell_type": "code",
   "execution_count": 12,
   "metadata": {},
   "outputs": [
    {
     "name": "stdout",
     "output_type": "stream",
     "text": [
      "ValueError: x not in list! Continue\n",
      "nothing was removed\n"
     ]
    }
   ],
   "source": [
    "# Exception experiments\n",
    "# REVIEW - What happens to Exception Object when it is caught? Reset? \n",
    "\n",
    "ages = [20, 24, 14, 9, 12, 13, 25, 23, 40, 11]\n",
    "\n",
    "try:\n",
    "    ages.remove(\"20\")\n",
    "except ValueError:\n",
    "#except Exception as err:\n",
    "    print('ValueError: x not in list! Continue')\n",
    "else:\n",
    "    print('all gut')\n",
    "finally:\n",
    "    print(\"nothing was removed\")\n"
   ]
  },
  {
   "cell_type": "markdown",
   "metadata": {},
   "source": [
    "### Exercise 13 - intersection of lists\n",
    "\n",
    "create intersection of lists"
   ]
  },
  {
   "cell_type": "markdown",
   "metadata": {},
   "source": [
    "#### Solution 1"
   ]
  },
  {
   "cell_type": "code",
   "execution_count": null,
   "metadata": {},
   "outputs": [],
   "source": [
    "berlin = [15, 13, 16, 18, 19, 10, 12]\n",
    "munich = [7, 13, 15, 20, 19, 18, 10, 16]"
   ]
  },
  {
   "cell_type": "code",
   "execution_count": 27,
   "metadata": {},
   "outputs": [
    {
     "name": "stdout",
     "output_type": "stream",
     "text": [
      "11.4 μs ± 2.57 μs per loop (mean ± std. dev. of 7 runs, 100,000 loops each)\n"
     ]
    }
   ],
   "source": [
    "%%timeit\n",
    "\n",
    "# Exercise 13.1 - create intersection of lists\n",
    "\n",
    "# Test: empty intersection\n",
    "# berlin = [15]\n",
    "# munich = [21]\n",
    "\n",
    "def intersect_lists(list1: list[float], list2: list[float]) -> list[float]:\n",
    "    '''\n",
    "    intersect two lists of different lengths with values ordered by appearance\n",
    "    duplicates will only appear once\n",
    "    '''\n",
    "    intersection = []\n",
    "    # define sets to speed up\n",
    "    set1 = set(list1)\n",
    "    set2 = set(list2)\n",
    "    # iterate list 1\n",
    "    for item1 in set1:\n",
    "        if item1 in set2 and item1 not in intersection:\n",
    "            intersection.append(item1)\n",
    "    # iterate list 2\n",
    "    for item2 in set2:\n",
    "        if item2 in set1 and item2 not in intersection:\n",
    "            intersection.append(item2)\n",
    "    \n",
    "    return intersection\n",
    "\n",
    "intersection = intersect_lists(berlin,munich)\n",
    "\n",
    "intersection"
   ]
  },
  {
   "cell_type": "markdown",
   "metadata": {},
   "source": [
    "#### Solution 2"
   ]
  },
  {
   "cell_type": "code",
   "execution_count": 28,
   "metadata": {},
   "outputs": [
    {
     "name": "stdout",
     "output_type": "stream",
     "text": [
      "9.82 μs ± 1.35 μs per loop (mean ± std. dev. of 7 runs, 100,000 loops each)\n"
     ]
    }
   ],
   "source": [
    "%%timeit\n",
    "\n",
    "# Exercise 13.2 - create intersection of lists\n",
    "# it's a bit slower than 13.1\n",
    "\n",
    "# Test: empty intersection\n",
    "# berlin = [15]\n",
    "# munich = [21]\n",
    "\n",
    "def intersect_lists(list1: list[float], list2: list[float]) -> list[float]:\n",
    "    '''\n",
    "    intersect two lists of different lengths with values ordered by appearance\n",
    "    duplicates will only appear once\n",
    "    '''\n",
    "    intersection = []\n",
    "    # iterate list 1\n",
    "    for item1 in list1:\n",
    "        if item1 in list2 and item1 not in intersection:\n",
    "            intersection.append(item1)\n",
    "    # iterate list 2\n",
    "    for item2 in list2:\n",
    "        if item2 in list1 and item2 not in intersection:\n",
    "            intersection.append(item2)\n",
    "    \n",
    "    return intersection\n",
    "\n",
    "intersection = intersect_lists(berlin,munich)\n",
    "\n",
    "intersection"
   ]
  },
  {
   "cell_type": "markdown",
   "metadata": {},
   "source": [
    "#### Solution 3"
   ]
  },
  {
   "cell_type": "code",
   "execution_count": 29,
   "metadata": {},
   "outputs": [
    {
     "name": "stdout",
     "output_type": "stream",
     "text": [
      "4.43 μs ± 532 ns per loop (mean ± std. dev. of 7 runs, 100,000 loops each)\n"
     ]
    }
   ],
   "source": [
    "%%timeit\n",
    "\n",
    "# Exercise 13.3 - create intersection of lists\n",
    "\n",
    "# Test: empty intersection\n",
    "#berlin = [15]\n",
    "#munich = [21]\n",
    "\n",
    "def intersect_lists_sorted(list1: list[float], list2: list[float]) -> list[float]:\n",
    "    '''\n",
    "    intersect two lists of different lengths with values in ascending order\n",
    "    '''\n",
    "    return list(set(list1).intersection(list2))\n",
    "\n",
    "intersection = intersect_lists_sorted(berlin,munich)\n",
    "\n",
    "intersection"
   ]
  },
  {
   "cell_type": "markdown",
   "metadata": {},
   "source": [
    "### Exercise 14 - removing duplicates"
   ]
  },
  {
   "cell_type": "markdown",
   "metadata": {},
   "source": [
    "#### using a set"
   ]
  },
  {
   "cell_type": "code",
   "execution_count": 16,
   "metadata": {},
   "outputs": [
    {
     "name": "stdout",
     "output_type": "stream",
     "text": [
      "[10, 13, 15, 16, 18, 19]\n"
     ]
    }
   ],
   "source": [
    "# Exercise 14.1 - removing duplicates\n",
    "# using a set; problem: the list will be sorted\n",
    "\n",
    "ages = [15, 13, 16, 18, 19, 15, 10]\n",
    "\n",
    "def remove_duplicates(some_list):\n",
    "    '''\n",
    "    remove duplicates from list with arbitrary content\n",
    "    reorders list in ascending order\n",
    "    '''\n",
    "    return list(set(some_list))\n",
    "\n",
    "ages_unique = remove_duplicates(ages)\n",
    "print(ages_unique)\n"
   ]
  },
  {
   "cell_type": "markdown",
   "metadata": {},
   "source": [
    "#### using dictionary"
   ]
  },
  {
   "cell_type": "code",
   "execution_count": 17,
   "metadata": {},
   "outputs": [
    {
     "name": "stdout",
     "output_type": "stream",
     "text": [
      "[15, 13, 16, 18, 19, 10]\n"
     ]
    }
   ],
   "source": [
    "# Exercise 14.2 - removing duplicates\n",
    "# using a dictionary will keep the order\n",
    "\n",
    "ages = [15, 13, 16, 18, 19, 15, 10]\n",
    "\n",
    "def remove_duplicates_2(some_list):\n",
    "    '''\n",
    "    remove duplicates from list with arbitrary content\n",
    "    keeps list order\n",
    "    restrictions to dictionary keys apply!\n",
    "    '''\n",
    "    return list(dict.fromkeys(ages))\n",
    "\n",
    "ages_unique = remove_duplicates_2(ages)\n",
    "print(ages_unique)"
   ]
  },
  {
   "cell_type": "markdown",
   "metadata": {},
   "source": [
    "#### using a for loop to build a new list"
   ]
  },
  {
   "cell_type": "code",
   "execution_count": 18,
   "metadata": {},
   "outputs": [
    {
     "name": "stdout",
     "output_type": "stream",
     "text": [
      "[15, 13, 16, 18, 19, 10]\n"
     ]
    }
   ],
   "source": [
    "# Exercise 14.3 - removing duplicates\n",
    "# using a for loop: simply build a second list\n",
    "\n",
    "ages = [15, 13, 16, 18, 19, 15, 10]\n",
    "\n",
    "def remove_duplicates_3(some_list):\n",
    "    '''\n",
    "    remove duplicates from list with arbitrary content\n",
    "    keeps list order\n",
    "    '''\n",
    "    some_list_unique = []\n",
    "    for item in some_list:\n",
    "        if item not in some_list_unique:\n",
    "            some_list_unique.append(item)\n",
    "    return some_list_unique\n",
    "\n",
    "ages_unique = remove_duplicates_3(ages)\n",
    "\n",
    "print(ages_unique)\n"
   ]
  },
  {
   "cell_type": "markdown",
   "metadata": {},
   "source": [
    "#### The C++ way"
   ]
  },
  {
   "cell_type": "code",
   "execution_count": 19,
   "metadata": {},
   "outputs": [
    {
     "name": "stdout",
     "output_type": "stream",
     "text": [
      "[15, 13, 16, 18, 19, 10]\n"
     ]
    }
   ],
   "source": [
    "# Exercise 14.4 - removing duplicates\n",
    "# removing items in a double for loop: c++ way\n",
    "\n",
    "ages = [15, 13, 16, 18, 19, 15, 10]\n",
    "\n",
    "def remove_duplicates_4(some_list):\n",
    "    '''\n",
    "    remove duplicates from list with comparable content\n",
    "    '''\n",
    "    i=0\n",
    "    j=0\n",
    "    while i < len(some_list):\n",
    "        while j < len(some_list):\n",
    "            if i!=j and some_list[i]==some_list[j]:\n",
    "                some_list.pop(j)\n",
    "            j = j+1\n",
    "        i=i+1\n",
    "\n",
    "remove_duplicates_4(ages)\n",
    "print(ages_unique)"
   ]
  },
  {
   "cell_type": "markdown",
   "metadata": {},
   "source": [
    "## Functions"
   ]
  },
  {
   "cell_type": "markdown",
   "metadata": {},
   "source": [
    "### Exercise 15 - Function"
   ]
  },
  {
   "cell_type": "code",
   "execution_count": 20,
   "metadata": {},
   "outputs": [
    {
     "name": "stdout",
     "output_type": "stream",
     "text": [
      "Welcome Evelyn, have a nice day!\n",
      "Welcome Jost, have a nice day!\n"
     ]
    }
   ],
   "source": [
    "# Exercise 15 - Function\n",
    "\n",
    "def welcome(name):\n",
    "    print(f\"Welcome {name}, have a nice day!\")\n",
    "\n",
    "welcome('Evelyn') # would print- 'Welcome Evelyn, have a nice day!'\n",
    "welcome('Jost') # would print - 'Welcome Jost, have a nice day!'\n"
   ]
  },
  {
   "cell_type": "markdown",
   "metadata": {},
   "source": [
    "### Exercise 16"
   ]
  },
  {
   "cell_type": "code",
   "execution_count": 21,
   "metadata": {},
   "outputs": [
    {
     "name": "stdout",
     "output_type": "stream",
     "text": [
      "5\n",
      "2\n"
     ]
    }
   ],
   "source": [
    "def print_length(string):\n",
    "    print(len(string))\n",
    "\n",
    "print_length('Hello') # would print / return 5.\n",
    "print_length('Hi') # would print / return 2."
   ]
  },
  {
   "cell_type": "markdown",
   "metadata": {},
   "source": [
    "### Exercise 17"
   ]
  },
  {
   "cell_type": "code",
   "execution_count": 22,
   "metadata": {},
   "outputs": [
    {
     "name": "stdout",
     "output_type": "stream",
     "text": [
      "yes\n",
      "no\n"
     ]
    }
   ],
   "source": [
    "def check_even(num):\n",
    "    print('yes' if num%2 == 0 else 'no')\n",
    "\n",
    "check_even(6)\n",
    "check_even(5)\n"
   ]
  },
  {
   "cell_type": "markdown",
   "metadata": {},
   "source": [
    "### Exercise 19"
   ]
  },
  {
   "cell_type": "code",
   "execution_count": null,
   "metadata": {},
   "outputs": [
    {
     "name": "stdout",
     "output_type": "stream",
     "text": [
      "True\n",
      "False\n",
      "False\n",
      "True\n"
     ]
    }
   ],
   "source": [
    "# Write a function that takes a list of integers and also a single integer as inputs. It should return true or false if the single integer value is present or not in the list.\n",
    "\n",
    "def is_in_list(list_of_anything, something):\n",
    "    return something in list_of_anything\n",
    "\n",
    "test    = [1,3,5,11,66,35,17,1,4,9,10]\n",
    "test_2  = [1,3,5,11,66,35,17,1,4,9,[1, \"s\"]]\n",
    "\n",
    "print(is_in_list(test, 4))\n",
    "print(is_in_list(test, 12356))\n",
    "print(is_in_list(test, \"10000\"))\n",
    "print(is_in_list(test_2, [1, \"s\"]))"
   ]
  },
  {
   "cell_type": "markdown",
   "metadata": {},
   "source": [
    "## Hamming Distance\n",
    "\n",
    "Evolution as a Sequence of Mistakes\n",
    "\n",
    "* Problem: Given two strings s and t of equal length, the Hamming distance between s and t, denoted dh(s, t), is the number of corresponding symbols that differ in s and t. \n",
    "* Given: Two DNA strings s and t of equal length (not exceeding 1 kbp).\n",
    "* Return: The Hamming distance dh(s, t)"
   ]
  },
  {
   "cell_type": "code",
   "execution_count": null,
   "metadata": {},
   "outputs": [
    {
     "name": "stdout",
     "output_type": "stream",
     "text": [
      "True\n"
     ]
    }
   ],
   "source": [
    "# %%timeit\n",
    "\n",
    "def dh(s: str, t: str) -> int:\n",
    "    '''\n",
    "    return the Hamming distance, i.e. the number of corresponding symbols that differ of two strings\n",
    "    '''\n",
    "    if len(s) != len(t):\n",
    "        raise Exception(\"dh: strings do not correspond to each other.\")\n",
    "    # calc hamming distance\n",
    "    return sum([i!=j for i,j in zip(s, t, strict=True)])\n",
    "\n",
    "s = 'GAGCCTACTAACGGGAT'\n",
    "t = 'CATCGTAATGACGGCCI'\n",
    "\n",
    "print(dh(s,t) == 8)"
   ]
  },
  {
   "cell_type": "code",
   "execution_count": 25,
   "metadata": {},
   "outputs": [
    {
     "ename": "Exception",
     "evalue": "dh: strings have to be of equal length.",
     "output_type": "error",
     "traceback": [
      "\u001b[31m---------------------------------------------------------------------------\u001b[39m",
      "\u001b[31mException\u001b[39m                                 Traceback (most recent call last)",
      "\u001b[36mCell\u001b[39m\u001b[36m \u001b[39m\u001b[32mIn[25]\u001b[39m\u001b[32m, line 4\u001b[39m\n\u001b[32m      2\u001b[39m s = \u001b[33m'\u001b[39m\u001b[33mGAGCCTACTAACGT\u001b[39m\u001b[33m'\u001b[39m\n\u001b[32m      3\u001b[39m t = \u001b[33m'\u001b[39m\u001b[33mCATCGTAATGACGGCCI\u001b[39m\u001b[33m'\u001b[39m\n\u001b[32m----> \u001b[39m\u001b[32m4\u001b[39m \u001b[43mdh\u001b[49m\u001b[43m(\u001b[49m\u001b[43ms\u001b[49m\u001b[43m,\u001b[49m\u001b[43mt\u001b[49m\u001b[43m)\u001b[49m\n",
      "\u001b[36mCell\u001b[39m\u001b[36m \u001b[39m\u001b[32mIn[22]\u001b[39m\u001b[32m, line 6\u001b[39m, in \u001b[36mdh\u001b[39m\u001b[34m(s, t)\u001b[39m\n\u001b[32m      2\u001b[39m \u001b[38;5;250m\u001b[39m\u001b[33;03m'''\u001b[39;00m\n\u001b[32m      3\u001b[39m \u001b[33;03mreturn the Hamming distance, i.e. the number of corresponding symbols that differ of two strings\u001b[39;00m\n\u001b[32m      4\u001b[39m \u001b[33;03m'''\u001b[39;00m\n\u001b[32m      5\u001b[39m \u001b[38;5;28;01mif\u001b[39;00m \u001b[38;5;28mlen\u001b[39m(s) != \u001b[38;5;28mlen\u001b[39m(t):\n\u001b[32m----> \u001b[39m\u001b[32m6\u001b[39m     \u001b[38;5;28;01mraise\u001b[39;00m \u001b[38;5;167;01mException\u001b[39;00m(\u001b[33m\"\u001b[39m\u001b[33mdh: strings have to be of equal length.\u001b[39m\u001b[33m\"\u001b[39m)\n\u001b[32m      7\u001b[39m \u001b[38;5;66;03m# calc hamming distance\u001b[39;00m\n\u001b[32m      8\u001b[39m \u001b[38;5;66;03m# dh = 0\u001b[39;00m\n\u001b[32m      9\u001b[39m \u001b[38;5;66;03m# for i,c in enumerate(s):\u001b[39;00m\n\u001b[32m     10\u001b[39m \u001b[38;5;66;03m#     if c != t[i]:\u001b[39;00m\n\u001b[32m     11\u001b[39m \u001b[38;5;66;03m#         dh = dh + 1\u001b[39;00m\n\u001b[32m     12\u001b[39m \u001b[38;5;66;03m#return dh\u001b[39;00m\n\u001b[32m     13\u001b[39m \u001b[38;5;28;01mreturn\u001b[39;00m \u001b[38;5;28msum\u001b[39m([i!=j \u001b[38;5;28;01mfor\u001b[39;00m i,j \u001b[38;5;129;01min\u001b[39;00m \u001b[38;5;28mzip\u001b[39m(s,t)])\n",
      "\u001b[31mException\u001b[39m: dh: strings have to be of equal length."
     ]
    }
   ],
   "source": [
    "# Test\n",
    "s = 'GAGCCTACTAACGT'\n",
    "t = 'CATCGTAATGACGGCCI'\n",
    "dh(s,t)"
   ]
  },
  {
   "cell_type": "code",
   "execution_count": 6,
   "metadata": {},
   "outputs": [],
   "source": [
    "# does not seem to work; maybe another kernel is needed\n",
    "# # %debug"
   ]
  },
  {
   "cell_type": "code",
   "execution_count": 8,
   "metadata": {},
   "outputs": [
    {
     "name": "stdout",
     "output_type": "stream",
     "text": [
      "The Zen of Python, by Tim Peters\n",
      "\n",
      "Beautiful is better than ugly.\n",
      "Explicit is better than implicit.\n",
      "Simple is better than complex.\n",
      "Complex is better than complicated.\n",
      "Flat is better than nested.\n",
      "Sparse is better than dense.\n",
      "Readability counts.\n",
      "Special cases aren't special enough to break the rules.\n",
      "Although practicality beats purity.\n",
      "Errors should never pass silently.\n",
      "Unless explicitly silenced.\n",
      "In the face of ambiguity, refuse the temptation to guess.\n",
      "There should be one-- and preferably only one --obvious way to do it.\n",
      "Although that way may not be obvious at first unless you're Dutch.\n",
      "Now is better than never.\n",
      "Although never is often better than *right* now.\n",
      "If the implementation is hard to explain, it's a bad idea.\n",
      "If the implementation is easy to explain, it may be a good idea.\n",
      "Namespaces are one honking great idea -- let's do more of those!\n"
     ]
    }
   ],
   "source": [
    "import this"
   ]
  },
  {
   "cell_type": "code",
   "execution_count": null,
   "metadata": {},
   "outputs": [],
   "source": []
  }
 ],
 "metadata": {
  "kernelspec": {
   "display_name": "base_data_analysis",
   "language": "python",
   "name": "python3"
  },
  "language_info": {
   "codemirror_mode": {
    "name": "ipython",
    "version": 3
   },
   "file_extension": ".py",
   "mimetype": "text/x-python",
   "name": "python",
   "nbconvert_exporter": "python",
   "pygments_lexer": "ipython3",
   "version": "3.12.9"
  }
 },
 "nbformat": 4,
 "nbformat_minor": 2
}
